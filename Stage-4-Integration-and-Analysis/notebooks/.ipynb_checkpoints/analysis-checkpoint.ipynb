{
 "cells": [
  {
   "cell_type": "code",
   "execution_count": 65,
   "metadata": {
    "collapsed": true
   },
   "outputs": [],
   "source": [
    "import numpy as np\n",
    "import pandas as pd"
   ]
  },
  {
   "cell_type": "markdown",
   "metadata": {},
   "source": [
    "Load the car csv table"
   ]
  },
  {
   "cell_type": "code",
   "execution_count": 66,
   "metadata": {
    "collapsed": true
   },
   "outputs": [],
   "source": [
    "car_data_table = pd.read_csv(\"../data/cars_com_clean.csv\")"
   ]
  },
  {
   "cell_type": "code",
   "execution_count": 67,
   "metadata": {},
   "outputs": [
    {
     "name": "stdout",
     "output_type": "stream",
     "text": [
      "                                name  year          maker    price  \\\n",
      "0  2010 Mercedes-Benz  GL 450 4MATIC  2010  Mercedes-Benz  15614.0   \n",
      "1         2015 Mercedes-Benz  ML 350  2015  Mercedes-Benz  29998.0   \n",
      "2   2013 Mercedes-Benz  E 350 4MATIC  2013  Mercedes-Benz  16500.0   \n",
      "\n",
      "           seller_name    seller_phone     miles exterior_color  \\\n",
      "0  Kayser Ford Lincoln  (608) 807-5359  107545.0          Black   \n",
      "1       CarMax Madison  (608) 286-3923   36642.0           Gray   \n",
      "2     Lexus of Madison  (608) 478-2660   80614.0          Black   \n",
      "\n",
      "  interior_color            transmission drivetrain                vin  id  \n",
      "0       Cashmere       7-Speed Automatic        AWD  4JGBF7BEXAA543808   0  \n",
      "1          Black  7-Speed Automatic w/OD        AWD  4JGDA5HB7FA445741   1  \n",
      "2          Black       7-Speed Automatic        AWD  WDDHF8JB7DA667069   2  \n"
     ]
    }
   ],
   "source": [
    "print (car_data_table.head(3))"
   ]
  },
  {
   "cell_type": "markdown",
   "metadata": {
    "collapsed": true
   },
   "source": [
    "We compare three luxury cars in the same level including Mercedes-Benz E350, BMW 530, Audi A6. First, we extract these cars from the table. We study the correlation between the car prices versus year.\n",
    "\n",
    "1. Extract the Benz E350 data"
   ]
  },
  {
   "cell_type": "code",
   "execution_count": 68,
   "metadata": {},
   "outputs": [
    {
     "data": {
      "text/plain": [
       "(85, 13)"
      ]
     },
     "execution_count": 68,
     "metadata": {},
     "output_type": "execute_result"
    }
   ],
   "source": [
    "benz_cars = car_data_table.query('maker == \"Mercedes-Benz\"')\n",
    "benz_E350 = benz_cars[benz_cars['name'].str.contains('E 350')].dropna(subset=['price'])\n",
    "benz_E350.shape"
   ]
  },
  {
   "cell_type": "markdown",
   "metadata": {},
   "source": [
    "Find the year atrtibutes in the benz_E350 car dataset."
   ]
  },
  {
   "cell_type": "code",
   "execution_count": 69,
   "metadata": {},
   "outputs": [],
   "source": [
    "benz_years = benz_E350.groupby(['year']).groups.keys()"
   ]
  },
  {
   "cell_type": "code",
   "execution_count": 70,
   "metadata": {},
   "outputs": [
    {
     "data": {
      "text/html": [
       "<div>\n",
       "<style scoped>\n",
       "    .dataframe tbody tr th:only-of-type {\n",
       "        vertical-align: middle;\n",
       "    }\n",
       "\n",
       "    .dataframe tbody tr th {\n",
       "        vertical-align: top;\n",
       "    }\n",
       "\n",
       "    .dataframe thead tr th {\n",
       "        text-align: left;\n",
       "    }\n",
       "\n",
       "    .dataframe thead tr:last-of-type th {\n",
       "        text-align: right;\n",
       "    }\n",
       "</style>\n",
       "<table border=\"1\" class=\"dataframe\">\n",
       "  <thead>\n",
       "    <tr>\n",
       "      <th></th>\n",
       "      <th colspan=\"3\" halign=\"left\">price</th>\n",
       "    </tr>\n",
       "    <tr>\n",
       "      <th></th>\n",
       "      <th>min_car_price</th>\n",
       "      <th>max__car_price</th>\n",
       "      <th>mean_car_price</th>\n",
       "    </tr>\n",
       "    <tr>\n",
       "      <th>year</th>\n",
       "      <th></th>\n",
       "      <th></th>\n",
       "      <th></th>\n",
       "    </tr>\n",
       "  </thead>\n",
       "  <tbody>\n",
       "    <tr>\n",
       "      <th>2006</th>\n",
       "      <td>8950.0</td>\n",
       "      <td>8950.0</td>\n",
       "      <td>8950.000000</td>\n",
       "    </tr>\n",
       "    <tr>\n",
       "      <th>2008</th>\n",
       "      <td>8500.0</td>\n",
       "      <td>11995.0</td>\n",
       "      <td>10247.500000</td>\n",
       "    </tr>\n",
       "    <tr>\n",
       "      <th>2010</th>\n",
       "      <td>17985.0</td>\n",
       "      <td>17985.0</td>\n",
       "      <td>17985.000000</td>\n",
       "    </tr>\n",
       "    <tr>\n",
       "      <th>2012</th>\n",
       "      <td>20730.0</td>\n",
       "      <td>20730.0</td>\n",
       "      <td>20730.000000</td>\n",
       "    </tr>\n",
       "    <tr>\n",
       "      <th>2013</th>\n",
       "      <td>14995.0</td>\n",
       "      <td>28500.0</td>\n",
       "      <td>19972.875000</td>\n",
       "    </tr>\n",
       "    <tr>\n",
       "      <th>2014</th>\n",
       "      <td>19990.0</td>\n",
       "      <td>33995.0</td>\n",
       "      <td>26293.500000</td>\n",
       "    </tr>\n",
       "    <tr>\n",
       "      <th>2015</th>\n",
       "      <td>29855.0</td>\n",
       "      <td>34396.0</td>\n",
       "      <td>31552.750000</td>\n",
       "    </tr>\n",
       "    <tr>\n",
       "      <th>2016</th>\n",
       "      <td>33480.0</td>\n",
       "      <td>37980.0</td>\n",
       "      <td>36230.000000</td>\n",
       "    </tr>\n",
       "    <tr>\n",
       "      <th>2017</th>\n",
       "      <td>45000.0</td>\n",
       "      <td>71999.0</td>\n",
       "      <td>54226.700000</td>\n",
       "    </tr>\n",
       "    <tr>\n",
       "      <th>2018</th>\n",
       "      <td>60590.0</td>\n",
       "      <td>70075.0</td>\n",
       "      <td>64682.708333</td>\n",
       "    </tr>\n",
       "  </tbody>\n",
       "</table>\n",
       "</div>"
      ],
      "text/plain": [
       "             price                              \n",
       "     min_car_price max__car_price mean_car_price\n",
       "year                                            \n",
       "2006        8950.0         8950.0    8950.000000\n",
       "2008        8500.0        11995.0   10247.500000\n",
       "2010       17985.0        17985.0   17985.000000\n",
       "2012       20730.0        20730.0   20730.000000\n",
       "2013       14995.0        28500.0   19972.875000\n",
       "2014       19990.0        33995.0   26293.500000\n",
       "2015       29855.0        34396.0   31552.750000\n",
       "2016       33480.0        37980.0   36230.000000\n",
       "2017       45000.0        71999.0   54226.700000\n",
       "2018       60590.0        70075.0   64682.708333"
      ]
     },
     "execution_count": 70,
     "metadata": {},
     "output_type": "execute_result"
    }
   ],
   "source": [
    "benz_E350.groupby('year').agg({\"price\":[min, max, 'mean']}).rename(columns={\"min\":\"min_car_price\", \"max\":\"max__car_price\", \"mean\":\"mean_car_price\"})"
   ]
  },
  {
   "cell_type": "markdown",
   "metadata": {},
   "source": [
    "Similarly, we perform the query and analysis on BMW 535."
   ]
  },
  {
   "cell_type": "code",
   "execution_count": 71,
   "metadata": {},
   "outputs": [
    {
     "data": {
      "text/html": [
       "<div>\n",
       "<style scoped>\n",
       "    .dataframe tbody tr th:only-of-type {\n",
       "        vertical-align: middle;\n",
       "    }\n",
       "\n",
       "    .dataframe tbody tr th {\n",
       "        vertical-align: top;\n",
       "    }\n",
       "\n",
       "    .dataframe thead tr th {\n",
       "        text-align: left;\n",
       "    }\n",
       "\n",
       "    .dataframe thead tr:last-of-type th {\n",
       "        text-align: right;\n",
       "    }\n",
       "</style>\n",
       "<table border=\"1\" class=\"dataframe\">\n",
       "  <thead>\n",
       "    <tr>\n",
       "      <th></th>\n",
       "      <th colspan=\"3\" halign=\"left\">price</th>\n",
       "    </tr>\n",
       "    <tr>\n",
       "      <th></th>\n",
       "      <th>min_car_price</th>\n",
       "      <th>max__car_price</th>\n",
       "      <th>mean_car_price</th>\n",
       "    </tr>\n",
       "    <tr>\n",
       "      <th>year</th>\n",
       "      <th></th>\n",
       "      <th></th>\n",
       "      <th></th>\n",
       "    </tr>\n",
       "  </thead>\n",
       "  <tbody>\n",
       "    <tr>\n",
       "      <th>2008</th>\n",
       "      <td>8777.0</td>\n",
       "      <td>8777.0</td>\n",
       "      <td>8777.000000</td>\n",
       "    </tr>\n",
       "    <tr>\n",
       "      <th>2009</th>\n",
       "      <td>10995.0</td>\n",
       "      <td>10995.0</td>\n",
       "      <td>10995.000000</td>\n",
       "    </tr>\n",
       "    <tr>\n",
       "      <th>2010</th>\n",
       "      <td>9990.0</td>\n",
       "      <td>13785.0</td>\n",
       "      <td>11756.666667</td>\n",
       "    </tr>\n",
       "    <tr>\n",
       "      <th>2011</th>\n",
       "      <td>12776.0</td>\n",
       "      <td>27995.0</td>\n",
       "      <td>15944.888889</td>\n",
       "    </tr>\n",
       "    <tr>\n",
       "      <th>2013</th>\n",
       "      <td>18863.0</td>\n",
       "      <td>22990.0</td>\n",
       "      <td>20282.666667</td>\n",
       "    </tr>\n",
       "    <tr>\n",
       "      <th>2014</th>\n",
       "      <td>27480.0</td>\n",
       "      <td>28990.0</td>\n",
       "      <td>28235.000000</td>\n",
       "    </tr>\n",
       "    <tr>\n",
       "      <th>2015</th>\n",
       "      <td>26899.0</td>\n",
       "      <td>35985.0</td>\n",
       "      <td>32460.357143</td>\n",
       "    </tr>\n",
       "    <tr>\n",
       "      <th>2016</th>\n",
       "      <td>32230.0</td>\n",
       "      <td>46622.0</td>\n",
       "      <td>39943.250000</td>\n",
       "    </tr>\n",
       "    <tr>\n",
       "      <th>2017</th>\n",
       "      <td>62422.0</td>\n",
       "      <td>62422.0</td>\n",
       "      <td>62422.000000</td>\n",
       "    </tr>\n",
       "  </tbody>\n",
       "</table>\n",
       "</div>"
      ],
      "text/plain": [
       "             price                              \n",
       "     min_car_price max__car_price mean_car_price\n",
       "year                                            \n",
       "2008        8777.0         8777.0    8777.000000\n",
       "2009       10995.0        10995.0   10995.000000\n",
       "2010        9990.0        13785.0   11756.666667\n",
       "2011       12776.0        27995.0   15944.888889\n",
       "2013       18863.0        22990.0   20282.666667\n",
       "2014       27480.0        28990.0   28235.000000\n",
       "2015       26899.0        35985.0   32460.357143\n",
       "2016       32230.0        46622.0   39943.250000\n",
       "2017       62422.0        62422.0   62422.000000"
      ]
     },
     "execution_count": 71,
     "metadata": {},
     "output_type": "execute_result"
    }
   ],
   "source": [
    "BMW_cars = car_data_table.query('maker == \"BMW\"')\n",
    "BMW_535 = BMW_cars[BMW_cars['name'].str.contains('535')].dropna(subset=['price'])\n",
    "BMW_years = BMW_535.groupby(['year']).groups.keys()\n",
    "BMW_535.groupby('year').agg({\"price\":[min, max, 'mean']}).rename(columns={\"min\":\"min_car_price\", \"max\":\"max__car_price\", \"mean\":\"mean_car_price\"})"
   ]
  },
  {
   "cell_type": "markdown",
   "metadata": {},
   "source": [
    "Similarly, we perform the query and analysis on Audi A6."
   ]
  },
  {
   "cell_type": "code",
   "execution_count": 72,
   "metadata": {},
   "outputs": [
    {
     "data": {
      "text/html": [
       "<div>\n",
       "<style scoped>\n",
       "    .dataframe tbody tr th:only-of-type {\n",
       "        vertical-align: middle;\n",
       "    }\n",
       "\n",
       "    .dataframe tbody tr th {\n",
       "        vertical-align: top;\n",
       "    }\n",
       "\n",
       "    .dataframe thead tr th {\n",
       "        text-align: left;\n",
       "    }\n",
       "\n",
       "    .dataframe thead tr:last-of-type th {\n",
       "        text-align: right;\n",
       "    }\n",
       "</style>\n",
       "<table border=\"1\" class=\"dataframe\">\n",
       "  <thead>\n",
       "    <tr>\n",
       "      <th></th>\n",
       "      <th colspan=\"3\" halign=\"left\">price</th>\n",
       "    </tr>\n",
       "    <tr>\n",
       "      <th></th>\n",
       "      <th>min_car_price</th>\n",
       "      <th>max__car_price</th>\n",
       "      <th>mean_car_price</th>\n",
       "    </tr>\n",
       "    <tr>\n",
       "      <th>year</th>\n",
       "      <th></th>\n",
       "      <th></th>\n",
       "      <th></th>\n",
       "    </tr>\n",
       "  </thead>\n",
       "  <tbody>\n",
       "    <tr>\n",
       "      <th>2006</th>\n",
       "      <td>7499.0</td>\n",
       "      <td>8479.0</td>\n",
       "      <td>7989.000000</td>\n",
       "    </tr>\n",
       "    <tr>\n",
       "      <th>2008</th>\n",
       "      <td>8350.0</td>\n",
       "      <td>8350.0</td>\n",
       "      <td>8350.000000</td>\n",
       "    </tr>\n",
       "    <tr>\n",
       "      <th>2011</th>\n",
       "      <td>14588.0</td>\n",
       "      <td>14588.0</td>\n",
       "      <td>14588.000000</td>\n",
       "    </tr>\n",
       "    <tr>\n",
       "      <th>2013</th>\n",
       "      <td>15995.0</td>\n",
       "      <td>16767.0</td>\n",
       "      <td>16381.000000</td>\n",
       "    </tr>\n",
       "    <tr>\n",
       "      <th>2014</th>\n",
       "      <td>19499.0</td>\n",
       "      <td>36998.0</td>\n",
       "      <td>27249.416667</td>\n",
       "    </tr>\n",
       "    <tr>\n",
       "      <th>2015</th>\n",
       "      <td>27000.0</td>\n",
       "      <td>35998.0</td>\n",
       "      <td>30707.363636</td>\n",
       "    </tr>\n",
       "    <tr>\n",
       "      <th>2016</th>\n",
       "      <td>30730.0</td>\n",
       "      <td>58879.0</td>\n",
       "      <td>38851.857143</td>\n",
       "    </tr>\n",
       "    <tr>\n",
       "      <th>2017</th>\n",
       "      <td>40730.0</td>\n",
       "      <td>68535.0</td>\n",
       "      <td>51181.250000</td>\n",
       "    </tr>\n",
       "    <tr>\n",
       "      <th>2018</th>\n",
       "      <td>39995.0</td>\n",
       "      <td>68260.0</td>\n",
       "      <td>60550.931034</td>\n",
       "    </tr>\n",
       "  </tbody>\n",
       "</table>\n",
       "</div>"
      ],
      "text/plain": [
       "             price                              \n",
       "     min_car_price max__car_price mean_car_price\n",
       "year                                            \n",
       "2006        7499.0         8479.0    7989.000000\n",
       "2008        8350.0         8350.0    8350.000000\n",
       "2011       14588.0        14588.0   14588.000000\n",
       "2013       15995.0        16767.0   16381.000000\n",
       "2014       19499.0        36998.0   27249.416667\n",
       "2015       27000.0        35998.0   30707.363636\n",
       "2016       30730.0        58879.0   38851.857143\n",
       "2017       40730.0        68535.0   51181.250000\n",
       "2018       39995.0        68260.0   60550.931034"
      ]
     },
     "execution_count": 72,
     "metadata": {},
     "output_type": "execute_result"
    }
   ],
   "source": [
    "Audi_cars = car_data_table.query('maker == \"Audi\"')\n",
    "Audi_A6 = Audi_cars[Audi_cars['name'].str.contains('A6')].dropna(subset=['price'])\n",
    "Audi_years = Audi_A6.groupby(['year']).groups.keys()\n",
    "Audi_A6.groupby('year').agg({\"price\":[min, max, 'mean']}).rename(columns={\"min\":\"min_car_price\", \"max\":\"max__car_price\", \"mean\":\"mean_car_price\"})"
   ]
  },
  {
   "cell_type": "code",
   "execution_count": null,
   "metadata": {
    "collapsed": true
   },
   "outputs": [],
   "source": []
  }
 ],
 "metadata": {
  "kernelspec": {
   "display_name": "python-python3env",
   "language": "python",
   "name": "python3env"
  },
  "language_info": {
   "codemirror_mode": {
    "name": "ipython",
    "version": 3
   },
   "file_extension": ".py",
   "mimetype": "text/x-python",
   "name": "python",
   "nbconvert_exporter": "python",
   "pygments_lexer": "ipython3",
   "version": "3.6.3"
  }
 },
 "nbformat": 4,
 "nbformat_minor": 2
}
