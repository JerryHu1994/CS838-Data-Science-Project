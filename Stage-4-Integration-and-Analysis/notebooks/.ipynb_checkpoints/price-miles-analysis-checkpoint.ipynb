{
 "cells": [
  {
   "cell_type": "code",
   "execution_count": 154,
   "metadata": {
    "collapsed": true
   },
   "outputs": [],
   "source": [
    "import numpy as np\n",
    "import pandas as pd\n",
    "import matplotlib as plt\n",
    "from sklearn.preprocessing import PolynomialFeatures"
   ]
  },
  {
   "cell_type": "markdown",
   "metadata": {},
   "source": [
    "First, we load the car dataset from csv."
   ]
  },
  {
   "cell_type": "code",
   "execution_count": 155,
   "metadata": {
    "collapsed": true
   },
   "outputs": [],
   "source": [
    "car_data_table = pd.read_csv('../data/cars_com_clean.csv')"
   ]
  },
  {
   "cell_type": "code",
   "execution_count": 156,
   "metadata": {},
   "outputs": [
    {
     "data": {
      "text/html": [
       "<div>\n",
       "<style scoped>\n",
       "    .dataframe tbody tr th:only-of-type {\n",
       "        vertical-align: middle;\n",
       "    }\n",
       "\n",
       "    .dataframe tbody tr th {\n",
       "        vertical-align: top;\n",
       "    }\n",
       "\n",
       "    .dataframe thead th {\n",
       "        text-align: right;\n",
       "    }\n",
       "</style>\n",
       "<table border=\"1\" class=\"dataframe\">\n",
       "  <thead>\n",
       "    <tr style=\"text-align: right;\">\n",
       "      <th></th>\n",
       "      <th>name</th>\n",
       "      <th>year</th>\n",
       "      <th>maker</th>\n",
       "      <th>price</th>\n",
       "      <th>seller_name</th>\n",
       "      <th>seller_phone</th>\n",
       "      <th>miles</th>\n",
       "      <th>exterior_color</th>\n",
       "      <th>interior_color</th>\n",
       "      <th>transmission</th>\n",
       "      <th>drivetrain</th>\n",
       "      <th>vin</th>\n",
       "      <th>id</th>\n",
       "    </tr>\n",
       "  </thead>\n",
       "  <tbody>\n",
       "    <tr>\n",
       "      <th>0</th>\n",
       "      <td>2010 Mercedes-Benz  GL 450 4MATIC</td>\n",
       "      <td>2010</td>\n",
       "      <td>Mercedes-Benz</td>\n",
       "      <td>15614.0</td>\n",
       "      <td>Kayser Ford Lincoln</td>\n",
       "      <td>(608) 807-5359</td>\n",
       "      <td>107545.0</td>\n",
       "      <td>Black</td>\n",
       "      <td>Cashmere</td>\n",
       "      <td>7-Speed Automatic</td>\n",
       "      <td>AWD</td>\n",
       "      <td>4JGBF7BEXAA543808</td>\n",
       "      <td>0</td>\n",
       "    </tr>\n",
       "    <tr>\n",
       "      <th>1</th>\n",
       "      <td>2015 Mercedes-Benz  ML 350</td>\n",
       "      <td>2015</td>\n",
       "      <td>Mercedes-Benz</td>\n",
       "      <td>29998.0</td>\n",
       "      <td>CarMax Madison</td>\n",
       "      <td>(608) 286-3923</td>\n",
       "      <td>36642.0</td>\n",
       "      <td>Gray</td>\n",
       "      <td>Black</td>\n",
       "      <td>7-Speed Automatic w/OD</td>\n",
       "      <td>AWD</td>\n",
       "      <td>4JGDA5HB7FA445741</td>\n",
       "      <td>1</td>\n",
       "    </tr>\n",
       "    <tr>\n",
       "      <th>2</th>\n",
       "      <td>2013 Mercedes-Benz  E 350 4MATIC</td>\n",
       "      <td>2013</td>\n",
       "      <td>Mercedes-Benz</td>\n",
       "      <td>16500.0</td>\n",
       "      <td>Lexus of Madison</td>\n",
       "      <td>(608) 478-2660</td>\n",
       "      <td>80614.0</td>\n",
       "      <td>Black</td>\n",
       "      <td>Black</td>\n",
       "      <td>7-Speed Automatic</td>\n",
       "      <td>AWD</td>\n",
       "      <td>WDDHF8JB7DA667069</td>\n",
       "      <td>2</td>\n",
       "    </tr>\n",
       "    <tr>\n",
       "      <th>3</th>\n",
       "      <td>2015 Mercedes-Benz  C 300</td>\n",
       "      <td>2015</td>\n",
       "      <td>Mercedes-Benz</td>\n",
       "      <td>26988.0</td>\n",
       "      <td>Zimbrick Hyundai Eastside</td>\n",
       "      <td>(608) 338-1462</td>\n",
       "      <td>30090.0</td>\n",
       "      <td>Black</td>\n",
       "      <td>Black</td>\n",
       "      <td>7-Speed A/T</td>\n",
       "      <td>All Wheel Drive</td>\n",
       "      <td>55SWF4KB2FU026106</td>\n",
       "      <td>3</td>\n",
       "    </tr>\n",
       "    <tr>\n",
       "      <th>4</th>\n",
       "      <td>2015 Mercedes-Benz  SLK 250</td>\n",
       "      <td>2015</td>\n",
       "      <td>Mercedes-Benz</td>\n",
       "      <td>29988.0</td>\n",
       "      <td>Zimbrick Hyundai Eastside</td>\n",
       "      <td>(608) 338-1462</td>\n",
       "      <td>25344.0</td>\n",
       "      <td>Black</td>\n",
       "      <td>Sahara Beige</td>\n",
       "      <td>7-Speed A/T</td>\n",
       "      <td>Rear Wheel Drive</td>\n",
       "      <td>WDDPK4HA2FF108712</td>\n",
       "      <td>4</td>\n",
       "    </tr>\n",
       "  </tbody>\n",
       "</table>\n",
       "</div>"
      ],
      "text/plain": [
       "                                name  year          maker    price  \\\n",
       "0  2010 Mercedes-Benz  GL 450 4MATIC  2010  Mercedes-Benz  15614.0   \n",
       "1         2015 Mercedes-Benz  ML 350  2015  Mercedes-Benz  29998.0   \n",
       "2   2013 Mercedes-Benz  E 350 4MATIC  2013  Mercedes-Benz  16500.0   \n",
       "3          2015 Mercedes-Benz  C 300  2015  Mercedes-Benz  26988.0   \n",
       "4        2015 Mercedes-Benz  SLK 250  2015  Mercedes-Benz  29988.0   \n",
       "\n",
       "                 seller_name    seller_phone     miles exterior_color  \\\n",
       "0        Kayser Ford Lincoln  (608) 807-5359  107545.0          Black   \n",
       "1             CarMax Madison  (608) 286-3923   36642.0           Gray   \n",
       "2           Lexus of Madison  (608) 478-2660   80614.0          Black   \n",
       "3  Zimbrick Hyundai Eastside  (608) 338-1462   30090.0          Black   \n",
       "4  Zimbrick Hyundai Eastside  (608) 338-1462   25344.0          Black   \n",
       "\n",
       "  interior_color            transmission        drivetrain                vin  \\\n",
       "0       Cashmere       7-Speed Automatic               AWD  4JGBF7BEXAA543808   \n",
       "1          Black  7-Speed Automatic w/OD               AWD  4JGDA5HB7FA445741   \n",
       "2          Black       7-Speed Automatic               AWD  WDDHF8JB7DA667069   \n",
       "3          Black             7-Speed A/T   All Wheel Drive  55SWF4KB2FU026106   \n",
       "4   Sahara Beige             7-Speed A/T  Rear Wheel Drive  WDDPK4HA2FF108712   \n",
       "\n",
       "   id  \n",
       "0   0  \n",
       "1   1  \n",
       "2   2  \n",
       "3   3  \n",
       "4   4  "
      ]
     },
     "execution_count": 156,
     "metadata": {},
     "output_type": "execute_result"
    }
   ],
   "source": [
    "car_data_table.head()"
   ]
  },
  {
   "cell_type": "markdown",
   "metadata": {},
   "source": [
    "In this study, we extract and analyze the correlation between car price versus miles for three luxury car models including Benz-E350, Lexus ES 350, and Audi A6. "
   ]
  },
  {
   "cell_type": "markdown",
   "metadata": {},
   "source": [
    "First, we query and clean the data for Benz-E350."
   ]
  },
  {
   "cell_type": "code",
   "execution_count": 157,
   "metadata": {
    "scrolled": false
   },
   "outputs": [
    {
     "name": "stdout",
     "output_type": "stream",
     "text": [
      "(85, 13)\n"
     ]
    }
   ],
   "source": [
    "benz_cars = car_data_table.query('maker == \"Mercedes-Benz\"')\n",
    "benz_E350 = benz_cars[benz_cars['name'].str.contains('E 350')].dropna(subset=['price'])\n",
    "print (benz_E350.shape)\n"
   ]
  },
  {
   "cell_type": "markdown",
   "metadata": {},
   "source": [
    "For car with zero miles (meaning that the car is new), we average all new car prices, and insert a new row into the table for the new car."
   ]
  },
  {
   "cell_type": "code",
   "execution_count": 158,
   "metadata": {},
   "outputs": [
    {
     "name": "stdout",
     "output_type": "stream",
     "text": [
      "The mean new car price for Benz-E35 car is: 64793.851851851854\n",
      "(59, 13)\n"
     ]
    }
   ],
   "source": [
    "benz_E350_new = benz_E350[(benz_E350['miles'] == 0)]\n",
    "benz_E350_new_mean_price = benz_E350_new['price'].mean()\n",
    "print (\"The mean new car price for Benz-E35 car is: {}\".format(benz_E350_new_mean_price))\n",
    "benz_E350.loc[benz_E350.miles == 0, 'miles'] = np.NaN\n",
    "benz_E350 = benz_E350.dropna(subset=['miles'])\n",
    "E350_new_car_row = pd.DataFrame([['2018 Mercedes-Benz E 350 4MATIC',2018,'Mercedes-Benz',benz_E350_new_mean_price,np.NaN,np.NaN,0,np.NaN,np.NaN,np.NaN,np.NaN,np.NaN,np.NaN]],columns=benz_E350.columns)\n",
    "benz_E350 = benz_E350.append(E350_new_car_row,ignore_index=True)\n",
    "print (benz_E350.shape)"
   ]
  },
  {
   "cell_type": "markdown",
   "metadata": {},
   "source": [
    "Similarly, we query and clean the data for ES 350."
   ]
  },
  {
   "cell_type": "code",
   "execution_count": 159,
   "metadata": {},
   "outputs": [
    {
     "name": "stdout",
     "output_type": "stream",
     "text": [
      "(108, 13)\n",
      "The mean new car price for ES_350 is: 43835.565217391304\n",
      "(63, 13)\n"
     ]
    }
   ],
   "source": [
    "Lexus_cars = car_data_table.query('maker == \"Lexus\"')\n",
    "ES_350 = Lexus_cars[Lexus_cars['name'].str.contains('ES 350')].dropna(subset=['price'])\n",
    "print (ES_350.shape)\n",
    "ES_350_new = ES_350[(ES_350['miles'] == 0)]\n",
    "ES_350_new_mean_price = ES_350_new['price'].mean()\n",
    "print (\"The mean new car price for ES_350 is: {}\".format(ES_350_new_mean_price))\n",
    "ES_350.loc[ES_350.miles == 0, 'miles'] = np.NaN\n",
    "ES_350 = ES_350.dropna(subset=['miles'])\n",
    "ES_350_new_car_row = pd.DataFrame([['2018 Lexus ES 350',2018,'Lexus',ES_350_new_mean_price,np.NaN,np.NaN,0,np.NaN,np.NaN,np.NaN,np.NaN,np.NaN,np.NaN]],columns=ES_350.columns)\n",
    "ES_350 = ES_350.append(ES_350_new_car_row, ignore_index=True)\n",
    "print (ES_350.shape)\n"
   ]
  },
  {
   "cell_type": "markdown",
   "metadata": {},
   "source": [
    "Similarly, we query and clean the data for Audi A6."
   ]
  },
  {
   "cell_type": "code",
   "execution_count": 160,
   "metadata": {},
   "outputs": [
    {
     "name": "stdout",
     "output_type": "stream",
     "text": [
      "(69, 13)\n",
      "The mean new car price for Audi_A65 is: 61260.166666666664\n",
      "(40, 13)\n"
     ]
    }
   ],
   "source": [
    "Audi_cars = car_data_table.query('maker == \"Audi\"')\n",
    "Audi_A6 = Audi_cars[Audi_cars['name'].str.contains('A6')].dropna(subset=['price'])\n",
    "#Audi_A6['miles'].replace(0,np.NaN)\n",
    "Audi_A6 = Audi_A6.dropna(subset=['miles'])\n",
    "print (Audi_A6.shape)\n",
    "Audi_A6.head()\n",
    "Audi_A6_new = Audi_A6[(Audi_A6['miles'] == 0)]\n",
    "Audi_A6_new_mean_price = Audi_A6_new['price'].mean()\n",
    "print (\"The mean new car price for Audi_A65 is: {}\".format(Audi_A6_new_mean_price))\n",
    "Audi_A6.loc[Audi_A6.miles == 0, 'miles'] = np.NaN\n",
    "Audi_A6 = Audi_A6.dropna(subset=['miles'])\n",
    "Audi_A6_new_car_row = pd.DataFrame([['2018 Audi A6 Premium quattro',2018,'Audi',Audi_A6_new_mean_price,np.NaN,np.NaN,0,np.NaN,np.NaN,np.NaN,np.NaN,np.NaN,np.NaN]],columns=Audi_A6.columns)\n",
    "Audi_A6 = Audi_A6.append(Audi_A6_new_car_row, ignore_index=True)\n",
    "print (Audi_A6.shape)"
   ]
  },
  {
   "cell_type": "markdown",
   "metadata": {
    "collapsed": true
   },
   "source": [
    "We plot all three sets of car data sets. In addition, we perform a ploynomial fit all the data sets."
   ]
  },
  {
   "cell_type": "code",
   "execution_count": 173,
   "metadata": {},
   "outputs": [
    {
     "data": {
      "text/plain": [
       "[<matplotlib.lines.Line2D at 0x11582e9b0>]"
      ]
     },
     "execution_count": 173,
     "metadata": {},
     "output_type": "execute_result"
    },
    {
     "data": {
      "image/png": "[encoded data removed]",
      "text/plain": [
       "<Figure size 432x288 with 1 Axes>"
      ]
     },
     "metadata": {},
     "output_type": "display_data"
    },
    {
     "data": {
      "image/png": "[encoded data removed]",
      "text/plain": [
       "<Figure size 432x288 with 1 Axes>"
      ]
     },
     "metadata": {},
     "output_type": "display_data"
    },
    {
     "data": {
      "image/png": "[encoded data removed]",
      "text/plain": [
       "<Figure size 432x288 with 1 Axes>"
      ]
     },
     "metadata": {},
     "output_type": "display_data"
    }
   ],
   "source": [
    "# plot Benz-E350\n",
    "benz_E350.plot(x='miles', y='price', style='o',title=\"Benz-E350 Price versus Miles\")\n",
    "Benz_E350_fit = np.poly1d(np.polyfit(benz_E350['miles'], benz_E350['price'],2))\n",
    "#print (Benz_E350_fit)\n",
    "miles = np.linspace(0, 175000, 10000)\n",
    "plt.plot(miles, Benz_E350_fit(miles))\n",
    "\n",
    "# plot Lexus ES 350\n",
    "ES_350.plot(x='miles', y='price', style='o',title=\"ES-350 Price versus Miles\")\n",
    "ES_350_fit = np.poly1d(np.polyfit(ES_350['miles'], ES_350['price'],2))\n",
    "#print (ES_350_fit)\n",
    "miles = np.linspace(0, 175000, 10000)\n",
    "plt.plot(miles, ES_350_fit(miles))\n",
    "\n",
    "# plot Audi A6\n",
    "Audi_A6.plot(x='miles', y='price', style='o',title=\"Audi-A6 Price versus Miles\")\n",
    "Audi_A6_fit = np.poly1d(np.polyfit(Audi_A6['miles'], Audi_A6['price'],2))\n",
    "#print (ES_350_fit)\n",
    "miles = np.linspace(0, 125000, 10000)\n",
    "plt.plot(miles, Audi_A6_fit(miles))"
   ]
  },
  {
   "cell_type": "markdown",
   "metadata": {},
   "source": [
    "We compare the price decreasing date at different miles for three car models."
   ]
  },
  {
   "cell_type": "code",
   "execution_count": 175,
   "metadata": {},
   "outputs": [],
   "source": [
    "# Benz-E350\n",
    "Benz_decreasing_rate = np.poly1d.deriv(Benz_E350_fit)\n",
    "# Lexus-ES350\n",
    "ES_350_decreasing_rate = np.poly1d.deriv(ES_350_fit)\n",
    "# Audi-A6\n",
    "Audi_A6_decreasing_rate = np.poly1d.deriv(Audi_A6_fit)"
   ]
  },
  {
   "cell_type": "markdown",
   "metadata": {},
   "source": [
    "Finally, ww plot the decreasing rate for visualization."
   ]
  },
  {
   "cell_type": "code",
   "execution_count": 185,
   "metadata": {},
   "outputs": [
    {
     "data": {
      "text/plain": [
       "Text(0.5,1,'Car price decreasing rate for Benz-E350, Lexus-ES350 and Audi-A6')"
      ]
     },
     "execution_count": 185,
     "metadata": {},
     "output_type": "execute_result"
    },
    {
     "data": {
      "image/png": "[encoded data removed]",
      "text/plain": [
       "<Figure size 432x288 with 1 Axes>"
      ]
     },
     "metadata": {},
     "output_type": "display_data"
    }
   ],
   "source": [
    "miles = [20000, 40000, 60000, 80000, 100000]\n",
    "Benz_decreasing_rates = [-Benz_decreasing_rate(i) for i in miles]\n",
    "ES_350_decreasing_rates = [-ES_350_decreasing_rate(i) for i in miles]\n",
    "Audi_A6_decreasing_rates = [-Audi_A6_decreasing_rate(i) for i in miles]\n",
    "fig, ax = plt.subplots()\n",
    "index = np.arange(len(miles))\n",
    "\n",
    "bar_width = 0.3\n",
    "plt.bar(index, Benz_decreasing_rates, bar_width, color='b')\n",
    "plt.bar(index+bar_width, ES_350_decreasing_rates, bar_width, color='g')\n",
    "plt.bar(index+2*bar_width, Audi_A6_decreasing_rates, bar_width, color='r')\n",
    "plt.xticks(index, miles)\n",
    "ax.legend(['Benz-E350','Lexus-ES350', 'Audi-A6'])\n",
    "ax.set_title('Car price decreasing rate for Benz-E350, Lexus-ES350 and Audi-A6')"
   ]
  },
  {
   "cell_type": "markdown",
   "metadata": {},
   "source": [
    "Some Insights:\n",
    "1. Lexus ES350 is the most value-preserving car model among three types of luxury cars, based on the price decreasing plot. The Audi-A6 is the second value-preserving car.\n",
    "2. As the car miles increases, the price decreasing rate of three car models converges to be nearly the same.\n",
    "3. It is noted that this analysis is only performed a relatively small car dataset crawled within Madison area. Bias could exist, so that the price trend may not be most representative. More data analysis on a larger dataset could be more persuasive."
   ]
  }
 ],
 "metadata": {
  "kernelspec": {
   "display_name": "python-python3env",
   "language": "python",
   "name": "python3env"
  },
  "language_info": {
   "codemirror_mode": {
    "name": "ipython",
    "version": 3
   },
   "file_extension": ".py",
   "mimetype": "text/x-python",
   "name": "python",
   "nbconvert_exporter": "python",
   "pygments_lexer": "ipython3",
   "version": "3.6.3"
  }
 },
 "nbformat": 4,
 "nbformat_minor": 2
}
