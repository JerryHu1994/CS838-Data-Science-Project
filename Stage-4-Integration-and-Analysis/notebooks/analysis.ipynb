{
 "cells": [
  {
   "cell_type": "code",
   "execution_count": 2,
   "metadata": {
    "collapsed": true
   },
   "outputs": [],
   "source": [
    "import numpy as np\n",
    "import pandas as pd"
   ]
  },
  {
   "cell_type": "markdown",
   "metadata": {},
   "source": [
    "Load the car csv table"
   ]
  },
  {
   "cell_type": "code",
   "execution_count": 3,
   "metadata": {},
   "outputs": [],
   "source": [
    "data_table = pd.read_csv(\"../data/cars_com_clean.csv\")"
   ]
  },
  {
   "cell_type": "code",
   "execution_count": 6,
   "metadata": {},
   "outputs": [
    {
     "name": "stdout",
     "output_type": "stream",
     "text": [
      "                                name  year          maker    price  \\\n",
      "0  2010 Mercedes-Benz  GL 450 4MATIC  2010  Mercedes-Benz  15614.0   \n",
      "1         2015 Mercedes-Benz  ML 350  2015  Mercedes-Benz  29998.0   \n",
      "2   2013 Mercedes-Benz  E 350 4MATIC  2013  Mercedes-Benz  16500.0   \n",
      "\n",
      "           seller_name    seller_phone     miles exterior_color  \\\n",
      "0  Kayser Ford Lincoln  (608) 807-5359  107545.0          Black   \n",
      "1       CarMax Madison  (608) 286-3923   36642.0           Gray   \n",
      "2     Lexus of Madison  (608) 478-2660   80614.0          Black   \n",
      "\n",
      "  interior_color            transmission drivetrain                vin  id  \n",
      "0       Cashmere       7-Speed Automatic        AWD  4JGBF7BEXAA543808   0  \n",
      "1          Black  7-Speed Automatic w/OD        AWD  4JGDA5HB7FA445741   1  \n",
      "2          Black       7-Speed Automatic        AWD  WDDHF8JB7DA667069   2  \n"
     ]
    }
   ],
   "source": [
    "print (data_table.head(3))"
   ]
  },
  {
   "cell_type": "code",
   "execution_count": null,
   "metadata": {
    "collapsed": true
   },
   "outputs": [],
   "source": []
  }
 ],
 "metadata": {
  "kernelspec": {
   "display_name": "python-python3env",
   "language": "python",
   "name": "python3env"
  },
  "language_info": {
   "codemirror_mode": {
    "name": "ipython",
    "version": 3
   },
   "file_extension": ".py",
   "mimetype": "text/x-python",
   "name": "python",
   "nbconvert_exporter": "python",
   "pygments_lexer": "ipython3",
   "version": "3.6.3"
  }
 },
 "nbformat": 4,
 "nbformat_minor": 2
}
