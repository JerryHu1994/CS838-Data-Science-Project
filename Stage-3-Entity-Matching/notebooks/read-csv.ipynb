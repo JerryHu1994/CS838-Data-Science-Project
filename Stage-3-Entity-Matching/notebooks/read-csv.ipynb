{
 "cells": [
  {
   "cell_type": "markdown",
   "metadata": {},
   "source": [
    "# 1. Explore and clean the data"
   ]
  },
  {
   "cell_type": "code",
   "execution_count": 1,
   "metadata": {
    "collapsed": true
   },
   "outputs": [],
   "source": [
    "import pandas as pd\n",
    "cars_raw_file = \"cars_com_luxury.csv\"\n",
    "market_raw_file = \"market_check_luxury.csv\""
   ]
  },
  {
   "cell_type": "markdown",
   "metadata": {},
   "source": [
    "## 1.1 Cars.com\n",
    "Problems (solution)\n",
    "1. column names are in different format, e.g. Exterior Color vs seller_review_count. (format it)\n",
    "2. new cars has nan miles (relace nan with 0)\n",
    "3. some cars miss price value in cars.com (let's keep it now)\n",
    "4. there is one car missing vin (delete it)\n",
    "5. change column brand to maker"
   ]
  },
  {
   "cell_type": "code",
   "execution_count": 2,
   "metadata": {
    "collapsed": true
   },
   "outputs": [],
   "source": [
    "cars_df = pd.read_csv(cars_raw_file) # read csv to dataframe"
   ]
  },
  {
   "cell_type": "code",
   "execution_count": 3,
   "metadata": {},
   "outputs": [
    {
     "data": {
      "text/html": [
       "<div>\n",
       "<style scoped>\n",
       "    .dataframe tbody tr th:only-of-type {\n",
       "        vertical-align: middle;\n",
       "    }\n",
       "\n",
       "    .dataframe tbody tr th {\n",
       "        vertical-align: top;\n",
       "    }\n",
       "\n",
       "    .dataframe thead th {\n",
       "        text-align: right;\n",
       "    }\n",
       "</style>\n",
       "<table border=\"1\" class=\"dataframe\">\n",
       "  <thead>\n",
       "    <tr style=\"text-align: right;\">\n",
       "      <th></th>\n",
       "      <th>name</th>\n",
       "      <th>year</th>\n",
       "      <th>brand</th>\n",
       "      <th>color</th>\n",
       "      <th>price</th>\n",
       "      <th>seller_name</th>\n",
       "      <th>seller_phone</th>\n",
       "      <th>seller_average_rating</th>\n",
       "      <th>seller_review_count</th>\n",
       "      <th>miles</th>\n",
       "      <th>distance_from_Madison</th>\n",
       "      <th>Exterior Color</th>\n",
       "      <th>Interior Color</th>\n",
       "      <th>Transmission</th>\n",
       "      <th>Drivetrain</th>\n",
       "      <th>VIN</th>\n",
       "      <th>id</th>\n",
       "    </tr>\n",
       "  </thead>\n",
       "  <tbody>\n",
       "    <tr>\n",
       "      <th>0</th>\n",
       "      <td>2010 Mercedes-Benz  GL 450 4MATIC</td>\n",
       "      <td>2010</td>\n",
       "      <td>Mercedes-Benz</td>\n",
       "      <td>Black</td>\n",
       "      <td>15614.0</td>\n",
       "      <td>Kayser Ford Lincoln</td>\n",
       "      <td>(608) 807-5359</td>\n",
       "      <td>4.7</td>\n",
       "      <td>399.0</td>\n",
       "      <td>107545.0</td>\n",
       "      <td>2</td>\n",
       "      <td>Black</td>\n",
       "      <td>Cashmere</td>\n",
       "      <td>7-Speed Automatic</td>\n",
       "      <td>AWD</td>\n",
       "      <td>4JGBF7BEXAA543808</td>\n",
       "      <td>0</td>\n",
       "    </tr>\n",
       "    <tr>\n",
       "      <th>1</th>\n",
       "      <td>2015 Mercedes-Benz  ML 350</td>\n",
       "      <td>2015</td>\n",
       "      <td>Mercedes-Benz</td>\n",
       "      <td>Gray</td>\n",
       "      <td>29998.0</td>\n",
       "      <td>CarMax Madison</td>\n",
       "      <td>(608) 286-3923</td>\n",
       "      <td>4.3</td>\n",
       "      <td>3.0</td>\n",
       "      <td>36642.0</td>\n",
       "      <td>5</td>\n",
       "      <td>Gray</td>\n",
       "      <td>Black</td>\n",
       "      <td>7-Speed Automatic w/OD</td>\n",
       "      <td>AWD</td>\n",
       "      <td>4JGDA5HB7FA445741</td>\n",
       "      <td>1</td>\n",
       "    </tr>\n",
       "    <tr>\n",
       "      <th>2</th>\n",
       "      <td>2013 Mercedes-Benz  E 350 4MATIC</td>\n",
       "      <td>2013</td>\n",
       "      <td>Mercedes-Benz</td>\n",
       "      <td>Black</td>\n",
       "      <td>16500.0</td>\n",
       "      <td>Lexus of Madison</td>\n",
       "      <td>(608) 478-2660</td>\n",
       "      <td>5.0</td>\n",
       "      <td>68.0</td>\n",
       "      <td>80614.0</td>\n",
       "      <td>6</td>\n",
       "      <td>Black</td>\n",
       "      <td>Black</td>\n",
       "      <td>7-Speed Automatic</td>\n",
       "      <td>AWD</td>\n",
       "      <td>WDDHF8JB7DA667069</td>\n",
       "      <td>2</td>\n",
       "    </tr>\n",
       "    <tr>\n",
       "      <th>3</th>\n",
       "      <td>2015 Mercedes-Benz  C 300</td>\n",
       "      <td>2015</td>\n",
       "      <td>Mercedes-Benz</td>\n",
       "      <td>Black</td>\n",
       "      <td>26988.0</td>\n",
       "      <td>Zimbrick Hyundai Eastside</td>\n",
       "      <td>(608) 338-1462</td>\n",
       "      <td>4.9</td>\n",
       "      <td>303.0</td>\n",
       "      <td>30090.0</td>\n",
       "      <td>7</td>\n",
       "      <td>Black</td>\n",
       "      <td>Black</td>\n",
       "      <td>7-Speed A/T</td>\n",
       "      <td>All Wheel Drive</td>\n",
       "      <td>55SWF4KB2FU026106</td>\n",
       "      <td>3</td>\n",
       "    </tr>\n",
       "    <tr>\n",
       "      <th>4</th>\n",
       "      <td>2015 Mercedes-Benz  SLK 250</td>\n",
       "      <td>2015</td>\n",
       "      <td>Mercedes-Benz</td>\n",
       "      <td>Black</td>\n",
       "      <td>29988.0</td>\n",
       "      <td>Zimbrick Hyundai Eastside</td>\n",
       "      <td>(608) 338-1462</td>\n",
       "      <td>4.9</td>\n",
       "      <td>303.0</td>\n",
       "      <td>25344.0</td>\n",
       "      <td>7</td>\n",
       "      <td>Black</td>\n",
       "      <td>Sahara Beige</td>\n",
       "      <td>7-Speed A/T</td>\n",
       "      <td>Rear Wheel Drive</td>\n",
       "      <td>WDDPK4HA2FF108712</td>\n",
       "      <td>4</td>\n",
       "    </tr>\n",
       "  </tbody>\n",
       "</table>\n",
       "</div>"
      ],
      "text/plain": [
       "                                name  year          brand  color    price  \\\n",
       "0  2010 Mercedes-Benz  GL 450 4MATIC  2010  Mercedes-Benz  Black  15614.0   \n",
       "1         2015 Mercedes-Benz  ML 350  2015  Mercedes-Benz   Gray  29998.0   \n",
       "2   2013 Mercedes-Benz  E 350 4MATIC  2013  Mercedes-Benz  Black  16500.0   \n",
       "3          2015 Mercedes-Benz  C 300  2015  Mercedes-Benz  Black  26988.0   \n",
       "4        2015 Mercedes-Benz  SLK 250  2015  Mercedes-Benz  Black  29988.0   \n",
       "\n",
       "                 seller_name    seller_phone  seller_average_rating  \\\n",
       "0        Kayser Ford Lincoln  (608) 807-5359                    4.7   \n",
       "1             CarMax Madison  (608) 286-3923                    4.3   \n",
       "2           Lexus of Madison  (608) 478-2660                    5.0   \n",
       "3  Zimbrick Hyundai Eastside  (608) 338-1462                    4.9   \n",
       "4  Zimbrick Hyundai Eastside  (608) 338-1462                    4.9   \n",
       "\n",
       "   seller_review_count     miles  distance_from_Madison Exterior Color  \\\n",
       "0                399.0  107545.0                      2          Black   \n",
       "1                  3.0   36642.0                      5           Gray   \n",
       "2                 68.0   80614.0                      6          Black   \n",
       "3                303.0   30090.0                      7          Black   \n",
       "4                303.0   25344.0                      7          Black   \n",
       "\n",
       "  Interior Color            Transmission        Drivetrain                VIN  \\\n",
       "0       Cashmere       7-Speed Automatic               AWD  4JGBF7BEXAA543808   \n",
       "1          Black  7-Speed Automatic w/OD               AWD  4JGDA5HB7FA445741   \n",
       "2          Black       7-Speed Automatic               AWD  WDDHF8JB7DA667069   \n",
       "3          Black             7-Speed A/T   All Wheel Drive  55SWF4KB2FU026106   \n",
       "4   Sahara Beige             7-Speed A/T  Rear Wheel Drive  WDDPK4HA2FF108712   \n",
       "\n",
       "   id  \n",
       "0   0  \n",
       "1   1  \n",
       "2   2  \n",
       "3   3  \n",
       "4   4  "
      ]
     },
     "execution_count": 3,
     "metadata": {},
     "output_type": "execute_result"
    }
   ],
   "source": [
    "cars_df.head() # have a look at the data"
   ]
  },
  {
   "cell_type": "code",
   "execution_count": 4,
   "metadata": {},
   "outputs": [
    {
     "data": {
      "text/html": [
       "<div>\n",
       "<style scoped>\n",
       "    .dataframe tbody tr th:only-of-type {\n",
       "        vertical-align: middle;\n",
       "    }\n",
       "\n",
       "    .dataframe tbody tr th {\n",
       "        vertical-align: top;\n",
       "    }\n",
       "\n",
       "    .dataframe thead th {\n",
       "        text-align: right;\n",
       "    }\n",
       "</style>\n",
       "<table border=\"1\" class=\"dataframe\">\n",
       "  <thead>\n",
       "    <tr style=\"text-align: right;\">\n",
       "      <th></th>\n",
       "      <th>year</th>\n",
       "      <th>price</th>\n",
       "      <th>seller_average_rating</th>\n",
       "      <th>seller_review_count</th>\n",
       "      <th>miles</th>\n",
       "      <th>distance_from_Madison</th>\n",
       "      <th>id</th>\n",
       "    </tr>\n",
       "  </thead>\n",
       "  <tbody>\n",
       "    <tr>\n",
       "      <th>count</th>\n",
       "      <td>3171.000000</td>\n",
       "      <td>2855.000000</td>\n",
       "      <td>2795.000000</td>\n",
       "      <td>2795.000000</td>\n",
       "      <td>1811.000000</td>\n",
       "      <td>3171.000000</td>\n",
       "      <td>3171.000000</td>\n",
       "    </tr>\n",
       "    <tr>\n",
       "      <th>mean</th>\n",
       "      <td>2015.269316</td>\n",
       "      <td>40283.803152</td>\n",
       "      <td>4.534812</td>\n",
       "      <td>182.075134</td>\n",
       "      <td>50481.674213</td>\n",
       "      <td>59.185430</td>\n",
       "      <td>1628.925260</td>\n",
       "    </tr>\n",
       "    <tr>\n",
       "      <th>std</th>\n",
       "      <td>3.857313</td>\n",
       "      <td>22070.284278</td>\n",
       "      <td>0.507715</td>\n",
       "      <td>306.157071</td>\n",
       "      <td>41077.102605</td>\n",
       "      <td>23.625115</td>\n",
       "      <td>933.782405</td>\n",
       "    </tr>\n",
       "    <tr>\n",
       "      <th>min</th>\n",
       "      <td>1981.000000</td>\n",
       "      <td>1499.000000</td>\n",
       "      <td>2.000000</td>\n",
       "      <td>1.000000</td>\n",
       "      <td>0.000000</td>\n",
       "      <td>2.000000</td>\n",
       "      <td>0.000000</td>\n",
       "    </tr>\n",
       "    <tr>\n",
       "      <th>25%</th>\n",
       "      <td>2014.000000</td>\n",
       "      <td>24852.000000</td>\n",
       "      <td>4.000000</td>\n",
       "      <td>44.000000</td>\n",
       "      <td>22197.000000</td>\n",
       "      <td>61.000000</td>\n",
       "      <td>831.500000</td>\n",
       "    </tr>\n",
       "    <tr>\n",
       "      <th>50%</th>\n",
       "      <td>2017.000000</td>\n",
       "      <td>37998.000000</td>\n",
       "      <td>4.800000</td>\n",
       "      <td>68.000000</td>\n",
       "      <td>39811.000000</td>\n",
       "      <td>68.000000</td>\n",
       "      <td>1635.000000</td>\n",
       "    </tr>\n",
       "    <tr>\n",
       "      <th>75%</th>\n",
       "      <td>2018.000000</td>\n",
       "      <td>53382.500000</td>\n",
       "      <td>4.900000</td>\n",
       "      <td>184.000000</td>\n",
       "      <td>67696.500000</td>\n",
       "      <td>73.000000</td>\n",
       "      <td>2433.500000</td>\n",
       "    </tr>\n",
       "    <tr>\n",
       "      <th>max</th>\n",
       "      <td>2018.000000</td>\n",
       "      <td>221990.000000</td>\n",
       "      <td>5.000000</td>\n",
       "      <td>4027.000000</td>\n",
       "      <td>320929.000000</td>\n",
       "      <td>80.000000</td>\n",
       "      <td>3244.000000</td>\n",
       "    </tr>\n",
       "  </tbody>\n",
       "</table>\n",
       "</div>"
      ],
      "text/plain": [
       "              year          price  seller_average_rating  seller_review_count  \\\n",
       "count  3171.000000    2855.000000            2795.000000          2795.000000   \n",
       "mean   2015.269316   40283.803152               4.534812           182.075134   \n",
       "std       3.857313   22070.284278               0.507715           306.157071   \n",
       "min    1981.000000    1499.000000               2.000000             1.000000   \n",
       "25%    2014.000000   24852.000000               4.000000            44.000000   \n",
       "50%    2017.000000   37998.000000               4.800000            68.000000   \n",
       "75%    2018.000000   53382.500000               4.900000           184.000000   \n",
       "max    2018.000000  221990.000000               5.000000          4027.000000   \n",
       "\n",
       "               miles  distance_from_Madison           id  \n",
       "count    1811.000000            3171.000000  3171.000000  \n",
       "mean    50481.674213              59.185430  1628.925260  \n",
       "std     41077.102605              23.625115   933.782405  \n",
       "min         0.000000               2.000000     0.000000  \n",
       "25%     22197.000000              61.000000   831.500000  \n",
       "50%     39811.000000              68.000000  1635.000000  \n",
       "75%     67696.500000              73.000000  2433.500000  \n",
       "max    320929.000000              80.000000  3244.000000  "
      ]
     },
     "execution_count": 4,
     "metadata": {},
     "output_type": "execute_result"
    }
   ],
   "source": [
    "cars_df.describe() # summary of cars.com data"
   ]
  },
  {
   "cell_type": "code",
   "execution_count": 5,
   "metadata": {
    "collapsed": true
   },
   "outputs": [],
   "source": [
    "cars_df['miles'].fillna(value=0, inplace=True) # replace nan miles to 0, this means it is new car"
   ]
  },
  {
   "cell_type": "code",
   "execution_count": 6,
   "metadata": {},
   "outputs": [
    {
     "data": {
      "text/plain": [
       "0"
      ]
     },
     "execution_count": 6,
     "metadata": {},
     "output_type": "execute_result"
    }
   ],
   "source": [
    "cars_df['miles'].isnull().sum() # check "
   ]
  },
  {
   "cell_type": "code",
   "execution_count": 7,
   "metadata": {
    "collapsed": true
   },
   "outputs": [],
   "source": [
    "def format_column_name(df):\n",
    "    \"\"\"format datafram column names\"\"\"\n",
    "    dic = {}\n",
    "    for name in df.columns:\n",
    "        dic[name] = \"_\".join([token.lower() for token in name.split()])\n",
    "    if 'brand' in dic:\n",
    "        dic['brand'] = 'maker'\n",
    "    if 'make' in dic:\n",
    "        dic['make'] = 'maker'\n",
    "    df.rename(columns=dic, inplace=True)"
   ]
  },
  {
   "cell_type": "code",
   "execution_count": 8,
   "metadata": {
    "collapsed": true
   },
   "outputs": [],
   "source": [
    "format_column_name(cars_df)"
   ]
  },
  {
   "cell_type": "code",
   "execution_count": 9,
   "metadata": {},
   "outputs": [
    {
     "data": {
      "text/plain": [
       "Index(['name', 'year', 'maker', 'color', 'price', 'seller_name',\n",
       "       'seller_phone', 'seller_average_rating', 'seller_review_count', 'miles',\n",
       "       'distance_from_madison', 'exterior_color', 'interior_color',\n",
       "       'transmission', 'drivetrain', 'vin', 'id'],\n",
       "      dtype='object')"
      ]
     },
     "execution_count": 9,
     "metadata": {},
     "output_type": "execute_result"
    }
   ],
   "source": [
    "cars_df.columns # check"
   ]
  },
  {
   "cell_type": "code",
   "execution_count": 10,
   "metadata": {
    "collapsed": true
   },
   "outputs": [],
   "source": [
    "cars_df = cars_df[pd.notnull(cars_df['vin'])]"
   ]
  },
  {
   "cell_type": "code",
   "execution_count": 11,
   "metadata": {},
   "outputs": [
    {
     "data": {
      "text/plain": [
       "0"
      ]
     },
     "execution_count": 11,
     "metadata": {},
     "output_type": "execute_result"
    }
   ],
   "source": [
    "cars_df['vin'].nunique() - cars_df.shape[0] # check all vin are valid and unique"
   ]
  },
  {
   "cell_type": "code",
   "execution_count": 12,
   "metadata": {},
   "outputs": [
    {
     "data": {
      "text/html": [
       "<div>\n",
       "<style scoped>\n",
       "    .dataframe tbody tr th:only-of-type {\n",
       "        vertical-align: middle;\n",
       "    }\n",
       "\n",
       "    .dataframe tbody tr th {\n",
       "        vertical-align: top;\n",
       "    }\n",
       "\n",
       "    .dataframe thead th {\n",
       "        text-align: right;\n",
       "    }\n",
       "</style>\n",
       "<table border=\"1\" class=\"dataframe\">\n",
       "  <thead>\n",
       "    <tr style=\"text-align: right;\">\n",
       "      <th></th>\n",
       "      <th>name</th>\n",
       "      <th>year</th>\n",
       "      <th>maker</th>\n",
       "      <th>color</th>\n",
       "      <th>price</th>\n",
       "      <th>seller_name</th>\n",
       "      <th>seller_phone</th>\n",
       "      <th>seller_average_rating</th>\n",
       "      <th>seller_review_count</th>\n",
       "      <th>miles</th>\n",
       "      <th>distance_from_madison</th>\n",
       "      <th>exterior_color</th>\n",
       "      <th>interior_color</th>\n",
       "      <th>transmission</th>\n",
       "      <th>drivetrain</th>\n",
       "      <th>vin</th>\n",
       "      <th>id</th>\n",
       "    </tr>\n",
       "  </thead>\n",
       "  <tbody>\n",
       "    <tr>\n",
       "      <th>0</th>\n",
       "      <td>2010 Mercedes-Benz  GL 450 4MATIC</td>\n",
       "      <td>2010</td>\n",
       "      <td>Mercedes-Benz</td>\n",
       "      <td>Black</td>\n",
       "      <td>15614.0</td>\n",
       "      <td>Kayser Ford Lincoln</td>\n",
       "      <td>(608) 807-5359</td>\n",
       "      <td>4.7</td>\n",
       "      <td>399.0</td>\n",
       "      <td>107545.0</td>\n",
       "      <td>2</td>\n",
       "      <td>Black</td>\n",
       "      <td>Cashmere</td>\n",
       "      <td>7-Speed Automatic</td>\n",
       "      <td>AWD</td>\n",
       "      <td>4JGBF7BEXAA543808</td>\n",
       "      <td>0</td>\n",
       "    </tr>\n",
       "    <tr>\n",
       "      <th>1</th>\n",
       "      <td>2015 Mercedes-Benz  ML 350</td>\n",
       "      <td>2015</td>\n",
       "      <td>Mercedes-Benz</td>\n",
       "      <td>Gray</td>\n",
       "      <td>29998.0</td>\n",
       "      <td>CarMax Madison</td>\n",
       "      <td>(608) 286-3923</td>\n",
       "      <td>4.3</td>\n",
       "      <td>3.0</td>\n",
       "      <td>36642.0</td>\n",
       "      <td>5</td>\n",
       "      <td>Gray</td>\n",
       "      <td>Black</td>\n",
       "      <td>7-Speed Automatic w/OD</td>\n",
       "      <td>AWD</td>\n",
       "      <td>4JGDA5HB7FA445741</td>\n",
       "      <td>1</td>\n",
       "    </tr>\n",
       "    <tr>\n",
       "      <th>2</th>\n",
       "      <td>2013 Mercedes-Benz  E 350 4MATIC</td>\n",
       "      <td>2013</td>\n",
       "      <td>Mercedes-Benz</td>\n",
       "      <td>Black</td>\n",
       "      <td>16500.0</td>\n",
       "      <td>Lexus of Madison</td>\n",
       "      <td>(608) 478-2660</td>\n",
       "      <td>5.0</td>\n",
       "      <td>68.0</td>\n",
       "      <td>80614.0</td>\n",
       "      <td>6</td>\n",
       "      <td>Black</td>\n",
       "      <td>Black</td>\n",
       "      <td>7-Speed Automatic</td>\n",
       "      <td>AWD</td>\n",
       "      <td>WDDHF8JB7DA667069</td>\n",
       "      <td>2</td>\n",
       "    </tr>\n",
       "    <tr>\n",
       "      <th>3</th>\n",
       "      <td>2015 Mercedes-Benz  C 300</td>\n",
       "      <td>2015</td>\n",
       "      <td>Mercedes-Benz</td>\n",
       "      <td>Black</td>\n",
       "      <td>26988.0</td>\n",
       "      <td>Zimbrick Hyundai Eastside</td>\n",
       "      <td>(608) 338-1462</td>\n",
       "      <td>4.9</td>\n",
       "      <td>303.0</td>\n",
       "      <td>30090.0</td>\n",
       "      <td>7</td>\n",
       "      <td>Black</td>\n",
       "      <td>Black</td>\n",
       "      <td>7-Speed A/T</td>\n",
       "      <td>All Wheel Drive</td>\n",
       "      <td>55SWF4KB2FU026106</td>\n",
       "      <td>3</td>\n",
       "    </tr>\n",
       "    <tr>\n",
       "      <th>4</th>\n",
       "      <td>2015 Mercedes-Benz  SLK 250</td>\n",
       "      <td>2015</td>\n",
       "      <td>Mercedes-Benz</td>\n",
       "      <td>Black</td>\n",
       "      <td>29988.0</td>\n",
       "      <td>Zimbrick Hyundai Eastside</td>\n",
       "      <td>(608) 338-1462</td>\n",
       "      <td>4.9</td>\n",
       "      <td>303.0</td>\n",
       "      <td>25344.0</td>\n",
       "      <td>7</td>\n",
       "      <td>Black</td>\n",
       "      <td>Sahara Beige</td>\n",
       "      <td>7-Speed A/T</td>\n",
       "      <td>Rear Wheel Drive</td>\n",
       "      <td>WDDPK4HA2FF108712</td>\n",
       "      <td>4</td>\n",
       "    </tr>\n",
       "  </tbody>\n",
       "</table>\n",
       "</div>"
      ],
      "text/plain": [
       "                                name  year          maker  color    price  \\\n",
       "0  2010 Mercedes-Benz  GL 450 4MATIC  2010  Mercedes-Benz  Black  15614.0   \n",
       "1         2015 Mercedes-Benz  ML 350  2015  Mercedes-Benz   Gray  29998.0   \n",
       "2   2013 Mercedes-Benz  E 350 4MATIC  2013  Mercedes-Benz  Black  16500.0   \n",
       "3          2015 Mercedes-Benz  C 300  2015  Mercedes-Benz  Black  26988.0   \n",
       "4        2015 Mercedes-Benz  SLK 250  2015  Mercedes-Benz  Black  29988.0   \n",
       "\n",
       "                 seller_name    seller_phone  seller_average_rating  \\\n",
       "0        Kayser Ford Lincoln  (608) 807-5359                    4.7   \n",
       "1             CarMax Madison  (608) 286-3923                    4.3   \n",
       "2           Lexus of Madison  (608) 478-2660                    5.0   \n",
       "3  Zimbrick Hyundai Eastside  (608) 338-1462                    4.9   \n",
       "4  Zimbrick Hyundai Eastside  (608) 338-1462                    4.9   \n",
       "\n",
       "   seller_review_count     miles  distance_from_madison exterior_color  \\\n",
       "0                399.0  107545.0                      2          Black   \n",
       "1                  3.0   36642.0                      5           Gray   \n",
       "2                 68.0   80614.0                      6          Black   \n",
       "3                303.0   30090.0                      7          Black   \n",
       "4                303.0   25344.0                      7          Black   \n",
       "\n",
       "  interior_color            transmission        drivetrain                vin  \\\n",
       "0       Cashmere       7-Speed Automatic               AWD  4JGBF7BEXAA543808   \n",
       "1          Black  7-Speed Automatic w/OD               AWD  4JGDA5HB7FA445741   \n",
       "2          Black       7-Speed Automatic               AWD  WDDHF8JB7DA667069   \n",
       "3          Black             7-Speed A/T   All Wheel Drive  55SWF4KB2FU026106   \n",
       "4   Sahara Beige             7-Speed A/T  Rear Wheel Drive  WDDPK4HA2FF108712   \n",
       "\n",
       "   id  \n",
       "0   0  \n",
       "1   1  \n",
       "2   2  \n",
       "3   3  \n",
       "4   4  "
      ]
     },
     "execution_count": 12,
     "metadata": {},
     "output_type": "execute_result"
    }
   ],
   "source": [
    "cars_df.head()"
   ]
  },
  {
   "cell_type": "markdown",
   "metadata": {},
   "source": [
    "## 1.2 Market API\n",
    "1. column names are in different format, e.g. Exterior Color vs seller_review_count. (format it)\n",
    "2. new cars has nan miles (relace nan with 0)\n",
    "3. some cars has nan year, maker, model\n",
    "4. year format is float\n",
    "5. some cars miss price value in cars.com (let's keep it now)"
   ]
  },
  {
   "cell_type": "code",
   "execution_count": 13,
   "metadata": {
    "collapsed": true
   },
   "outputs": [],
   "source": [
    "market_df = pd.read_csv(market_raw_file)"
   ]
  },
  {
   "cell_type": "code",
   "execution_count": 14,
   "metadata": {},
   "outputs": [
    {
     "data": {
      "text/html": [
       "<div>\n",
       "<style scoped>\n",
       "    .dataframe tbody tr th:only-of-type {\n",
       "        vertical-align: middle;\n",
       "    }\n",
       "\n",
       "    .dataframe tbody tr th {\n",
       "        vertical-align: top;\n",
       "    }\n",
       "\n",
       "    .dataframe thead th {\n",
       "        text-align: right;\n",
       "    }\n",
       "</style>\n",
       "<table border=\"1\" class=\"dataframe\">\n",
       "  <thead>\n",
       "    <tr style=\"text-align: right;\">\n",
       "      <th></th>\n",
       "      <th>name</th>\n",
       "      <th>VIN</th>\n",
       "      <th>make</th>\n",
       "      <th>model</th>\n",
       "      <th>year</th>\n",
       "      <th>price</th>\n",
       "      <th>miles</th>\n",
       "      <th>Exterior Color</th>\n",
       "      <th>Interior Color</th>\n",
       "      <th>Seller Name</th>\n",
       "      <th>Seller Phone</th>\n",
       "      <th>Transmission</th>\n",
       "      <th>Drivetrain</th>\n",
       "      <th>id</th>\n",
       "    </tr>\n",
       "  </thead>\n",
       "  <tbody>\n",
       "    <tr>\n",
       "      <th>0</th>\n",
       "      <td>2017 BMW X3 Xdrive28i SUV</td>\n",
       "      <td>5UXWX9C30H0W66835</td>\n",
       "      <td>BMW</td>\n",
       "      <td>X3</td>\n",
       "      <td>2017.0</td>\n",
       "      <td>32528.0</td>\n",
       "      <td>13327.0</td>\n",
       "      <td>Mineral Silver Metallic</td>\n",
       "      <td>BLACK</td>\n",
       "      <td>Kayser Nissan</td>\n",
       "      <td>866-752-3695</td>\n",
       "      <td>Automatic</td>\n",
       "      <td>All Wheel Drive</td>\n",
       "      <td>0</td>\n",
       "    </tr>\n",
       "    <tr>\n",
       "      <th>1</th>\n",
       "      <td>2013 BMW 3 Series 4dr Sdn 328i xDrive AWD</td>\n",
       "      <td>WBA3B3C55DJ976353</td>\n",
       "      <td>BMW</td>\n",
       "      <td>3 Series</td>\n",
       "      <td>2013.0</td>\n",
       "      <td>17986.0</td>\n",
       "      <td>69367.0</td>\n",
       "      <td>Jet Black</td>\n",
       "      <td>Black</td>\n",
       "      <td>Zimbrick BMW</td>\n",
       "      <td>888-237-4721 877-654-8272</td>\n",
       "      <td>Automatic</td>\n",
       "      <td>All Wheel Drive</td>\n",
       "      <td>1</td>\n",
       "    </tr>\n",
       "    <tr>\n",
       "      <th>2</th>\n",
       "      <td>2011 BMW X3 AWD 4dr 28i</td>\n",
       "      <td>5UXWX5C5XBL704359</td>\n",
       "      <td>BMW</td>\n",
       "      <td>X3</td>\n",
       "      <td>2011.0</td>\n",
       "      <td>15990.0</td>\n",
       "      <td>83846.0</td>\n",
       "      <td>Blue Water Metallic</td>\n",
       "      <td>Oyster</td>\n",
       "      <td>Zimbrick BMW</td>\n",
       "      <td>888-237-4721 877-654-8272</td>\n",
       "      <td>Automatic</td>\n",
       "      <td>All Wheel Drive</td>\n",
       "      <td>2</td>\n",
       "    </tr>\n",
       "    <tr>\n",
       "      <th>3</th>\n",
       "      <td>2011 BMW 3 Series 4dr Sdn 328i xDrive AWD</td>\n",
       "      <td>WBAPK7C59BA820953</td>\n",
       "      <td>BMW</td>\n",
       "      <td>3 Series</td>\n",
       "      <td>2011.0</td>\n",
       "      <td>14882.0</td>\n",
       "      <td>62935.0</td>\n",
       "      <td>Space Gray Metallic</td>\n",
       "      <td>Beige</td>\n",
       "      <td>Zimbrick BMW</td>\n",
       "      <td>888-237-4721 877-654-8272</td>\n",
       "      <td>Manual</td>\n",
       "      <td>All Wheel Drive</td>\n",
       "      <td>3</td>\n",
       "    </tr>\n",
       "    <tr>\n",
       "      <th>4</th>\n",
       "      <td>2011 BMW M3 2dr Cpe</td>\n",
       "      <td>WBSKG9C59BE369258</td>\n",
       "      <td>BMW</td>\n",
       "      <td>M3</td>\n",
       "      <td>2011.0</td>\n",
       "      <td>29990.0</td>\n",
       "      <td>63030.0</td>\n",
       "      <td>Jet Black</td>\n",
       "      <td>Black</td>\n",
       "      <td>Zimbrick BMW</td>\n",
       "      <td>888-237-4721 877-654-8272</td>\n",
       "      <td>Manual</td>\n",
       "      <td>Rear Wheel Drive</td>\n",
       "      <td>4</td>\n",
       "    </tr>\n",
       "  </tbody>\n",
       "</table>\n",
       "</div>"
      ],
      "text/plain": [
       "                                        name                VIN make  \\\n",
       "0                  2017 BMW X3 Xdrive28i SUV  5UXWX9C30H0W66835  BMW   \n",
       "1  2013 BMW 3 Series 4dr Sdn 328i xDrive AWD  WBA3B3C55DJ976353  BMW   \n",
       "2                    2011 BMW X3 AWD 4dr 28i  5UXWX5C5XBL704359  BMW   \n",
       "3  2011 BMW 3 Series 4dr Sdn 328i xDrive AWD  WBAPK7C59BA820953  BMW   \n",
       "4                        2011 BMW M3 2dr Cpe  WBSKG9C59BE369258  BMW   \n",
       "\n",
       "      model    year    price    miles           Exterior Color Interior Color  \\\n",
       "0        X3  2017.0  32528.0  13327.0  Mineral Silver Metallic          BLACK   \n",
       "1  3 Series  2013.0  17986.0  69367.0                Jet Black          Black   \n",
       "2        X3  2011.0  15990.0  83846.0      Blue Water Metallic         Oyster   \n",
       "3  3 Series  2011.0  14882.0  62935.0      Space Gray Metallic          Beige   \n",
       "4        M3  2011.0  29990.0  63030.0                Jet Black          Black   \n",
       "\n",
       "     Seller Name               Seller Phone Transmission        Drivetrain  id  \n",
       "0  Kayser Nissan               866-752-3695    Automatic   All Wheel Drive   0  \n",
       "1   Zimbrick BMW  888-237-4721 877-654-8272    Automatic   All Wheel Drive   1  \n",
       "2   Zimbrick BMW  888-237-4721 877-654-8272    Automatic   All Wheel Drive   2  \n",
       "3   Zimbrick BMW  888-237-4721 877-654-8272       Manual   All Wheel Drive   3  \n",
       "4   Zimbrick BMW  888-237-4721 877-654-8272       Manual  Rear Wheel Drive   4  "
      ]
     },
     "execution_count": 14,
     "metadata": {},
     "output_type": "execute_result"
    }
   ],
   "source": [
    "market_df.head()"
   ]
  },
  {
   "cell_type": "code",
   "execution_count": 15,
   "metadata": {
    "collapsed": true
   },
   "outputs": [],
   "source": [
    "format_column_name(market_df)"
   ]
  },
  {
   "cell_type": "code",
   "execution_count": 16,
   "metadata": {},
   "outputs": [
    {
     "data": {
      "text/plain": [
       "Index(['name', 'vin', 'maker', 'model', 'year', 'price', 'miles',\n",
       "       'exterior_color', 'interior_color', 'seller_name', 'seller_phone',\n",
       "       'transmission', 'drivetrain', 'id'],\n",
       "      dtype='object')"
      ]
     },
     "execution_count": 16,
     "metadata": {},
     "output_type": "execute_result"
    }
   ],
   "source": [
    "market_df.columns"
   ]
  },
  {
   "cell_type": "code",
   "execution_count": 17,
   "metadata": {},
   "outputs": [
    {
     "name": "stdout",
     "output_type": "stream",
     "text": [
      "24\n"
     ]
    }
   ],
   "source": [
    "print(market_df['miles'].isnull().sum()) # there are nan miles"
   ]
  },
  {
   "cell_type": "code",
   "execution_count": 18,
   "metadata": {
    "collapsed": true
   },
   "outputs": [],
   "source": [
    "market_df['miles'].fillna(value=0, inplace=True)"
   ]
  },
  {
   "cell_type": "code",
   "execution_count": 19,
   "metadata": {},
   "outputs": [
    {
     "name": "stdout",
     "output_type": "stream",
     "text": [
      "0\n"
     ]
    }
   ],
   "source": [
    "print(market_df['miles'].isnull().sum()) # check"
   ]
  },
  {
   "cell_type": "code",
   "execution_count": 20,
   "metadata": {},
   "outputs": [
    {
     "name": "stdout",
     "output_type": "stream",
     "text": [
      "2\n",
      "2\n",
      "0\n"
     ]
    }
   ],
   "source": [
    "print(market_df['year'].isnull().sum())\n",
    "print(market_df['maker'].isnull().sum())\n",
    "print(market_df['vin'].isnull().sum())"
   ]
  },
  {
   "cell_type": "code",
   "execution_count": 21,
   "metadata": {},
   "outputs": [
    {
     "data": {
      "text/html": [
       "<div>\n",
       "<style scoped>\n",
       "    .dataframe tbody tr th:only-of-type {\n",
       "        vertical-align: middle;\n",
       "    }\n",
       "\n",
       "    .dataframe tbody tr th {\n",
       "        vertical-align: top;\n",
       "    }\n",
       "\n",
       "    .dataframe thead th {\n",
       "        text-align: right;\n",
       "    }\n",
       "</style>\n",
       "<table border=\"1\" class=\"dataframe\">\n",
       "  <thead>\n",
       "    <tr style=\"text-align: right;\">\n",
       "      <th></th>\n",
       "      <th>name</th>\n",
       "      <th>vin</th>\n",
       "      <th>maker</th>\n",
       "      <th>model</th>\n",
       "      <th>year</th>\n",
       "      <th>price</th>\n",
       "      <th>miles</th>\n",
       "      <th>exterior_color</th>\n",
       "      <th>interior_color</th>\n",
       "      <th>seller_name</th>\n",
       "      <th>seller_phone</th>\n",
       "      <th>transmission</th>\n",
       "      <th>drivetrain</th>\n",
       "      <th>id</th>\n",
       "    </tr>\n",
       "  </thead>\n",
       "  <tbody>\n",
       "    <tr>\n",
       "      <th>371</th>\n",
       "      <td>2011 BMW SAV</td>\n",
       "      <td>C850370A0D0CC7572</td>\n",
       "      <td>NaN</td>\n",
       "      <td>NaN</td>\n",
       "      <td>NaN</td>\n",
       "      <td>19985.0</td>\n",
       "      <td>47857.0</td>\n",
       "      <td>Sparkling Bronze</td>\n",
       "      <td>Oyster</td>\n",
       "      <td>INTERNATIONAL AUTOS GROUP</td>\n",
       "      <td>414-543-3000</td>\n",
       "      <td>NaN</td>\n",
       "      <td>NaN</td>\n",
       "      <td>371</td>\n",
       "    </tr>\n",
       "    <tr>\n",
       "      <th>2691</th>\n",
       "      <td>2015 Audi Q3 2.0T Premium Plus SUV</td>\n",
       "      <td>WA1GFCF27FR013222</td>\n",
       "      <td>NaN</td>\n",
       "      <td>NaN</td>\n",
       "      <td>NaN</td>\n",
       "      <td>26988.0</td>\n",
       "      <td>27319.0</td>\n",
       "      <td>Gray</td>\n",
       "      <td>NaN</td>\n",
       "      <td>INTERNATIONAL AUTOS GROUP</td>\n",
       "      <td>414-543-3000</td>\n",
       "      <td>NaN</td>\n",
       "      <td>NaN</td>\n",
       "      <td>2694</td>\n",
       "    </tr>\n",
       "  </tbody>\n",
       "</table>\n",
       "</div>"
      ],
      "text/plain": [
       "                                    name                vin maker model  year  \\\n",
       "371                         2011 BMW SAV  C850370A0D0CC7572   NaN   NaN   NaN   \n",
       "2691  2015 Audi Q3 2.0T Premium Plus SUV  WA1GFCF27FR013222   NaN   NaN   NaN   \n",
       "\n",
       "        price    miles    exterior_color interior_color  \\\n",
       "371   19985.0  47857.0  Sparkling Bronze         Oyster   \n",
       "2691  26988.0  27319.0              Gray            NaN   \n",
       "\n",
       "                    seller_name  seller_phone transmission drivetrain    id  \n",
       "371   INTERNATIONAL AUTOS GROUP  414-543-3000          NaN        NaN   371  \n",
       "2691  INTERNATIONAL AUTOS GROUP  414-543-3000          NaN        NaN  2694  "
      ]
     },
     "execution_count": 21,
     "metadata": {},
     "output_type": "execute_result"
    }
   ],
   "source": [
    "market_df[pd.isnull(market_df['maker'])] # should delete them"
   ]
  },
  {
   "cell_type": "code",
   "execution_count": 22,
   "metadata": {
    "collapsed": true
   },
   "outputs": [],
   "source": [
    "market_df = market_df[pd.notnull(market_df['maker'])]"
   ]
  },
  {
   "cell_type": "code",
   "execution_count": 23,
   "metadata": {},
   "outputs": [
    {
     "name": "stdout",
     "output_type": "stream",
     "text": [
      "0\n",
      "0\n",
      "0\n"
     ]
    }
   ],
   "source": [
    "print(market_df['year'].isnull().sum())\n",
    "print(market_df['maker'].isnull().sum())\n",
    "print(market_df['vin'].isnull().sum())"
   ]
  },
  {
   "cell_type": "code",
   "execution_count": 24,
   "metadata": {},
   "outputs": [
    {
     "data": {
      "text/plain": [
       "0"
      ]
     },
     "execution_count": 24,
     "metadata": {},
     "output_type": "execute_result"
    }
   ],
   "source": [
    "market_df['vin'].nunique() - market_df.shape[0] # vin is valid and unique"
   ]
  },
  {
   "cell_type": "code",
   "execution_count": 25,
   "metadata": {},
   "outputs": [
    {
     "name": "stdout",
     "output_type": "stream",
     "text": [
      "121\n"
     ]
    }
   ],
   "source": [
    "print(market_df['price'].isnull().sum()) # leave it like this"
   ]
  },
  {
   "cell_type": "markdown",
   "metadata": {},
   "source": [
    "## 1.3 save clean data frame to new csv file"
   ]
  },
  {
   "cell_type": "code",
   "execution_count": 26,
   "metadata": {},
   "outputs": [
    {
     "data": {
      "text/plain": [
       "Index(['name', 'year', 'maker', 'color', 'price', 'seller_name',\n",
       "       'seller_phone', 'seller_average_rating', 'seller_review_count', 'miles',\n",
       "       'distance_from_madison', 'exterior_color', 'interior_color',\n",
       "       'transmission', 'drivetrain', 'vin', 'id'],\n",
       "      dtype='object')"
      ]
     },
     "execution_count": 26,
     "metadata": {},
     "output_type": "execute_result"
    }
   ],
   "source": [
    "cars_df.columns"
   ]
  },
  {
   "cell_type": "code",
   "execution_count": 27,
   "metadata": {},
   "outputs": [
    {
     "data": {
      "text/plain": [
       "Index(['name', 'vin', 'maker', 'model', 'year', 'price', 'miles',\n",
       "       'exterior_color', 'interior_color', 'seller_name', 'seller_phone',\n",
       "       'transmission', 'drivetrain', 'id'],\n",
       "      dtype='object')"
      ]
     },
     "execution_count": 27,
     "metadata": {},
     "output_type": "execute_result"
    }
   ],
   "source": [
    "market_df.columns"
   ]
  },
  {
   "cell_type": "markdown",
   "metadata": {},
   "source": [
    "We need to extract the common attributes from the two csv tables. Then we make two new csv tables based on these common attributes. This step is to make sure two tables have the same set of columns for entity matching."
   ]
  },
  {
   "cell_type": "code",
   "execution_count": 28,
   "metadata": {
    "collapsed": true
   },
   "outputs": [],
   "source": [
    "intersect_columns = cars_df.columns.intersection(market_df.columns)"
   ]
  },
  {
   "cell_type": "code",
   "execution_count": 29,
   "metadata": {},
   "outputs": [
    {
     "data": {
      "text/plain": [
       "Index(['name', 'year', 'maker', 'price', 'seller_name', 'seller_phone',\n",
       "       'miles', 'exterior_color', 'interior_color', 'transmission',\n",
       "       'drivetrain', 'vin', 'id'],\n",
       "      dtype='object')"
      ]
     },
     "execution_count": 29,
     "metadata": {},
     "output_type": "execute_result"
    }
   ],
   "source": [
    "intersect_columns"
   ]
  },
  {
   "cell_type": "code",
   "execution_count": 30,
   "metadata": {
    "collapsed": true
   },
   "outputs": [],
   "source": [
    "cars_df = cars_df[intersect_columns]"
   ]
  },
  {
   "cell_type": "code",
   "execution_count": 31,
   "metadata": {
    "collapsed": true
   },
   "outputs": [],
   "source": [
    "market_df = market_df[intersect_columns]"
   ]
  },
  {
   "cell_type": "code",
   "execution_count": 32,
   "metadata": {},
   "outputs": [
    {
     "data": {
      "text/plain": [
       "Index(['name', 'year', 'maker', 'price', 'seller_name', 'seller_phone',\n",
       "       'miles', 'exterior_color', 'interior_color', 'transmission',\n",
       "       'drivetrain', 'vin', 'id'],\n",
       "      dtype='object')"
      ]
     },
     "execution_count": 32,
     "metadata": {},
     "output_type": "execute_result"
    }
   ],
   "source": [
    "cars_df.columns"
   ]
  },
  {
   "cell_type": "code",
   "execution_count": 33,
   "metadata": {},
   "outputs": [
    {
     "data": {
      "text/plain": [
       "Index(['name', 'year', 'maker', 'price', 'seller_name', 'seller_phone',\n",
       "       'miles', 'exterior_color', 'interior_color', 'transmission',\n",
       "       'drivetrain', 'vin', 'id'],\n",
       "      dtype='object')"
      ]
     },
     "execution_count": 33,
     "metadata": {},
     "output_type": "execute_result"
    }
   ],
   "source": [
    "market_df.columns"
   ]
  },
  {
   "cell_type": "code",
   "execution_count": 34,
   "metadata": {},
   "outputs": [
    {
     "data": {
      "text/html": [
       "<div>\n",
       "<style scoped>\n",
       "    .dataframe tbody tr th:only-of-type {\n",
       "        vertical-align: middle;\n",
       "    }\n",
       "\n",
       "    .dataframe tbody tr th {\n",
       "        vertical-align: top;\n",
       "    }\n",
       "\n",
       "    .dataframe thead th {\n",
       "        text-align: right;\n",
       "    }\n",
       "</style>\n",
       "<table border=\"1\" class=\"dataframe\">\n",
       "  <thead>\n",
       "    <tr style=\"text-align: right;\">\n",
       "      <th></th>\n",
       "      <th>name</th>\n",
       "      <th>year</th>\n",
       "      <th>maker</th>\n",
       "      <th>price</th>\n",
       "      <th>seller_name</th>\n",
       "      <th>seller_phone</th>\n",
       "      <th>miles</th>\n",
       "      <th>exterior_color</th>\n",
       "      <th>interior_color</th>\n",
       "      <th>transmission</th>\n",
       "      <th>drivetrain</th>\n",
       "      <th>vin</th>\n",
       "      <th>id</th>\n",
       "    </tr>\n",
       "  </thead>\n",
       "  <tbody>\n",
       "    <tr>\n",
       "      <th>0</th>\n",
       "      <td>2010 Mercedes-Benz  GL 450 4MATIC</td>\n",
       "      <td>2010</td>\n",
       "      <td>Mercedes-Benz</td>\n",
       "      <td>15614.0</td>\n",
       "      <td>Kayser Ford Lincoln</td>\n",
       "      <td>(608) 807-5359</td>\n",
       "      <td>107545.0</td>\n",
       "      <td>Black</td>\n",
       "      <td>Cashmere</td>\n",
       "      <td>7-Speed Automatic</td>\n",
       "      <td>AWD</td>\n",
       "      <td>4JGBF7BEXAA543808</td>\n",
       "      <td>0</td>\n",
       "    </tr>\n",
       "    <tr>\n",
       "      <th>1</th>\n",
       "      <td>2015 Mercedes-Benz  ML 350</td>\n",
       "      <td>2015</td>\n",
       "      <td>Mercedes-Benz</td>\n",
       "      <td>29998.0</td>\n",
       "      <td>CarMax Madison</td>\n",
       "      <td>(608) 286-3923</td>\n",
       "      <td>36642.0</td>\n",
       "      <td>Gray</td>\n",
       "      <td>Black</td>\n",
       "      <td>7-Speed Automatic w/OD</td>\n",
       "      <td>AWD</td>\n",
       "      <td>4JGDA5HB7FA445741</td>\n",
       "      <td>1</td>\n",
       "    </tr>\n",
       "    <tr>\n",
       "      <th>2</th>\n",
       "      <td>2013 Mercedes-Benz  E 350 4MATIC</td>\n",
       "      <td>2013</td>\n",
       "      <td>Mercedes-Benz</td>\n",
       "      <td>16500.0</td>\n",
       "      <td>Lexus of Madison</td>\n",
       "      <td>(608) 478-2660</td>\n",
       "      <td>80614.0</td>\n",
       "      <td>Black</td>\n",
       "      <td>Black</td>\n",
       "      <td>7-Speed Automatic</td>\n",
       "      <td>AWD</td>\n",
       "      <td>WDDHF8JB7DA667069</td>\n",
       "      <td>2</td>\n",
       "    </tr>\n",
       "    <tr>\n",
       "      <th>3</th>\n",
       "      <td>2015 Mercedes-Benz  C 300</td>\n",
       "      <td>2015</td>\n",
       "      <td>Mercedes-Benz</td>\n",
       "      <td>26988.0</td>\n",
       "      <td>Zimbrick Hyundai Eastside</td>\n",
       "      <td>(608) 338-1462</td>\n",
       "      <td>30090.0</td>\n",
       "      <td>Black</td>\n",
       "      <td>Black</td>\n",
       "      <td>7-Speed A/T</td>\n",
       "      <td>All Wheel Drive</td>\n",
       "      <td>55SWF4KB2FU026106</td>\n",
       "      <td>3</td>\n",
       "    </tr>\n",
       "    <tr>\n",
       "      <th>4</th>\n",
       "      <td>2015 Mercedes-Benz  SLK 250</td>\n",
       "      <td>2015</td>\n",
       "      <td>Mercedes-Benz</td>\n",
       "      <td>29988.0</td>\n",
       "      <td>Zimbrick Hyundai Eastside</td>\n",
       "      <td>(608) 338-1462</td>\n",
       "      <td>25344.0</td>\n",
       "      <td>Black</td>\n",
       "      <td>Sahara Beige</td>\n",
       "      <td>7-Speed A/T</td>\n",
       "      <td>Rear Wheel Drive</td>\n",
       "      <td>WDDPK4HA2FF108712</td>\n",
       "      <td>4</td>\n",
       "    </tr>\n",
       "  </tbody>\n",
       "</table>\n",
       "</div>"
      ],
      "text/plain": [
       "                                name  year          maker    price  \\\n",
       "0  2010 Mercedes-Benz  GL 450 4MATIC  2010  Mercedes-Benz  15614.0   \n",
       "1         2015 Mercedes-Benz  ML 350  2015  Mercedes-Benz  29998.0   \n",
       "2   2013 Mercedes-Benz  E 350 4MATIC  2013  Mercedes-Benz  16500.0   \n",
       "3          2015 Mercedes-Benz  C 300  2015  Mercedes-Benz  26988.0   \n",
       "4        2015 Mercedes-Benz  SLK 250  2015  Mercedes-Benz  29988.0   \n",
       "\n",
       "                 seller_name    seller_phone     miles exterior_color  \\\n",
       "0        Kayser Ford Lincoln  (608) 807-5359  107545.0          Black   \n",
       "1             CarMax Madison  (608) 286-3923   36642.0           Gray   \n",
       "2           Lexus of Madison  (608) 478-2660   80614.0          Black   \n",
       "3  Zimbrick Hyundai Eastside  (608) 338-1462   30090.0          Black   \n",
       "4  Zimbrick Hyundai Eastside  (608) 338-1462   25344.0          Black   \n",
       "\n",
       "  interior_color            transmission        drivetrain                vin  \\\n",
       "0       Cashmere       7-Speed Automatic               AWD  4JGBF7BEXAA543808   \n",
       "1          Black  7-Speed Automatic w/OD               AWD  4JGDA5HB7FA445741   \n",
       "2          Black       7-Speed Automatic               AWD  WDDHF8JB7DA667069   \n",
       "3          Black             7-Speed A/T   All Wheel Drive  55SWF4KB2FU026106   \n",
       "4   Sahara Beige             7-Speed A/T  Rear Wheel Drive  WDDPK4HA2FF108712   \n",
       "\n",
       "   id  \n",
       "0   0  \n",
       "1   1  \n",
       "2   2  \n",
       "3   3  \n",
       "4   4  "
      ]
     },
     "execution_count": 34,
     "metadata": {},
     "output_type": "execute_result"
    }
   ],
   "source": [
    "cars_df.head()"
   ]
  },
  {
   "cell_type": "code",
   "execution_count": 35,
   "metadata": {
    "collapsed": true
   },
   "outputs": [],
   "source": [
    "cars_df.to_csv('cars_com_clean.csv', index=False)"
   ]
  },
  {
   "cell_type": "code",
   "execution_count": 36,
   "metadata": {
    "collapsed": true
   },
   "outputs": [],
   "source": [
    "market_df.to_csv('market_api_clean.csv', index=False)"
   ]
  },
  {
   "cell_type": "code",
   "execution_count": 37,
   "metadata": {
    "collapsed": true
   },
   "outputs": [],
   "source": [
    "cars_clean_df = pd.read_csv('cars_com_clean.csv')"
   ]
  },
  {
   "cell_type": "code",
   "execution_count": 38,
   "metadata": {},
   "outputs": [
    {
     "data": {
      "text/html": [
       "<div>\n",
       "<style scoped>\n",
       "    .dataframe tbody tr th:only-of-type {\n",
       "        vertical-align: middle;\n",
       "    }\n",
       "\n",
       "    .dataframe tbody tr th {\n",
       "        vertical-align: top;\n",
       "    }\n",
       "\n",
       "    .dataframe thead th {\n",
       "        text-align: right;\n",
       "    }\n",
       "</style>\n",
       "<table border=\"1\" class=\"dataframe\">\n",
       "  <thead>\n",
       "    <tr style=\"text-align: right;\">\n",
       "      <th></th>\n",
       "      <th>name</th>\n",
       "      <th>year</th>\n",
       "      <th>maker</th>\n",
       "      <th>price</th>\n",
       "      <th>seller_name</th>\n",
       "      <th>seller_phone</th>\n",
       "      <th>miles</th>\n",
       "      <th>exterior_color</th>\n",
       "      <th>interior_color</th>\n",
       "      <th>transmission</th>\n",
       "      <th>drivetrain</th>\n",
       "      <th>vin</th>\n",
       "      <th>id</th>\n",
       "    </tr>\n",
       "  </thead>\n",
       "  <tbody>\n",
       "    <tr>\n",
       "      <th>0</th>\n",
       "      <td>2010 Mercedes-Benz  GL 450 4MATIC</td>\n",
       "      <td>2010</td>\n",
       "      <td>Mercedes-Benz</td>\n",
       "      <td>15614.0</td>\n",
       "      <td>Kayser Ford Lincoln</td>\n",
       "      <td>(608) 807-5359</td>\n",
       "      <td>107545.0</td>\n",
       "      <td>Black</td>\n",
       "      <td>Cashmere</td>\n",
       "      <td>7-Speed Automatic</td>\n",
       "      <td>AWD</td>\n",
       "      <td>4JGBF7BEXAA543808</td>\n",
       "      <td>0</td>\n",
       "    </tr>\n",
       "    <tr>\n",
       "      <th>1</th>\n",
       "      <td>2015 Mercedes-Benz  ML 350</td>\n",
       "      <td>2015</td>\n",
       "      <td>Mercedes-Benz</td>\n",
       "      <td>29998.0</td>\n",
       "      <td>CarMax Madison</td>\n",
       "      <td>(608) 286-3923</td>\n",
       "      <td>36642.0</td>\n",
       "      <td>Gray</td>\n",
       "      <td>Black</td>\n",
       "      <td>7-Speed Automatic w/OD</td>\n",
       "      <td>AWD</td>\n",
       "      <td>4JGDA5HB7FA445741</td>\n",
       "      <td>1</td>\n",
       "    </tr>\n",
       "    <tr>\n",
       "      <th>2</th>\n",
       "      <td>2013 Mercedes-Benz  E 350 4MATIC</td>\n",
       "      <td>2013</td>\n",
       "      <td>Mercedes-Benz</td>\n",
       "      <td>16500.0</td>\n",
       "      <td>Lexus of Madison</td>\n",
       "      <td>(608) 478-2660</td>\n",
       "      <td>80614.0</td>\n",
       "      <td>Black</td>\n",
       "      <td>Black</td>\n",
       "      <td>7-Speed Automatic</td>\n",
       "      <td>AWD</td>\n",
       "      <td>WDDHF8JB7DA667069</td>\n",
       "      <td>2</td>\n",
       "    </tr>\n",
       "    <tr>\n",
       "      <th>3</th>\n",
       "      <td>2015 Mercedes-Benz  C 300</td>\n",
       "      <td>2015</td>\n",
       "      <td>Mercedes-Benz</td>\n",
       "      <td>26988.0</td>\n",
       "      <td>Zimbrick Hyundai Eastside</td>\n",
       "      <td>(608) 338-1462</td>\n",
       "      <td>30090.0</td>\n",
       "      <td>Black</td>\n",
       "      <td>Black</td>\n",
       "      <td>7-Speed A/T</td>\n",
       "      <td>All Wheel Drive</td>\n",
       "      <td>55SWF4KB2FU026106</td>\n",
       "      <td>3</td>\n",
       "    </tr>\n",
       "    <tr>\n",
       "      <th>4</th>\n",
       "      <td>2015 Mercedes-Benz  SLK 250</td>\n",
       "      <td>2015</td>\n",
       "      <td>Mercedes-Benz</td>\n",
       "      <td>29988.0</td>\n",
       "      <td>Zimbrick Hyundai Eastside</td>\n",
       "      <td>(608) 338-1462</td>\n",
       "      <td>25344.0</td>\n",
       "      <td>Black</td>\n",
       "      <td>Sahara Beige</td>\n",
       "      <td>7-Speed A/T</td>\n",
       "      <td>Rear Wheel Drive</td>\n",
       "      <td>WDDPK4HA2FF108712</td>\n",
       "      <td>4</td>\n",
       "    </tr>\n",
       "  </tbody>\n",
       "</table>\n",
       "</div>"
      ],
      "text/plain": [
       "                                name  year          maker    price  \\\n",
       "0  2010 Mercedes-Benz  GL 450 4MATIC  2010  Mercedes-Benz  15614.0   \n",
       "1         2015 Mercedes-Benz  ML 350  2015  Mercedes-Benz  29998.0   \n",
       "2   2013 Mercedes-Benz  E 350 4MATIC  2013  Mercedes-Benz  16500.0   \n",
       "3          2015 Mercedes-Benz  C 300  2015  Mercedes-Benz  26988.0   \n",
       "4        2015 Mercedes-Benz  SLK 250  2015  Mercedes-Benz  29988.0   \n",
       "\n",
       "                 seller_name    seller_phone     miles exterior_color  \\\n",
       "0        Kayser Ford Lincoln  (608) 807-5359  107545.0          Black   \n",
       "1             CarMax Madison  (608) 286-3923   36642.0           Gray   \n",
       "2           Lexus of Madison  (608) 478-2660   80614.0          Black   \n",
       "3  Zimbrick Hyundai Eastside  (608) 338-1462   30090.0          Black   \n",
       "4  Zimbrick Hyundai Eastside  (608) 338-1462   25344.0          Black   \n",
       "\n",
       "  interior_color            transmission        drivetrain                vin  \\\n",
       "0       Cashmere       7-Speed Automatic               AWD  4JGBF7BEXAA543808   \n",
       "1          Black  7-Speed Automatic w/OD               AWD  4JGDA5HB7FA445741   \n",
       "2          Black       7-Speed Automatic               AWD  WDDHF8JB7DA667069   \n",
       "3          Black             7-Speed A/T   All Wheel Drive  55SWF4KB2FU026106   \n",
       "4   Sahara Beige             7-Speed A/T  Rear Wheel Drive  WDDPK4HA2FF108712   \n",
       "\n",
       "   id  \n",
       "0   0  \n",
       "1   1  \n",
       "2   2  \n",
       "3   3  \n",
       "4   4  "
      ]
     },
     "execution_count": 38,
     "metadata": {},
     "output_type": "execute_result"
    }
   ],
   "source": [
    "cars_clean_df.head()"
   ]
  },
  {
   "cell_type": "code",
   "execution_count": 39,
   "metadata": {
    "collapsed": true
   },
   "outputs": [],
   "source": [
    "market_clean_df = pd.read_csv(\"market_api_clean.csv\")"
   ]
  },
  {
   "cell_type": "code",
   "execution_count": 40,
   "metadata": {},
   "outputs": [
    {
     "data": {
      "text/html": [
       "<div>\n",
       "<style scoped>\n",
       "    .dataframe tbody tr th:only-of-type {\n",
       "        vertical-align: middle;\n",
       "    }\n",
       "\n",
       "    .dataframe tbody tr th {\n",
       "        vertical-align: top;\n",
       "    }\n",
       "\n",
       "    .dataframe thead th {\n",
       "        text-align: right;\n",
       "    }\n",
       "</style>\n",
       "<table border=\"1\" class=\"dataframe\">\n",
       "  <thead>\n",
       "    <tr style=\"text-align: right;\">\n",
       "      <th></th>\n",
       "      <th>name</th>\n",
       "      <th>year</th>\n",
       "      <th>maker</th>\n",
       "      <th>price</th>\n",
       "      <th>seller_name</th>\n",
       "      <th>seller_phone</th>\n",
       "      <th>miles</th>\n",
       "      <th>exterior_color</th>\n",
       "      <th>interior_color</th>\n",
       "      <th>transmission</th>\n",
       "      <th>drivetrain</th>\n",
       "      <th>vin</th>\n",
       "      <th>id</th>\n",
       "    </tr>\n",
       "  </thead>\n",
       "  <tbody>\n",
       "    <tr>\n",
       "      <th>0</th>\n",
       "      <td>2017 BMW X3 Xdrive28i SUV</td>\n",
       "      <td>2017.0</td>\n",
       "      <td>BMW</td>\n",
       "      <td>32528.0</td>\n",
       "      <td>Kayser Nissan</td>\n",
       "      <td>866-752-3695</td>\n",
       "      <td>13327.0</td>\n",
       "      <td>Mineral Silver Metallic</td>\n",
       "      <td>BLACK</td>\n",
       "      <td>Automatic</td>\n",
       "      <td>All Wheel Drive</td>\n",
       "      <td>5UXWX9C30H0W66835</td>\n",
       "      <td>0</td>\n",
       "    </tr>\n",
       "    <tr>\n",
       "      <th>1</th>\n",
       "      <td>2013 BMW 3 Series 4dr Sdn 328i xDrive AWD</td>\n",
       "      <td>2013.0</td>\n",
       "      <td>BMW</td>\n",
       "      <td>17986.0</td>\n",
       "      <td>Zimbrick BMW</td>\n",
       "      <td>888-237-4721 877-654-8272</td>\n",
       "      <td>69367.0</td>\n",
       "      <td>Jet Black</td>\n",
       "      <td>Black</td>\n",
       "      <td>Automatic</td>\n",
       "      <td>All Wheel Drive</td>\n",
       "      <td>WBA3B3C55DJ976353</td>\n",
       "      <td>1</td>\n",
       "    </tr>\n",
       "    <tr>\n",
       "      <th>2</th>\n",
       "      <td>2011 BMW X3 AWD 4dr 28i</td>\n",
       "      <td>2011.0</td>\n",
       "      <td>BMW</td>\n",
       "      <td>15990.0</td>\n",
       "      <td>Zimbrick BMW</td>\n",
       "      <td>888-237-4721 877-654-8272</td>\n",
       "      <td>83846.0</td>\n",
       "      <td>Blue Water Metallic</td>\n",
       "      <td>Oyster</td>\n",
       "      <td>Automatic</td>\n",
       "      <td>All Wheel Drive</td>\n",
       "      <td>5UXWX5C5XBL704359</td>\n",
       "      <td>2</td>\n",
       "    </tr>\n",
       "    <tr>\n",
       "      <th>3</th>\n",
       "      <td>2011 BMW 3 Series 4dr Sdn 328i xDrive AWD</td>\n",
       "      <td>2011.0</td>\n",
       "      <td>BMW</td>\n",
       "      <td>14882.0</td>\n",
       "      <td>Zimbrick BMW</td>\n",
       "      <td>888-237-4721 877-654-8272</td>\n",
       "      <td>62935.0</td>\n",
       "      <td>Space Gray Metallic</td>\n",
       "      <td>Beige</td>\n",
       "      <td>Manual</td>\n",
       "      <td>All Wheel Drive</td>\n",
       "      <td>WBAPK7C59BA820953</td>\n",
       "      <td>3</td>\n",
       "    </tr>\n",
       "    <tr>\n",
       "      <th>4</th>\n",
       "      <td>2011 BMW M3 2dr Cpe</td>\n",
       "      <td>2011.0</td>\n",
       "      <td>BMW</td>\n",
       "      <td>29990.0</td>\n",
       "      <td>Zimbrick BMW</td>\n",
       "      <td>888-237-4721 877-654-8272</td>\n",
       "      <td>63030.0</td>\n",
       "      <td>Jet Black</td>\n",
       "      <td>Black</td>\n",
       "      <td>Manual</td>\n",
       "      <td>Rear Wheel Drive</td>\n",
       "      <td>WBSKG9C59BE369258</td>\n",
       "      <td>4</td>\n",
       "    </tr>\n",
       "  </tbody>\n",
       "</table>\n",
       "</div>"
      ],
      "text/plain": [
       "                                        name    year maker    price  \\\n",
       "0                  2017 BMW X3 Xdrive28i SUV  2017.0   BMW  32528.0   \n",
       "1  2013 BMW 3 Series 4dr Sdn 328i xDrive AWD  2013.0   BMW  17986.0   \n",
       "2                    2011 BMW X3 AWD 4dr 28i  2011.0   BMW  15990.0   \n",
       "3  2011 BMW 3 Series 4dr Sdn 328i xDrive AWD  2011.0   BMW  14882.0   \n",
       "4                        2011 BMW M3 2dr Cpe  2011.0   BMW  29990.0   \n",
       "\n",
       "     seller_name               seller_phone    miles           exterior_color  \\\n",
       "0  Kayser Nissan               866-752-3695  13327.0  Mineral Silver Metallic   \n",
       "1   Zimbrick BMW  888-237-4721 877-654-8272  69367.0                Jet Black   \n",
       "2   Zimbrick BMW  888-237-4721 877-654-8272  83846.0      Blue Water Metallic   \n",
       "3   Zimbrick BMW  888-237-4721 877-654-8272  62935.0      Space Gray Metallic   \n",
       "4   Zimbrick BMW  888-237-4721 877-654-8272  63030.0                Jet Black   \n",
       "\n",
       "  interior_color transmission        drivetrain                vin  id  \n",
       "0          BLACK    Automatic   All Wheel Drive  5UXWX9C30H0W66835   0  \n",
       "1          Black    Automatic   All Wheel Drive  WBA3B3C55DJ976353   1  \n",
       "2         Oyster    Automatic   All Wheel Drive  5UXWX5C5XBL704359   2  \n",
       "3          Beige       Manual   All Wheel Drive  WBAPK7C59BA820953   3  \n",
       "4          Black       Manual  Rear Wheel Drive  WBSKG9C59BE369258   4  "
      ]
     },
     "execution_count": 40,
     "metadata": {},
     "output_type": "execute_result"
    }
   ],
   "source": [
    "market_clean_df.head()"
   ]
  },
  {
   "cell_type": "code",
   "execution_count": null,
   "metadata": {
    "collapsed": true
   },
   "outputs": [],
   "source": []
  }
 ],
 "metadata": {
  "kernelspec": {
   "display_name": "python-python3env",
   "language": "python",
   "name": "python3env"
  },
  "language_info": {
   "codemirror_mode": {
    "name": "ipython",
    "version": 3
   },
   "file_extension": ".py",
   "mimetype": "text/x-python",
   "name": "python",
   "nbconvert_exporter": "python",
   "pygments_lexer": "ipython3",
   "version": "3.6.3"
  }
 },
 "nbformat": 4,
 "nbformat_minor": 2
}
