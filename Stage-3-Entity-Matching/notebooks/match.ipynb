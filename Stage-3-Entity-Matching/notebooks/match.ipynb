{
 "cells": [
  {
   "cell_type": "markdown",
   "metadata": {},
   "source": [
    "# 1. Load Data"
   ]
  },
  {
   "cell_type": "code",
   "execution_count": 1,
   "metadata": {
    "collapsed": true
   },
   "outputs": [],
   "source": [
    "# surpress scipy warning\n",
    "# https://github.com/scipy/scipy/issues/5998\n",
    "import warnings\n",
    "warnings.filterwarnings(action=\"ignore\", module=\"scipy\", message=\"^internal gelsd\")"
   ]
  },
  {
   "cell_type": "code",
   "execution_count": 2,
   "metadata": {
    "collapsed": true
   },
   "outputs": [],
   "source": [
    "import py_entitymatching as em\n",
    "import pandas as pd\n",
    "# Set the seed value \n",
    "seed = 0"
   ]
  },
  {
   "cell_type": "code",
   "execution_count": 3,
   "metadata": {},
   "outputs": [
    {
     "name": "stderr",
     "output_type": "stream",
     "text": [
      "Metadata file is not present in the given path; proceeding to read the csv file.\n",
      "Metadata file is not present in the given path; proceeding to read the csv file.\n",
      "Metadata file is not present in the given path; proceeding to read the csv file.\n"
     ]
    }
   ],
   "source": [
    "A = em.read_csv_metadata('cars_sample.csv', key='vin')\n",
    "B = em.read_csv_metadata('market_sample.csv', key='vin')\n",
    "# Load the pre-labeled data\n",
    "S = em.read_csv_metadata('pairs_sample_label.csv',\n",
    "                        key='_id', ltable=A, rtable=B,\n",
    "                        fk_ltable='ltable_vin', fk_rtable='rtable_vin')"
   ]
  },
  {
   "cell_type": "markdown",
   "metadata": {},
   "source": [
    "Then, split the labeled data into development set and evaluation set. Use the development set to select the best learning-based matcher\n",
    "\n"
   ]
  },
  {
   "cell_type": "code",
   "execution_count": 4,
   "metadata": {
    "collapsed": true
   },
   "outputs": [],
   "source": [
    "# Split S into I an J\n",
    "IJ = em.split_train_test(S, train_proportion=0.75, random_state=0)\n",
    "I = IJ['train']\n",
    "J = IJ['test']"
   ]
  },
  {
   "cell_type": "markdown",
   "metadata": {},
   "source": [
    "# 2. Extracting Feature Vectors\n",
    "Loading feature table does not work (need to check this)."
   ]
  },
  {
   "cell_type": "code",
   "execution_count": 5,
   "metadata": {
    "collapsed": true
   },
   "outputs": [],
   "source": [
    "F = em.get_features_for_matching(A[['name', 'price', 'maker', 'miles', 'exterior_color']], \n",
    "                                 B[['name', 'price', 'maker', 'miles', 'exterior_color']], \n",
    "                                 validate_inferred_attr_types=False)"
   ]
  },
  {
   "cell_type": "code",
   "execution_count": 6,
   "metadata": {},
   "outputs": [
    {
     "data": {
      "text/plain": [
       "0                                       price_price_exm\n",
       "1                                       price_price_anm\n",
       "2                                  price_price_lev_dist\n",
       "3                                   price_price_lev_sim\n",
       "4                                  maker_maker_lev_dist\n",
       "5                                   maker_maker_lev_sim\n",
       "6                                       maker_maker_jar\n",
       "7                                       maker_maker_jwn\n",
       "8                                       maker_maker_exm\n",
       "9                           maker_maker_jac_qgm_3_qgm_3\n",
       "10                                      miles_miles_exm\n",
       "11                                      miles_miles_anm\n",
       "12                                 miles_miles_lev_dist\n",
       "13                                  miles_miles_lev_sim\n",
       "14        exterior_color_exterior_color_jac_qgm_3_qgm_3\n",
       "15    exterior_color_exterior_color_cos_dlm_dc0_dlm_dc0\n",
       "16    exterior_color_exterior_color_jac_dlm_dc0_dlm_dc0\n",
       "17                    exterior_color_exterior_color_mel\n",
       "18               exterior_color_exterior_color_lev_dist\n",
       "19                exterior_color_exterior_color_lev_sim\n",
       "20                    exterior_color_exterior_color_nmw\n",
       "21                     exterior_color_exterior_color_sw\n",
       "Name: feature_name, dtype: object"
      ]
     },
     "execution_count": 6,
     "metadata": {},
     "output_type": "execute_result"
    }
   ],
   "source": [
    "F.feature_name # use all the similarity functions"
   ]
  },
  {
   "cell_type": "code",
   "execution_count": 7,
   "metadata": {
    "collapsed": true
   },
   "outputs": [],
   "source": [
    "# extract feature vector\n",
    "H = em.extract_feature_vecs(I, \n",
    "                            feature_table=F, \n",
    "                            attrs_after='label',\n",
    "                            show_progress=False)"
   ]
  },
  {
   "cell_type": "code",
   "execution_count": 8,
   "metadata": {},
   "outputs": [
    {
     "data": {
      "text/html": [
       "<div>\n",
       "<style scoped>\n",
       "    .dataframe tbody tr th:only-of-type {\n",
       "        vertical-align: middle;\n",
       "    }\n",
       "\n",
       "    .dataframe tbody tr th {\n",
       "        vertical-align: top;\n",
       "    }\n",
       "\n",
       "    .dataframe thead th {\n",
       "        text-align: right;\n",
       "    }\n",
       "</style>\n",
       "<table border=\"1\" class=\"dataframe\">\n",
       "  <thead>\n",
       "    <tr style=\"text-align: right;\">\n",
       "      <th></th>\n",
       "      <th>_id</th>\n",
       "      <th>ltable_vin</th>\n",
       "      <th>rtable_vin</th>\n",
       "      <th>price_price_exm</th>\n",
       "      <th>price_price_anm</th>\n",
       "      <th>price_price_lev_dist</th>\n",
       "      <th>price_price_lev_sim</th>\n",
       "      <th>maker_maker_lev_dist</th>\n",
       "      <th>maker_maker_lev_sim</th>\n",
       "      <th>maker_maker_jar</th>\n",
       "      <th>...</th>\n",
       "      <th>miles_miles_lev_sim</th>\n",
       "      <th>exterior_color_exterior_color_jac_qgm_3_qgm_3</th>\n",
       "      <th>exterior_color_exterior_color_cos_dlm_dc0_dlm_dc0</th>\n",
       "      <th>exterior_color_exterior_color_jac_dlm_dc0_dlm_dc0</th>\n",
       "      <th>exterior_color_exterior_color_mel</th>\n",
       "      <th>exterior_color_exterior_color_lev_dist</th>\n",
       "      <th>exterior_color_exterior_color_lev_sim</th>\n",
       "      <th>exterior_color_exterior_color_nmw</th>\n",
       "      <th>exterior_color_exterior_color_sw</th>\n",
       "      <th>label</th>\n",
       "    </tr>\n",
       "  </thead>\n",
       "  <tbody>\n",
       "    <tr>\n",
       "      <th>46</th>\n",
       "      <td>7405</td>\n",
       "      <td>WBA8D9G53JNU67833</td>\n",
       "      <td>WBA4J3C5XJBG91177</td>\n",
       "      <td>0.0</td>\n",
       "      <td>0.967234</td>\n",
       "      <td>5.0</td>\n",
       "      <td>0.285714</td>\n",
       "      <td>0.0</td>\n",
       "      <td>1.0</td>\n",
       "      <td>1.0</td>\n",
       "      <td>...</td>\n",
       "      <td>0.666667</td>\n",
       "      <td>0.000000</td>\n",
       "      <td>0.0</td>\n",
       "      <td>0.0</td>\n",
       "      <td>0.000000</td>\n",
       "      <td>8.0</td>\n",
       "      <td>0.111111</td>\n",
       "      <td>-4.0</td>\n",
       "      <td>1.0</td>\n",
       "      <td>0</td>\n",
       "    </tr>\n",
       "    <tr>\n",
       "      <th>263</th>\n",
       "      <td>39491</td>\n",
       "      <td>4JGDA5HB3FA529524</td>\n",
       "      <td>4JGDA5HB2FA475455</td>\n",
       "      <td>0.0</td>\n",
       "      <td>0.963942</td>\n",
       "      <td>4.0</td>\n",
       "      <td>0.428571</td>\n",
       "      <td>0.0</td>\n",
       "      <td>1.0</td>\n",
       "      <td>1.0</td>\n",
       "      <td>...</td>\n",
       "      <td>0.285714</td>\n",
       "      <td>0.000000</td>\n",
       "      <td>0.0</td>\n",
       "      <td>0.0</td>\n",
       "      <td>0.505050</td>\n",
       "      <td>10.0</td>\n",
       "      <td>0.090909</td>\n",
       "      <td>-4.0</td>\n",
       "      <td>1.0</td>\n",
       "      <td>0</td>\n",
       "    </tr>\n",
       "    <tr>\n",
       "      <th>458</th>\n",
       "      <td>69958</td>\n",
       "      <td>WBAVL1C5XFVY34215</td>\n",
       "      <td>WBAVL1C5XFVY34215</td>\n",
       "      <td>1.0</td>\n",
       "      <td>1.000000</td>\n",
       "      <td>0.0</td>\n",
       "      <td>1.000000</td>\n",
       "      <td>0.0</td>\n",
       "      <td>1.0</td>\n",
       "      <td>1.0</td>\n",
       "      <td>...</td>\n",
       "      <td>1.000000</td>\n",
       "      <td>1.000000</td>\n",
       "      <td>1.0</td>\n",
       "      <td>1.0</td>\n",
       "      <td>1.000000</td>\n",
       "      <td>0.0</td>\n",
       "      <td>1.000000</td>\n",
       "      <td>12.0</td>\n",
       "      <td>12.0</td>\n",
       "      <td>1</td>\n",
       "    </tr>\n",
       "    <tr>\n",
       "      <th>230</th>\n",
       "      <td>36575</td>\n",
       "      <td>WBA8D9G54JNU68540</td>\n",
       "      <td>WBA8D9G54JNU67730</td>\n",
       "      <td>0.0</td>\n",
       "      <td>0.977572</td>\n",
       "      <td>4.0</td>\n",
       "      <td>0.428571</td>\n",
       "      <td>0.0</td>\n",
       "      <td>1.0</td>\n",
       "      <td>1.0</td>\n",
       "      <td>...</td>\n",
       "      <td>0.666667</td>\n",
       "      <td>0.027778</td>\n",
       "      <td>0.0</td>\n",
       "      <td>0.0</td>\n",
       "      <td>0.496032</td>\n",
       "      <td>18.0</td>\n",
       "      <td>0.142857</td>\n",
       "      <td>-7.0</td>\n",
       "      <td>3.0</td>\n",
       "      <td>0</td>\n",
       "    </tr>\n",
       "    <tr>\n",
       "      <th>107</th>\n",
       "      <td>19234</td>\n",
       "      <td>WBA3V9C51FP798550</td>\n",
       "      <td>WBA3V9C51FP798550</td>\n",
       "      <td>1.0</td>\n",
       "      <td>1.000000</td>\n",
       "      <td>0.0</td>\n",
       "      <td>1.000000</td>\n",
       "      <td>0.0</td>\n",
       "      <td>1.0</td>\n",
       "      <td>1.0</td>\n",
       "      <td>...</td>\n",
       "      <td>1.000000</td>\n",
       "      <td>1.000000</td>\n",
       "      <td>1.0</td>\n",
       "      <td>1.0</td>\n",
       "      <td>1.000000</td>\n",
       "      <td>0.0</td>\n",
       "      <td>1.000000</td>\n",
       "      <td>12.0</td>\n",
       "      <td>12.0</td>\n",
       "      <td>1</td>\n",
       "    </tr>\n",
       "  </tbody>\n",
       "</table>\n",
       "<p>5 rows × 26 columns</p>\n",
       "</div>"
      ],
      "text/plain": [
       "       _id         ltable_vin         rtable_vin  price_price_exm  \\\n",
       "46    7405  WBA8D9G53JNU67833  WBA4J3C5XJBG91177              0.0   \n",
       "263  39491  4JGDA5HB3FA529524  4JGDA5HB2FA475455              0.0   \n",
       "458  69958  WBAVL1C5XFVY34215  WBAVL1C5XFVY34215              1.0   \n",
       "230  36575  WBA8D9G54JNU68540  WBA8D9G54JNU67730              0.0   \n",
       "107  19234  WBA3V9C51FP798550  WBA3V9C51FP798550              1.0   \n",
       "\n",
       "     price_price_anm  price_price_lev_dist  price_price_lev_sim  \\\n",
       "46          0.967234                   5.0             0.285714   \n",
       "263         0.963942                   4.0             0.428571   \n",
       "458         1.000000                   0.0             1.000000   \n",
       "230         0.977572                   4.0             0.428571   \n",
       "107         1.000000                   0.0             1.000000   \n",
       "\n",
       "     maker_maker_lev_dist  maker_maker_lev_sim  maker_maker_jar  ...    \\\n",
       "46                    0.0                  1.0              1.0  ...     \n",
       "263                   0.0                  1.0              1.0  ...     \n",
       "458                   0.0                  1.0              1.0  ...     \n",
       "230                   0.0                  1.0              1.0  ...     \n",
       "107                   0.0                  1.0              1.0  ...     \n",
       "\n",
       "     miles_miles_lev_sim  exterior_color_exterior_color_jac_qgm_3_qgm_3  \\\n",
       "46              0.666667                                       0.000000   \n",
       "263             0.285714                                       0.000000   \n",
       "458             1.000000                                       1.000000   \n",
       "230             0.666667                                       0.027778   \n",
       "107             1.000000                                       1.000000   \n",
       "\n",
       "     exterior_color_exterior_color_cos_dlm_dc0_dlm_dc0  \\\n",
       "46                                                 0.0   \n",
       "263                                                0.0   \n",
       "458                                                1.0   \n",
       "230                                                0.0   \n",
       "107                                                1.0   \n",
       "\n",
       "     exterior_color_exterior_color_jac_dlm_dc0_dlm_dc0  \\\n",
       "46                                                 0.0   \n",
       "263                                                0.0   \n",
       "458                                                1.0   \n",
       "230                                                0.0   \n",
       "107                                                1.0   \n",
       "\n",
       "     exterior_color_exterior_color_mel  \\\n",
       "46                            0.000000   \n",
       "263                           0.505050   \n",
       "458                           1.000000   \n",
       "230                           0.496032   \n",
       "107                           1.000000   \n",
       "\n",
       "     exterior_color_exterior_color_lev_dist  \\\n",
       "46                                      8.0   \n",
       "263                                    10.0   \n",
       "458                                     0.0   \n",
       "230                                    18.0   \n",
       "107                                     0.0   \n",
       "\n",
       "     exterior_color_exterior_color_lev_sim  exterior_color_exterior_color_nmw  \\\n",
       "46                                0.111111                               -4.0   \n",
       "263                               0.090909                               -4.0   \n",
       "458                               1.000000                               12.0   \n",
       "230                               0.142857                               -7.0   \n",
       "107                               1.000000                               12.0   \n",
       "\n",
       "     exterior_color_exterior_color_sw  label  \n",
       "46                                1.0      0  \n",
       "263                               1.0      0  \n",
       "458                              12.0      1  \n",
       "230                               3.0      0  \n",
       "107                              12.0      1  \n",
       "\n",
       "[5 rows x 26 columns]"
      ]
     },
     "execution_count": 8,
     "metadata": {},
     "output_type": "execute_result"
    }
   ],
   "source": [
    "H.head()"
   ]
  },
  {
   "cell_type": "code",
   "execution_count": 9,
   "metadata": {},
   "outputs": [
    {
     "data": {
      "text/plain": [
       "True"
      ]
     },
     "execution_count": 9,
     "metadata": {},
     "output_type": "execute_result"
    }
   ],
   "source": [
    "any(pd.isnull(H)) # check if there is NULL data"
   ]
  },
  {
   "cell_type": "code",
   "execution_count": 10,
   "metadata": {
    "collapsed": true
   },
   "outputs": [],
   "source": [
    "# Impute feature vectors with the mean of the column values.\n",
    "H = em.impute_table(H, \n",
    "                exclude_attrs=['_id', 'ltable_vin', 'rtable_vin', 'label'],\n",
    "                strategy='mean')"
   ]
  },
  {
   "cell_type": "markdown",
   "metadata": {},
   "source": [
    "# 3. Cross Validation\n",
    "Train different matchers using 5-fold CV, pick matcher based on F1 value."
   ]
  },
  {
   "cell_type": "code",
   "execution_count": 11,
   "metadata": {
    "collapsed": true
   },
   "outputs": [],
   "source": [
    "# Create a set of ML-matchers\n",
    "dt = em.DTMatcher(name='DecisionTree', random_state=0)\n",
    "svm = em.SVMMatcher(name='SVM', random_state=0)\n",
    "rf = em.RFMatcher(name='RF', random_state=0)\n",
    "lg = em.LogRegMatcher(name='LogReg', random_state=0)\n",
    "ln = em.LinRegMatcher(name='LinReg')"
   ]
  },
  {
   "cell_type": "code",
   "execution_count": 12,
   "metadata": {},
   "outputs": [
    {
     "data": {
      "text/html": [
       "<div>\n",
       "<style scoped>\n",
       "    .dataframe tbody tr th:only-of-type {\n",
       "        vertical-align: middle;\n",
       "    }\n",
       "\n",
       "    .dataframe tbody tr th {\n",
       "        vertical-align: top;\n",
       "    }\n",
       "\n",
       "    .dataframe thead th {\n",
       "        text-align: right;\n",
       "    }\n",
       "</style>\n",
       "<table border=\"1\" class=\"dataframe\">\n",
       "  <thead>\n",
       "    <tr style=\"text-align: right;\">\n",
       "      <th></th>\n",
       "      <th>Matcher</th>\n",
       "      <th>Average precision</th>\n",
       "      <th>Average recall</th>\n",
       "      <th>Average f1</th>\n",
       "    </tr>\n",
       "  </thead>\n",
       "  <tbody>\n",
       "    <tr>\n",
       "      <th>0</th>\n",
       "      <td>DecisionTree</td>\n",
       "      <td>0.993548</td>\n",
       "      <td>1.000000</td>\n",
       "      <td>0.996721</td>\n",
       "    </tr>\n",
       "    <tr>\n",
       "      <th>1</th>\n",
       "      <td>RF</td>\n",
       "      <td>0.993548</td>\n",
       "      <td>1.000000</td>\n",
       "      <td>0.996721</td>\n",
       "    </tr>\n",
       "    <tr>\n",
       "      <th>2</th>\n",
       "      <td>SVM</td>\n",
       "      <td>0.980345</td>\n",
       "      <td>0.955654</td>\n",
       "      <td>0.967600</td>\n",
       "    </tr>\n",
       "    <tr>\n",
       "      <th>3</th>\n",
       "      <td>LinReg</td>\n",
       "      <td>1.000000</td>\n",
       "      <td>0.955758</td>\n",
       "      <td>0.976810</td>\n",
       "    </tr>\n",
       "    <tr>\n",
       "      <th>4</th>\n",
       "      <td>LogReg</td>\n",
       "      <td>1.000000</td>\n",
       "      <td>0.993103</td>\n",
       "      <td>0.996491</td>\n",
       "    </tr>\n",
       "  </tbody>\n",
       "</table>\n",
       "</div>"
      ],
      "text/plain": [
       "        Matcher  Average precision  Average recall  Average f1\n",
       "0  DecisionTree           0.993548        1.000000    0.996721\n",
       "1            RF           0.993548        1.000000    0.996721\n",
       "2           SVM           0.980345        0.955654    0.967600\n",
       "3        LinReg           1.000000        0.955758    0.976810\n",
       "4        LogReg           1.000000        0.993103    0.996491"
      ]
     },
     "execution_count": 12,
     "metadata": {},
     "output_type": "execute_result"
    }
   ],
   "source": [
    "# Select the best ML matcher using CV\n",
    "result = em.select_matcher([dt, rf, svm, ln, lg], table=H, \n",
    "        exclude_attrs=['_id', 'ltable_vin', 'rtable_vin', 'label'],\n",
    "        k=5,\n",
    "        target_attr='label', metric_to_select_matcher='f1', random_state=0)\n",
    "result['cv_stats']"
   ]
  },
  {
   "cell_type": "code",
   "execution_count": 13,
   "metadata": {},
   "outputs": [
    {
     "data": {
      "text/html": [
       "<div>\n",
       "<style scoped>\n",
       "    .dataframe tbody tr th:only-of-type {\n",
       "        vertical-align: middle;\n",
       "    }\n",
       "\n",
       "    .dataframe tbody tr th {\n",
       "        vertical-align: top;\n",
       "    }\n",
       "\n",
       "    .dataframe thead th {\n",
       "        text-align: right;\n",
       "    }\n",
       "</style>\n",
       "<table border=\"1\" class=\"dataframe\">\n",
       "  <thead>\n",
       "    <tr style=\"text-align: right;\">\n",
       "      <th></th>\n",
       "      <th>Name</th>\n",
       "      <th>Matcher</th>\n",
       "      <th>Num folds</th>\n",
       "      <th>Fold 1</th>\n",
       "      <th>Fold 2</th>\n",
       "      <th>Fold 3</th>\n",
       "      <th>Fold 4</th>\n",
       "      <th>Fold 5</th>\n",
       "      <th>Mean score</th>\n",
       "    </tr>\n",
       "  </thead>\n",
       "  <tbody>\n",
       "    <tr>\n",
       "      <th>0</th>\n",
       "      <td>DecisionTree</td>\n",
       "      <td>&lt;py_entitymatching.matcher.dtmatcher.DTMatcher object at 0x10cc16160&gt;</td>\n",
       "      <td>5</td>\n",
       "      <td>1.000000</td>\n",
       "      <td>1.0</td>\n",
       "      <td>1.0</td>\n",
       "      <td>0.967742</td>\n",
       "      <td>1.000000</td>\n",
       "      <td>0.993548</td>\n",
       "    </tr>\n",
       "    <tr>\n",
       "      <th>1</th>\n",
       "      <td>RF</td>\n",
       "      <td>&lt;py_entitymatching.matcher.rfmatcher.RFMatcher object at 0x10cc16b38&gt;</td>\n",
       "      <td>5</td>\n",
       "      <td>1.000000</td>\n",
       "      <td>1.0</td>\n",
       "      <td>1.0</td>\n",
       "      <td>0.967742</td>\n",
       "      <td>1.000000</td>\n",
       "      <td>0.993548</td>\n",
       "    </tr>\n",
       "    <tr>\n",
       "      <th>2</th>\n",
       "      <td>SVM</td>\n",
       "      <td>&lt;py_entitymatching.matcher.svmmatcher.SVMMatcher object at 0x10cc16390&gt;</td>\n",
       "      <td>5</td>\n",
       "      <td>0.969697</td>\n",
       "      <td>1.0</td>\n",
       "      <td>1.0</td>\n",
       "      <td>0.967742</td>\n",
       "      <td>0.964286</td>\n",
       "      <td>0.980345</td>\n",
       "    </tr>\n",
       "    <tr>\n",
       "      <th>3</th>\n",
       "      <td>LinReg</td>\n",
       "      <td>&lt;py_entitymatching.matcher.linregmatcher.LinRegMatcher object at 0x10cc165c0&gt;</td>\n",
       "      <td>5</td>\n",
       "      <td>1.000000</td>\n",
       "      <td>1.0</td>\n",
       "      <td>1.0</td>\n",
       "      <td>1.000000</td>\n",
       "      <td>1.000000</td>\n",
       "      <td>1.000000</td>\n",
       "    </tr>\n",
       "    <tr>\n",
       "      <th>4</th>\n",
       "      <td>LogReg</td>\n",
       "      <td>&lt;py_entitymatching.matcher.logregmatcher.LogRegMatcher object at 0x10cc16f98&gt;</td>\n",
       "      <td>5</td>\n",
       "      <td>1.000000</td>\n",
       "      <td>1.0</td>\n",
       "      <td>1.0</td>\n",
       "      <td>1.000000</td>\n",
       "      <td>1.000000</td>\n",
       "      <td>1.000000</td>\n",
       "    </tr>\n",
       "  </tbody>\n",
       "</table>\n",
       "</div>"
      ],
      "text/plain": [
       "           Name  \\\n",
       "0  DecisionTree   \n",
       "1            RF   \n",
       "2           SVM   \n",
       "3        LinReg   \n",
       "4        LogReg   \n",
       "\n",
       "                                                                         Matcher  \\\n",
       "0          <py_entitymatching.matcher.dtmatcher.DTMatcher object at 0x10cc16160>   \n",
       "1          <py_entitymatching.matcher.rfmatcher.RFMatcher object at 0x10cc16b38>   \n",
       "2        <py_entitymatching.matcher.svmmatcher.SVMMatcher object at 0x10cc16390>   \n",
       "3  <py_entitymatching.matcher.linregmatcher.LinRegMatcher object at 0x10cc165c0>   \n",
       "4  <py_entitymatching.matcher.logregmatcher.LogRegMatcher object at 0x10cc16f98>   \n",
       "\n",
       "   Num folds    Fold 1  Fold 2  Fold 3    Fold 4    Fold 5  Mean score  \n",
       "0          5  1.000000     1.0     1.0  0.967742  1.000000    0.993548  \n",
       "1          5  1.000000     1.0     1.0  0.967742  1.000000    0.993548  \n",
       "2          5  0.969697     1.0     1.0  0.967742  0.964286    0.980345  \n",
       "3          5  1.000000     1.0     1.0  1.000000  1.000000    1.000000  \n",
       "4          5  1.000000     1.0     1.0  1.000000  1.000000    1.000000  "
      ]
     },
     "execution_count": 13,
     "metadata": {},
     "output_type": "execute_result"
    }
   ],
   "source": [
    "# precision result\n",
    "result['drill_down_cv_stats']['precision']"
   ]
  },
  {
   "cell_type": "code",
   "execution_count": 14,
   "metadata": {},
   "outputs": [
    {
     "data": {
      "text/html": [
       "<div>\n",
       "<style scoped>\n",
       "    .dataframe tbody tr th:only-of-type {\n",
       "        vertical-align: middle;\n",
       "    }\n",
       "\n",
       "    .dataframe tbody tr th {\n",
       "        vertical-align: top;\n",
       "    }\n",
       "\n",
       "    .dataframe thead th {\n",
       "        text-align: right;\n",
       "    }\n",
       "</style>\n",
       "<table border=\"1\" class=\"dataframe\">\n",
       "  <thead>\n",
       "    <tr style=\"text-align: right;\">\n",
       "      <th></th>\n",
       "      <th>Name</th>\n",
       "      <th>Matcher</th>\n",
       "      <th>Num folds</th>\n",
       "      <th>Fold 1</th>\n",
       "      <th>Fold 2</th>\n",
       "      <th>Fold 3</th>\n",
       "      <th>Fold 4</th>\n",
       "      <th>Fold 5</th>\n",
       "      <th>Mean score</th>\n",
       "    </tr>\n",
       "  </thead>\n",
       "  <tbody>\n",
       "    <tr>\n",
       "      <th>0</th>\n",
       "      <td>DecisionTree</td>\n",
       "      <td>&lt;py_entitymatching.matcher.dtmatcher.DTMatcher object at 0x10cc16160&gt;</td>\n",
       "      <td>5</td>\n",
       "      <td>1.000000</td>\n",
       "      <td>1.000000</td>\n",
       "      <td>1.000000</td>\n",
       "      <td>1.000000</td>\n",
       "      <td>1.000000</td>\n",
       "      <td>1.000000</td>\n",
       "    </tr>\n",
       "    <tr>\n",
       "      <th>1</th>\n",
       "      <td>RF</td>\n",
       "      <td>&lt;py_entitymatching.matcher.rfmatcher.RFMatcher object at 0x10cc16b38&gt;</td>\n",
       "      <td>5</td>\n",
       "      <td>1.000000</td>\n",
       "      <td>1.000000</td>\n",
       "      <td>1.000000</td>\n",
       "      <td>1.000000</td>\n",
       "      <td>1.000000</td>\n",
       "      <td>1.000000</td>\n",
       "    </tr>\n",
       "    <tr>\n",
       "      <th>2</th>\n",
       "      <td>SVM</td>\n",
       "      <td>&lt;py_entitymatching.matcher.svmmatcher.SVMMatcher object at 0x10cc16390&gt;</td>\n",
       "      <td>5</td>\n",
       "      <td>0.941176</td>\n",
       "      <td>0.966667</td>\n",
       "      <td>0.939394</td>\n",
       "      <td>1.000000</td>\n",
       "      <td>0.931034</td>\n",
       "      <td>0.955654</td>\n",
       "    </tr>\n",
       "    <tr>\n",
       "      <th>3</th>\n",
       "      <td>LinReg</td>\n",
       "      <td>&lt;py_entitymatching.matcher.linregmatcher.LinRegMatcher object at 0x10cc165c0&gt;</td>\n",
       "      <td>5</td>\n",
       "      <td>1.000000</td>\n",
       "      <td>0.966667</td>\n",
       "      <td>0.878788</td>\n",
       "      <td>0.933333</td>\n",
       "      <td>1.000000</td>\n",
       "      <td>0.955758</td>\n",
       "    </tr>\n",
       "    <tr>\n",
       "      <th>4</th>\n",
       "      <td>LogReg</td>\n",
       "      <td>&lt;py_entitymatching.matcher.logregmatcher.LogRegMatcher object at 0x10cc16f98&gt;</td>\n",
       "      <td>5</td>\n",
       "      <td>1.000000</td>\n",
       "      <td>1.000000</td>\n",
       "      <td>1.000000</td>\n",
       "      <td>1.000000</td>\n",
       "      <td>0.965517</td>\n",
       "      <td>0.993103</td>\n",
       "    </tr>\n",
       "  </tbody>\n",
       "</table>\n",
       "</div>"
      ],
      "text/plain": [
       "           Name  \\\n",
       "0  DecisionTree   \n",
       "1            RF   \n",
       "2           SVM   \n",
       "3        LinReg   \n",
       "4        LogReg   \n",
       "\n",
       "                                                                         Matcher  \\\n",
       "0          <py_entitymatching.matcher.dtmatcher.DTMatcher object at 0x10cc16160>   \n",
       "1          <py_entitymatching.matcher.rfmatcher.RFMatcher object at 0x10cc16b38>   \n",
       "2        <py_entitymatching.matcher.svmmatcher.SVMMatcher object at 0x10cc16390>   \n",
       "3  <py_entitymatching.matcher.linregmatcher.LinRegMatcher object at 0x10cc165c0>   \n",
       "4  <py_entitymatching.matcher.logregmatcher.LogRegMatcher object at 0x10cc16f98>   \n",
       "\n",
       "   Num folds    Fold 1    Fold 2    Fold 3    Fold 4    Fold 5  Mean score  \n",
       "0          5  1.000000  1.000000  1.000000  1.000000  1.000000    1.000000  \n",
       "1          5  1.000000  1.000000  1.000000  1.000000  1.000000    1.000000  \n",
       "2          5  0.941176  0.966667  0.939394  1.000000  0.931034    0.955654  \n",
       "3          5  1.000000  0.966667  0.878788  0.933333  1.000000    0.955758  \n",
       "4          5  1.000000  1.000000  1.000000  1.000000  0.965517    0.993103  "
      ]
     },
     "execution_count": 14,
     "metadata": {},
     "output_type": "execute_result"
    }
   ],
   "source": [
    "result['drill_down_cv_stats']['recall']"
   ]
  },
  {
   "cell_type": "code",
   "execution_count": 15,
   "metadata": {},
   "outputs": [
    {
     "data": {
      "text/html": [
       "<div>\n",
       "<style scoped>\n",
       "    .dataframe tbody tr th:only-of-type {\n",
       "        vertical-align: middle;\n",
       "    }\n",
       "\n",
       "    .dataframe tbody tr th {\n",
       "        vertical-align: top;\n",
       "    }\n",
       "\n",
       "    .dataframe thead th {\n",
       "        text-align: right;\n",
       "    }\n",
       "</style>\n",
       "<table border=\"1\" class=\"dataframe\">\n",
       "  <thead>\n",
       "    <tr style=\"text-align: right;\">\n",
       "      <th></th>\n",
       "      <th>Name</th>\n",
       "      <th>Matcher</th>\n",
       "      <th>Num folds</th>\n",
       "      <th>Fold 1</th>\n",
       "      <th>Fold 2</th>\n",
       "      <th>Fold 3</th>\n",
       "      <th>Fold 4</th>\n",
       "      <th>Fold 5</th>\n",
       "      <th>Mean score</th>\n",
       "    </tr>\n",
       "  </thead>\n",
       "  <tbody>\n",
       "    <tr>\n",
       "      <th>0</th>\n",
       "      <td>DecisionTree</td>\n",
       "      <td>&lt;py_entitymatching.matcher.dtmatcher.DTMatcher object at 0x10cc16160&gt;</td>\n",
       "      <td>5</td>\n",
       "      <td>1.000000</td>\n",
       "      <td>1.000000</td>\n",
       "      <td>1.000000</td>\n",
       "      <td>0.983607</td>\n",
       "      <td>1.000000</td>\n",
       "      <td>0.996721</td>\n",
       "    </tr>\n",
       "    <tr>\n",
       "      <th>1</th>\n",
       "      <td>RF</td>\n",
       "      <td>&lt;py_entitymatching.matcher.rfmatcher.RFMatcher object at 0x10cc16b38&gt;</td>\n",
       "      <td>5</td>\n",
       "      <td>1.000000</td>\n",
       "      <td>1.000000</td>\n",
       "      <td>1.000000</td>\n",
       "      <td>0.983607</td>\n",
       "      <td>1.000000</td>\n",
       "      <td>0.996721</td>\n",
       "    </tr>\n",
       "    <tr>\n",
       "      <th>2</th>\n",
       "      <td>SVM</td>\n",
       "      <td>&lt;py_entitymatching.matcher.svmmatcher.SVMMatcher object at 0x10cc16390&gt;</td>\n",
       "      <td>5</td>\n",
       "      <td>0.955224</td>\n",
       "      <td>0.983051</td>\n",
       "      <td>0.968750</td>\n",
       "      <td>0.983607</td>\n",
       "      <td>0.947368</td>\n",
       "      <td>0.967600</td>\n",
       "    </tr>\n",
       "    <tr>\n",
       "      <th>3</th>\n",
       "      <td>LinReg</td>\n",
       "      <td>&lt;py_entitymatching.matcher.linregmatcher.LinRegMatcher object at 0x10cc165c0&gt;</td>\n",
       "      <td>5</td>\n",
       "      <td>1.000000</td>\n",
       "      <td>0.983051</td>\n",
       "      <td>0.935484</td>\n",
       "      <td>0.965517</td>\n",
       "      <td>1.000000</td>\n",
       "      <td>0.976810</td>\n",
       "    </tr>\n",
       "    <tr>\n",
       "      <th>4</th>\n",
       "      <td>LogReg</td>\n",
       "      <td>&lt;py_entitymatching.matcher.logregmatcher.LogRegMatcher object at 0x10cc16f98&gt;</td>\n",
       "      <td>5</td>\n",
       "      <td>1.000000</td>\n",
       "      <td>1.000000</td>\n",
       "      <td>1.000000</td>\n",
       "      <td>1.000000</td>\n",
       "      <td>0.982456</td>\n",
       "      <td>0.996491</td>\n",
       "    </tr>\n",
       "  </tbody>\n",
       "</table>\n",
       "</div>"
      ],
      "text/plain": [
       "           Name  \\\n",
       "0  DecisionTree   \n",
       "1            RF   \n",
       "2           SVM   \n",
       "3        LinReg   \n",
       "4        LogReg   \n",
       "\n",
       "                                                                         Matcher  \\\n",
       "0          <py_entitymatching.matcher.dtmatcher.DTMatcher object at 0x10cc16160>   \n",
       "1          <py_entitymatching.matcher.rfmatcher.RFMatcher object at 0x10cc16b38>   \n",
       "2        <py_entitymatching.matcher.svmmatcher.SVMMatcher object at 0x10cc16390>   \n",
       "3  <py_entitymatching.matcher.linregmatcher.LinRegMatcher object at 0x10cc165c0>   \n",
       "4  <py_entitymatching.matcher.logregmatcher.LogRegMatcher object at 0x10cc16f98>   \n",
       "\n",
       "   Num folds    Fold 1    Fold 2    Fold 3    Fold 4    Fold 5  Mean score  \n",
       "0          5  1.000000  1.000000  1.000000  0.983607  1.000000    0.996721  \n",
       "1          5  1.000000  1.000000  1.000000  0.983607  1.000000    0.996721  \n",
       "2          5  0.955224  0.983051  0.968750  0.983607  0.947368    0.967600  \n",
       "3          5  1.000000  0.983051  0.935484  0.965517  1.000000    0.976810  \n",
       "4          5  1.000000  1.000000  1.000000  1.000000  0.982456    0.996491  "
      ]
     },
     "execution_count": 15,
     "metadata": {},
     "output_type": "execute_result"
    }
   ],
   "source": [
    "result['drill_down_cv_stats']['f1']"
   ]
  },
  {
   "cell_type": "markdown",
   "metadata": {},
   "source": [
    "# 4. Train and Predict\n",
    "Random forest is picked by CV. So train a RF matcher on I and apply the matcher on J to predict. It can be seen from the result that the performance of the matcher on J is very good. "
   ]
  },
  {
   "cell_type": "code",
   "execution_count": 16,
   "metadata": {},
   "outputs": [
    {
     "data": {
      "text/plain": [
       "<py_entitymatching.matcher.dtmatcher.DTMatcher at 0x10cc16160>"
      ]
     },
     "execution_count": 16,
     "metadata": {},
     "output_type": "execute_result"
    }
   ],
   "source": [
    "result['selected_matcher']"
   ]
  },
  {
   "cell_type": "code",
   "execution_count": 17,
   "metadata": {
    "collapsed": true
   },
   "outputs": [],
   "source": [
    "rf = em.RFMatcher(name='RF', random_state=0)"
   ]
  },
  {
   "cell_type": "code",
   "execution_count": 18,
   "metadata": {
    "collapsed": true
   },
   "outputs": [],
   "source": [
    "# Train using feature vectors from I \n",
    "rf.fit(table=H, \n",
    "       exclude_attrs=['_id', 'ltable_vin', 'rtable_vin', 'label'], \n",
    "       target_attr='label')"
   ]
  },
  {
   "cell_type": "code",
   "execution_count": 19,
   "metadata": {
    "collapsed": true
   },
   "outputs": [],
   "source": [
    "L = em.extract_feature_vecs(J, feature_table=F,\n",
    "                            attrs_after='label', show_progress=False)"
   ]
  },
  {
   "cell_type": "code",
   "execution_count": 20,
   "metadata": {},
   "outputs": [
    {
     "data": {
      "text/plain": [
       "True"
      ]
     },
     "execution_count": 20,
     "metadata": {},
     "output_type": "execute_result"
    }
   ],
   "source": [
    "any(pd.isnull(L))"
   ]
  },
  {
   "cell_type": "code",
   "execution_count": 21,
   "metadata": {
    "collapsed": true
   },
   "outputs": [],
   "source": [
    "L = em.impute_table(L, \n",
    "                exclude_attrs=['_id', 'ltable_vin', 'rtable_vin', 'label'],\n",
    "                strategy='mean')"
   ]
  },
  {
   "cell_type": "code",
   "execution_count": 22,
   "metadata": {
    "collapsed": true
   },
   "outputs": [],
   "source": [
    "predictions = rf.predict(table=L, exclude_attrs=['_id', 'ltable_vin', 'rtable_vin', 'label'], \n",
    "              append=True, target_attr='predicted', inplace=False, return_probs=True,\n",
    "                        probs_attr='proba')"
   ]
  },
  {
   "cell_type": "code",
   "execution_count": 23,
   "metadata": {},
   "outputs": [
    {
     "data": {
      "text/html": [
       "<div>\n",
       "<style scoped>\n",
       "    .dataframe tbody tr th:only-of-type {\n",
       "        vertical-align: middle;\n",
       "    }\n",
       "\n",
       "    .dataframe tbody tr th {\n",
       "        vertical-align: top;\n",
       "    }\n",
       "\n",
       "    .dataframe thead th {\n",
       "        text-align: right;\n",
       "    }\n",
       "</style>\n",
       "<table border=\"1\" class=\"dataframe\">\n",
       "  <thead>\n",
       "    <tr style=\"text-align: right;\">\n",
       "      <th></th>\n",
       "      <th>_id</th>\n",
       "      <th>ltable_vin</th>\n",
       "      <th>rtable_vin</th>\n",
       "      <th>predicted</th>\n",
       "      <th>proba</th>\n",
       "    </tr>\n",
       "  </thead>\n",
       "  <tbody>\n",
       "    <tr>\n",
       "      <th>434</th>\n",
       "      <td>66276</td>\n",
       "      <td>WA1BNAFY5J2099783</td>\n",
       "      <td>WA1BNAFY8J2017383</td>\n",
       "      <td>0</td>\n",
       "      <td>0.0</td>\n",
       "    </tr>\n",
       "    <tr>\n",
       "      <th>122</th>\n",
       "      <td>21429</td>\n",
       "      <td>5UXWX9C34H0T23686</td>\n",
       "      <td>5UXWX9C34H0T23686</td>\n",
       "      <td>1</td>\n",
       "      <td>1.0</td>\n",
       "    </tr>\n",
       "    <tr>\n",
       "      <th>224</th>\n",
       "      <td>35685</td>\n",
       "      <td>WA1C2AFP9HA099371</td>\n",
       "      <td>WA1C2AFP4HA096460</td>\n",
       "      <td>0</td>\n",
       "      <td>0.0</td>\n",
       "    </tr>\n",
       "    <tr>\n",
       "      <th>479</th>\n",
       "      <td>72736</td>\n",
       "      <td>WDDZF4KB9JA409188</td>\n",
       "      <td>WDC0G4KB8JV060995</td>\n",
       "      <td>0</td>\n",
       "      <td>0.0</td>\n",
       "    </tr>\n",
       "    <tr>\n",
       "      <th>205</th>\n",
       "      <td>32389</td>\n",
       "      <td>WBA3B3G54FNR87396</td>\n",
       "      <td>WBA3B3G54FNR87396</td>\n",
       "      <td>1</td>\n",
       "      <td>1.0</td>\n",
       "    </tr>\n",
       "  </tbody>\n",
       "</table>\n",
       "</div>"
      ],
      "text/plain": [
       "       _id         ltable_vin         rtable_vin  predicted  proba\n",
       "434  66276  WA1BNAFY5J2099783  WA1BNAFY8J2017383          0    0.0\n",
       "122  21429  5UXWX9C34H0T23686  5UXWX9C34H0T23686          1    1.0\n",
       "224  35685  WA1C2AFP9HA099371  WA1C2AFP4HA096460          0    0.0\n",
       "479  72736  WDDZF4KB9JA409188  WDC0G4KB8JV060995          0    0.0\n",
       "205  32389  WBA3B3G54FNR87396  WBA3B3G54FNR87396          1    1.0"
      ]
     },
     "execution_count": 23,
     "metadata": {},
     "output_type": "execute_result"
    }
   ],
   "source": [
    "predictions[['_id', 'ltable_vin', 'rtable_vin', 'predicted', 'proba']].head()"
   ]
  },
  {
   "cell_type": "code",
   "execution_count": 24,
   "metadata": {},
   "outputs": [
    {
     "name": "stdout",
     "output_type": "stream",
     "text": [
      "Precision : 97.01% (65/67)\n",
      "Recall : 98.48% (65/66)\n",
      "F1 : 97.74%\n",
      "False positives : 2 (out of 67 positive predictions)\n",
      "False negatives : 1 (out of 83 negative predictions)\n"
     ]
    }
   ],
   "source": [
    "eval_result = em.eval_matches(predictions, 'label', 'predicted')\n",
    "em.print_eval_summary(eval_result)"
   ]
  },
  {
   "cell_type": "code",
   "execution_count": null,
   "metadata": {
    "collapsed": true
   },
   "outputs": [],
   "source": []
  }
 ],
 "metadata": {
  "kernelspec": {
   "display_name": "python-python3env",
   "language": "python",
   "name": "python3env"
  },
  "language_info": {
   "codemirror_mode": {
    "name": "ipython",
    "version": 3
   },
   "file_extension": ".py",
   "mimetype": "text/x-python",
   "name": "python",
   "nbconvert_exporter": "python",
   "pygments_lexer": "ipython3",
   "version": "3.6.3"
  }
 },
 "nbformat": 4,
 "nbformat_minor": 2
}
