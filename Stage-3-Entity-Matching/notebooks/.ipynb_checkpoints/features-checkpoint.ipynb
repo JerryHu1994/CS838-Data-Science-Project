{
 "cells": [
  {
   "cell_type": "markdown",
   "metadata": {},
   "source": [
    "# 1. Generating features"
   ]
  },
  {
   "cell_type": "code",
   "execution_count": 1,
   "metadata": {},
   "outputs": [],
   "source": [
    "import py_entitymatching as em\n",
    "import pandas as pd"
   ]
  },
  {
   "cell_type": "code",
   "execution_count": 2,
   "metadata": {},
   "outputs": [
    {
     "name": "stdout",
     "output_type": "stream",
     "text": [
      "block.ipynb             features.ipynb          pairs.csv\r\n",
      "cars_com_clean.csv      label.ipynb             pairs_sample.csv\r\n",
      "cars_com_luxury.csv     market_api_clean.csv    read-csv.ipynb\r\n",
      "cars_sample.csv         market_check_luxury.csv sample.ipynb\r\n",
      "down-sampling.ipynb     market_sample.csv\r\n"
     ]
    }
   ],
   "source": [
    "!ls"
   ]
  },
  {
   "cell_type": "code",
   "execution_count": 5,
   "metadata": {},
   "outputs": [
    {
     "name": "stderr",
     "output_type": "stream",
     "text": [
      "Metadata file is not present in the given path; proceeding to read the csv file.\n",
      "Metadata file is not present in the given path; proceeding to read the csv file.\n"
     ]
    }
   ],
   "source": [
    "A = em.read_csv_metadata('cars_sample.csv', key='vin')\n",
    "B = em.read_csv_metadata('market_sample.csv', key='vin')"
   ]
  },
  {
   "cell_type": "markdown",
   "metadata": {},
   "source": [
    "## 1.1 Getting Attribute Types"
   ]
  },
  {
   "cell_type": "code",
   "execution_count": 6,
   "metadata": {},
   "outputs": [],
   "source": [
    "atypes1 = em.get_attr_types(A)\n",
    "atypes2 = em.get_attr_types(B)"
   ]
  },
  {
   "cell_type": "code",
   "execution_count": 7,
   "metadata": {},
   "outputs": [
    {
     "data": {
      "text/plain": [
       "dict_keys(['name', 'year', 'maker', 'price', 'seller_name', 'seller_phone', 'miles', 'exterior_color', 'interior_color', 'transmission', 'drivetrain', 'vin', 'id', '_table'])"
      ]
     },
     "execution_count": 7,
     "metadata": {},
     "output_type": "execute_result"
    }
   ],
   "source": [
    "atypes1.keys()"
   ]
  },
  {
   "cell_type": "code",
   "execution_count": 9,
   "metadata": {},
   "outputs": [
    {
     "data": {
      "text/plain": [
       "('str_bt_1w_5w', 'numeric', 'str_eq_1w', 'numeric')"
      ]
     },
     "execution_count": 9,
     "metadata": {},
     "output_type": "execute_result"
    }
   ],
   "source": [
    "atypes1['name'], atypes1['year'], atypes1['maker'], atypes1['price']"
   ]
  },
  {
   "cell_type": "markdown",
   "metadata": {},
   "source": [
    "## 1.2 Getting Attribute Corresponences"
   ]
  },
  {
   "cell_type": "code",
   "execution_count": 10,
   "metadata": {},
   "outputs": [],
   "source": [
    "block_c = em.get_attr_corres(A, B)"
   ]
  },
  {
   "cell_type": "code",
   "execution_count": 11,
   "metadata": {},
   "outputs": [
    {
     "data": {
      "text/plain": [
       "dict_keys(['corres', 'ltable', 'rtable'])"
      ]
     },
     "execution_count": 11,
     "metadata": {},
     "output_type": "execute_result"
    }
   ],
   "source": [
    "block_c.keys()"
   ]
  },
  {
   "cell_type": "code",
   "execution_count": 12,
   "metadata": {},
   "outputs": [
    {
     "data": {
      "text/plain": [
       "[('name', 'name'),\n",
       " ('year', 'year'),\n",
       " ('maker', 'maker'),\n",
       " ('price', 'price'),\n",
       " ('seller_name', 'seller_name'),\n",
       " ('seller_phone', 'seller_phone'),\n",
       " ('miles', 'miles'),\n",
       " ('exterior_color', 'exterior_color'),\n",
       " ('interior_color', 'interior_color'),\n",
       " ('transmission', 'transmission'),\n",
       " ('drivetrain', 'drivetrain'),\n",
       " ('vin', 'vin'),\n",
       " ('id', 'id')]"
      ]
     },
     "execution_count": 12,
     "metadata": {},
     "output_type": "execute_result"
    }
   ],
   "source": [
    "block_c['corres']"
   ]
  },
  {
   "cell_type": "code",
   "execution_count": 31,
   "metadata": {},
   "outputs": [],
   "source": [
    "block_c['corres'] = [('name', 'name'),\n",
    " ('year', 'year'),\n",
    " ('maker', 'maker'),\n",
    " ('price', 'price'),\n",
    " ('miles', 'miles'),\n",
    "('exterior_color', 'exterior_color')]\n",
    "                     "
   ]
  },
  {
   "cell_type": "markdown",
   "metadata": {},
   "source": [
    "## 1.3 Getting Tokenizers"
   ]
  },
  {
   "cell_type": "code",
   "execution_count": 13,
   "metadata": {},
   "outputs": [],
   "source": [
    "tok = em.get_tokenizers_for_matching()"
   ]
  },
  {
   "cell_type": "markdown",
   "metadata": {},
   "source": [
    "## 1.4 Getting Similarity Functions"
   ]
  },
  {
   "cell_type": "code",
   "execution_count": 14,
   "metadata": {},
   "outputs": [],
   "source": [
    "sim = em.get_sim_funs_for_matching()"
   ]
  },
  {
   "cell_type": "markdown",
   "metadata": {},
   "source": [
    "## 1.5 Getting Features"
   ]
  },
  {
   "cell_type": "code",
   "execution_count": 32,
   "metadata": {},
   "outputs": [],
   "source": [
    "feature_table = em.get_features(A, B, atypes1, atypes2, block_c, tok, sim)"
   ]
  },
  {
   "cell_type": "code",
   "execution_count": 33,
   "metadata": {},
   "outputs": [
    {
     "data": {
      "text/plain": [
       "26"
      ]
     },
     "execution_count": 33,
     "metadata": {},
     "output_type": "execute_result"
    }
   ],
   "source": [
    "len(feature_table)"
   ]
  },
  {
   "cell_type": "code",
   "execution_count": 34,
   "metadata": {},
   "outputs": [
    {
     "data": {
      "text/plain": [
       "pandas.core.frame.DataFrame"
      ]
     },
     "execution_count": 34,
     "metadata": {},
     "output_type": "execute_result"
    }
   ],
   "source": [
    "type(feature_table)"
   ]
  },
  {
   "cell_type": "code",
   "execution_count": 35,
   "metadata": {},
   "outputs": [
    {
     "data": {
      "text/html": [
       "<div>\n",
       "<style scoped>\n",
       "    .dataframe tbody tr th:only-of-type {\n",
       "        vertical-align: middle;\n",
       "    }\n",
       "\n",
       "    .dataframe tbody tr th {\n",
       "        vertical-align: top;\n",
       "    }\n",
       "\n",
       "    .dataframe thead th {\n",
       "        text-align: right;\n",
       "    }\n",
       "</style>\n",
       "<table border=\"1\" class=\"dataframe\">\n",
       "  <thead>\n",
       "    <tr style=\"text-align: right;\">\n",
       "      <th></th>\n",
       "      <th>feature_name</th>\n",
       "      <th>left_attribute</th>\n",
       "      <th>right_attribute</th>\n",
       "      <th>left_attr_tokenizer</th>\n",
       "      <th>right_attr_tokenizer</th>\n",
       "      <th>simfunction</th>\n",
       "      <th>function</th>\n",
       "      <th>function_source</th>\n",
       "      <th>is_auto_generated</th>\n",
       "    </tr>\n",
       "  </thead>\n",
       "  <tbody>\n",
       "    <tr>\n",
       "      <th>0</th>\n",
       "      <td>year_year_exm</td>\n",
       "      <td>year</td>\n",
       "      <td>year</td>\n",
       "      <td>None</td>\n",
       "      <td>None</td>\n",
       "      <td>exact_match</td>\n",
       "      <td>&lt;function year_year_exm at 0x11600b9d8&gt;</td>\n",
       "      <td>from py_entitymatching.feature.simfunctions import *\\nfrom py_entitymatching.feature.tokenizers ...</td>\n",
       "      <td>True</td>\n",
       "    </tr>\n",
       "    <tr>\n",
       "      <th>1</th>\n",
       "      <td>year_year_anm</td>\n",
       "      <td>year</td>\n",
       "      <td>year</td>\n",
       "      <td>None</td>\n",
       "      <td>None</td>\n",
       "      <td>abs_norm</td>\n",
       "      <td>&lt;function year_year_anm at 0x11600b7b8&gt;</td>\n",
       "      <td>from py_entitymatching.feature.simfunctions import *\\nfrom py_entitymatching.feature.tokenizers ...</td>\n",
       "      <td>True</td>\n",
       "    </tr>\n",
       "    <tr>\n",
       "      <th>2</th>\n",
       "      <td>year_year_lev_dist</td>\n",
       "      <td>year</td>\n",
       "      <td>year</td>\n",
       "      <td>None</td>\n",
       "      <td>None</td>\n",
       "      <td>lev_dist</td>\n",
       "      <td>&lt;function year_year_lev_dist at 0x11600b8c8&gt;</td>\n",
       "      <td>from py_entitymatching.feature.simfunctions import *\\nfrom py_entitymatching.feature.tokenizers ...</td>\n",
       "      <td>True</td>\n",
       "    </tr>\n",
       "    <tr>\n",
       "      <th>3</th>\n",
       "      <td>year_year_lev_sim</td>\n",
       "      <td>year</td>\n",
       "      <td>year</td>\n",
       "      <td>None</td>\n",
       "      <td>None</td>\n",
       "      <td>lev_sim</td>\n",
       "      <td>&lt;function year_year_lev_sim at 0x11600ba60&gt;</td>\n",
       "      <td>from py_entitymatching.feature.simfunctions import *\\nfrom py_entitymatching.feature.tokenizers ...</td>\n",
       "      <td>True</td>\n",
       "    </tr>\n",
       "    <tr>\n",
       "      <th>4</th>\n",
       "      <td>maker_maker_lev_dist</td>\n",
       "      <td>maker</td>\n",
       "      <td>maker</td>\n",
       "      <td>None</td>\n",
       "      <td>None</td>\n",
       "      <td>lev_dist</td>\n",
       "      <td>&lt;function maker_maker_lev_dist at 0x11600bb70&gt;</td>\n",
       "      <td>from py_entitymatching.feature.simfunctions import *\\nfrom py_entitymatching.feature.tokenizers ...</td>\n",
       "      <td>True</td>\n",
       "    </tr>\n",
       "    <tr>\n",
       "      <th>5</th>\n",
       "      <td>maker_maker_lev_sim</td>\n",
       "      <td>maker</td>\n",
       "      <td>maker</td>\n",
       "      <td>None</td>\n",
       "      <td>None</td>\n",
       "      <td>lev_sim</td>\n",
       "      <td>&lt;function maker_maker_lev_sim at 0x11600bbf8&gt;</td>\n",
       "      <td>from py_entitymatching.feature.simfunctions import *\\nfrom py_entitymatching.feature.tokenizers ...</td>\n",
       "      <td>True</td>\n",
       "    </tr>\n",
       "    <tr>\n",
       "      <th>6</th>\n",
       "      <td>maker_maker_jar</td>\n",
       "      <td>maker</td>\n",
       "      <td>maker</td>\n",
       "      <td>None</td>\n",
       "      <td>None</td>\n",
       "      <td>jaro</td>\n",
       "      <td>&lt;function maker_maker_jar at 0x11600bc80&gt;</td>\n",
       "      <td>from py_entitymatching.feature.simfunctions import *\\nfrom py_entitymatching.feature.tokenizers ...</td>\n",
       "      <td>True</td>\n",
       "    </tr>\n",
       "    <tr>\n",
       "      <th>7</th>\n",
       "      <td>maker_maker_jwn</td>\n",
       "      <td>maker</td>\n",
       "      <td>maker</td>\n",
       "      <td>None</td>\n",
       "      <td>None</td>\n",
       "      <td>jaro_winkler</td>\n",
       "      <td>&lt;function maker_maker_jwn at 0x11600bd08&gt;</td>\n",
       "      <td>from py_entitymatching.feature.simfunctions import *\\nfrom py_entitymatching.feature.tokenizers ...</td>\n",
       "      <td>True</td>\n",
       "    </tr>\n",
       "    <tr>\n",
       "      <th>8</th>\n",
       "      <td>maker_maker_exm</td>\n",
       "      <td>maker</td>\n",
       "      <td>maker</td>\n",
       "      <td>None</td>\n",
       "      <td>None</td>\n",
       "      <td>exact_match</td>\n",
       "      <td>&lt;function maker_maker_exm at 0x11600bd90&gt;</td>\n",
       "      <td>from py_entitymatching.feature.simfunctions import *\\nfrom py_entitymatching.feature.tokenizers ...</td>\n",
       "      <td>True</td>\n",
       "    </tr>\n",
       "    <tr>\n",
       "      <th>9</th>\n",
       "      <td>maker_maker_jac_qgm_3_qgm_3</td>\n",
       "      <td>maker</td>\n",
       "      <td>maker</td>\n",
       "      <td>qgm_3</td>\n",
       "      <td>qgm_3</td>\n",
       "      <td>jaccard</td>\n",
       "      <td>&lt;function maker_maker_jac_qgm_3_qgm_3 at 0x11600be18&gt;</td>\n",
       "      <td>from py_entitymatching.feature.simfunctions import *\\nfrom py_entitymatching.feature.tokenizers ...</td>\n",
       "      <td>True</td>\n",
       "    </tr>\n",
       "    <tr>\n",
       "      <th>10</th>\n",
       "      <td>price_price_exm</td>\n",
       "      <td>price</td>\n",
       "      <td>price</td>\n",
       "      <td>None</td>\n",
       "      <td>None</td>\n",
       "      <td>exact_match</td>\n",
       "      <td>&lt;function price_price_exm at 0x11600bea0&gt;</td>\n",
       "      <td>from py_entitymatching.feature.simfunctions import *\\nfrom py_entitymatching.feature.tokenizers ...</td>\n",
       "      <td>True</td>\n",
       "    </tr>\n",
       "    <tr>\n",
       "      <th>11</th>\n",
       "      <td>price_price_anm</td>\n",
       "      <td>price</td>\n",
       "      <td>price</td>\n",
       "      <td>None</td>\n",
       "      <td>None</td>\n",
       "      <td>abs_norm</td>\n",
       "      <td>&lt;function price_price_anm at 0x11600bf28&gt;</td>\n",
       "      <td>from py_entitymatching.feature.simfunctions import *\\nfrom py_entitymatching.feature.tokenizers ...</td>\n",
       "      <td>True</td>\n",
       "    </tr>\n",
       "    <tr>\n",
       "      <th>12</th>\n",
       "      <td>price_price_lev_dist</td>\n",
       "      <td>price</td>\n",
       "      <td>price</td>\n",
       "      <td>None</td>\n",
       "      <td>None</td>\n",
       "      <td>lev_dist</td>\n",
       "      <td>&lt;function price_price_lev_dist at 0x11604b048&gt;</td>\n",
       "      <td>from py_entitymatching.feature.simfunctions import *\\nfrom py_entitymatching.feature.tokenizers ...</td>\n",
       "      <td>True</td>\n",
       "    </tr>\n",
       "    <tr>\n",
       "      <th>13</th>\n",
       "      <td>price_price_lev_sim</td>\n",
       "      <td>price</td>\n",
       "      <td>price</td>\n",
       "      <td>None</td>\n",
       "      <td>None</td>\n",
       "      <td>lev_sim</td>\n",
       "      <td>&lt;function price_price_lev_sim at 0x11604b0d0&gt;</td>\n",
       "      <td>from py_entitymatching.feature.simfunctions import *\\nfrom py_entitymatching.feature.tokenizers ...</td>\n",
       "      <td>True</td>\n",
       "    </tr>\n",
       "    <tr>\n",
       "      <th>14</th>\n",
       "      <td>miles_miles_exm</td>\n",
       "      <td>miles</td>\n",
       "      <td>miles</td>\n",
       "      <td>None</td>\n",
       "      <td>None</td>\n",
       "      <td>exact_match</td>\n",
       "      <td>&lt;function miles_miles_exm at 0x11604b158&gt;</td>\n",
       "      <td>from py_entitymatching.feature.simfunctions import *\\nfrom py_entitymatching.feature.tokenizers ...</td>\n",
       "      <td>True</td>\n",
       "    </tr>\n",
       "    <tr>\n",
       "      <th>15</th>\n",
       "      <td>miles_miles_anm</td>\n",
       "      <td>miles</td>\n",
       "      <td>miles</td>\n",
       "      <td>None</td>\n",
       "      <td>None</td>\n",
       "      <td>abs_norm</td>\n",
       "      <td>&lt;function miles_miles_anm at 0x11604b1e0&gt;</td>\n",
       "      <td>from py_entitymatching.feature.simfunctions import *\\nfrom py_entitymatching.feature.tokenizers ...</td>\n",
       "      <td>True</td>\n",
       "    </tr>\n",
       "    <tr>\n",
       "      <th>16</th>\n",
       "      <td>miles_miles_lev_dist</td>\n",
       "      <td>miles</td>\n",
       "      <td>miles</td>\n",
       "      <td>None</td>\n",
       "      <td>None</td>\n",
       "      <td>lev_dist</td>\n",
       "      <td>&lt;function miles_miles_lev_dist at 0x11604b268&gt;</td>\n",
       "      <td>from py_entitymatching.feature.simfunctions import *\\nfrom py_entitymatching.feature.tokenizers ...</td>\n",
       "      <td>True</td>\n",
       "    </tr>\n",
       "    <tr>\n",
       "      <th>17</th>\n",
       "      <td>miles_miles_lev_sim</td>\n",
       "      <td>miles</td>\n",
       "      <td>miles</td>\n",
       "      <td>None</td>\n",
       "      <td>None</td>\n",
       "      <td>lev_sim</td>\n",
       "      <td>&lt;function miles_miles_lev_sim at 0x11604b2f0&gt;</td>\n",
       "      <td>from py_entitymatching.feature.simfunctions import *\\nfrom py_entitymatching.feature.tokenizers ...</td>\n",
       "      <td>True</td>\n",
       "    </tr>\n",
       "    <tr>\n",
       "      <th>18</th>\n",
       "      <td>exterior_color_exterior_color_jac_qgm_3_qgm_3</td>\n",
       "      <td>exterior_color</td>\n",
       "      <td>exterior_color</td>\n",
       "      <td>qgm_3</td>\n",
       "      <td>qgm_3</td>\n",
       "      <td>jaccard</td>\n",
       "      <td>&lt;function exterior_color_exterior_color_jac_qgm_3_qgm_3 at 0x11604b378&gt;</td>\n",
       "      <td>from py_entitymatching.feature.simfunctions import *\\nfrom py_entitymatching.feature.tokenizers ...</td>\n",
       "      <td>True</td>\n",
       "    </tr>\n",
       "    <tr>\n",
       "      <th>19</th>\n",
       "      <td>exterior_color_exterior_color_cos_dlm_dc0_dlm_dc0</td>\n",
       "      <td>exterior_color</td>\n",
       "      <td>exterior_color</td>\n",
       "      <td>dlm_dc0</td>\n",
       "      <td>dlm_dc0</td>\n",
       "      <td>cosine</td>\n",
       "      <td>&lt;function exterior_color_exterior_color_cos_dlm_dc0_dlm_dc0 at 0x11604b400&gt;</td>\n",
       "      <td>from py_entitymatching.feature.simfunctions import *\\nfrom py_entitymatching.feature.tokenizers ...</td>\n",
       "      <td>True</td>\n",
       "    </tr>\n",
       "    <tr>\n",
       "      <th>20</th>\n",
       "      <td>exterior_color_exterior_color_jac_dlm_dc0_dlm_dc0</td>\n",
       "      <td>exterior_color</td>\n",
       "      <td>exterior_color</td>\n",
       "      <td>dlm_dc0</td>\n",
       "      <td>dlm_dc0</td>\n",
       "      <td>jaccard</td>\n",
       "      <td>&lt;function exterior_color_exterior_color_jac_dlm_dc0_dlm_dc0 at 0x11604b488&gt;</td>\n",
       "      <td>from py_entitymatching.feature.simfunctions import *\\nfrom py_entitymatching.feature.tokenizers ...</td>\n",
       "      <td>True</td>\n",
       "    </tr>\n",
       "    <tr>\n",
       "      <th>21</th>\n",
       "      <td>exterior_color_exterior_color_mel</td>\n",
       "      <td>exterior_color</td>\n",
       "      <td>exterior_color</td>\n",
       "      <td>None</td>\n",
       "      <td>None</td>\n",
       "      <td>monge_elkan</td>\n",
       "      <td>&lt;function exterior_color_exterior_color_mel at 0x11604b510&gt;</td>\n",
       "      <td>from py_entitymatching.feature.simfunctions import *\\nfrom py_entitymatching.feature.tokenizers ...</td>\n",
       "      <td>True</td>\n",
       "    </tr>\n",
       "    <tr>\n",
       "      <th>22</th>\n",
       "      <td>exterior_color_exterior_color_lev_dist</td>\n",
       "      <td>exterior_color</td>\n",
       "      <td>exterior_color</td>\n",
       "      <td>None</td>\n",
       "      <td>None</td>\n",
       "      <td>lev_dist</td>\n",
       "      <td>&lt;function exterior_color_exterior_color_lev_dist at 0x11604b598&gt;</td>\n",
       "      <td>from py_entitymatching.feature.simfunctions import *\\nfrom py_entitymatching.feature.tokenizers ...</td>\n",
       "      <td>True</td>\n",
       "    </tr>\n",
       "    <tr>\n",
       "      <th>23</th>\n",
       "      <td>exterior_color_exterior_color_lev_sim</td>\n",
       "      <td>exterior_color</td>\n",
       "      <td>exterior_color</td>\n",
       "      <td>None</td>\n",
       "      <td>None</td>\n",
       "      <td>lev_sim</td>\n",
       "      <td>&lt;function exterior_color_exterior_color_lev_sim at 0x11604b620&gt;</td>\n",
       "      <td>from py_entitymatching.feature.simfunctions import *\\nfrom py_entitymatching.feature.tokenizers ...</td>\n",
       "      <td>True</td>\n",
       "    </tr>\n",
       "    <tr>\n",
       "      <th>24</th>\n",
       "      <td>exterior_color_exterior_color_nmw</td>\n",
       "      <td>exterior_color</td>\n",
       "      <td>exterior_color</td>\n",
       "      <td>None</td>\n",
       "      <td>None</td>\n",
       "      <td>needleman_wunsch</td>\n",
       "      <td>&lt;function exterior_color_exterior_color_nmw at 0x11604b6a8&gt;</td>\n",
       "      <td>from py_entitymatching.feature.simfunctions import *\\nfrom py_entitymatching.feature.tokenizers ...</td>\n",
       "      <td>True</td>\n",
       "    </tr>\n",
       "    <tr>\n",
       "      <th>25</th>\n",
       "      <td>exterior_color_exterior_color_sw</td>\n",
       "      <td>exterior_color</td>\n",
       "      <td>exterior_color</td>\n",
       "      <td>None</td>\n",
       "      <td>None</td>\n",
       "      <td>smith_waterman</td>\n",
       "      <td>&lt;function exterior_color_exterior_color_sw at 0x11604b730&gt;</td>\n",
       "      <td>from py_entitymatching.feature.simfunctions import *\\nfrom py_entitymatching.feature.tokenizers ...</td>\n",
       "      <td>True</td>\n",
       "    </tr>\n",
       "  </tbody>\n",
       "</table>\n",
       "</div>"
      ],
      "text/plain": [
       "                                         feature_name  left_attribute  \\\n",
       "0                                       year_year_exm            year   \n",
       "1                                       year_year_anm            year   \n",
       "2                                  year_year_lev_dist            year   \n",
       "3                                   year_year_lev_sim            year   \n",
       "4                                maker_maker_lev_dist           maker   \n",
       "5                                 maker_maker_lev_sim           maker   \n",
       "6                                     maker_maker_jar           maker   \n",
       "7                                     maker_maker_jwn           maker   \n",
       "8                                     maker_maker_exm           maker   \n",
       "9                         maker_maker_jac_qgm_3_qgm_3           maker   \n",
       "10                                    price_price_exm           price   \n",
       "11                                    price_price_anm           price   \n",
       "12                               price_price_lev_dist           price   \n",
       "13                                price_price_lev_sim           price   \n",
       "14                                    miles_miles_exm           miles   \n",
       "15                                    miles_miles_anm           miles   \n",
       "16                               miles_miles_lev_dist           miles   \n",
       "17                                miles_miles_lev_sim           miles   \n",
       "18      exterior_color_exterior_color_jac_qgm_3_qgm_3  exterior_color   \n",
       "19  exterior_color_exterior_color_cos_dlm_dc0_dlm_dc0  exterior_color   \n",
       "20  exterior_color_exterior_color_jac_dlm_dc0_dlm_dc0  exterior_color   \n",
       "21                  exterior_color_exterior_color_mel  exterior_color   \n",
       "22             exterior_color_exterior_color_lev_dist  exterior_color   \n",
       "23              exterior_color_exterior_color_lev_sim  exterior_color   \n",
       "24                  exterior_color_exterior_color_nmw  exterior_color   \n",
       "25                   exterior_color_exterior_color_sw  exterior_color   \n",
       "\n",
       "   right_attribute left_attr_tokenizer right_attr_tokenizer       simfunction  \\\n",
       "0             year                None                 None       exact_match   \n",
       "1             year                None                 None          abs_norm   \n",
       "2             year                None                 None          lev_dist   \n",
       "3             year                None                 None           lev_sim   \n",
       "4            maker                None                 None          lev_dist   \n",
       "5            maker                None                 None           lev_sim   \n",
       "6            maker                None                 None              jaro   \n",
       "7            maker                None                 None      jaro_winkler   \n",
       "8            maker                None                 None       exact_match   \n",
       "9            maker               qgm_3                qgm_3           jaccard   \n",
       "10           price                None                 None       exact_match   \n",
       "11           price                None                 None          abs_norm   \n",
       "12           price                None                 None          lev_dist   \n",
       "13           price                None                 None           lev_sim   \n",
       "14           miles                None                 None       exact_match   \n",
       "15           miles                None                 None          abs_norm   \n",
       "16           miles                None                 None          lev_dist   \n",
       "17           miles                None                 None           lev_sim   \n",
       "18  exterior_color               qgm_3                qgm_3           jaccard   \n",
       "19  exterior_color             dlm_dc0              dlm_dc0            cosine   \n",
       "20  exterior_color             dlm_dc0              dlm_dc0           jaccard   \n",
       "21  exterior_color                None                 None       monge_elkan   \n",
       "22  exterior_color                None                 None          lev_dist   \n",
       "23  exterior_color                None                 None           lev_sim   \n",
       "24  exterior_color                None                 None  needleman_wunsch   \n",
       "25  exterior_color                None                 None    smith_waterman   \n",
       "\n",
       "                                                                       function  \\\n",
       "0                                       <function year_year_exm at 0x11600b9d8>   \n",
       "1                                       <function year_year_anm at 0x11600b7b8>   \n",
       "2                                  <function year_year_lev_dist at 0x11600b8c8>   \n",
       "3                                   <function year_year_lev_sim at 0x11600ba60>   \n",
       "4                                <function maker_maker_lev_dist at 0x11600bb70>   \n",
       "5                                 <function maker_maker_lev_sim at 0x11600bbf8>   \n",
       "6                                     <function maker_maker_jar at 0x11600bc80>   \n",
       "7                                     <function maker_maker_jwn at 0x11600bd08>   \n",
       "8                                     <function maker_maker_exm at 0x11600bd90>   \n",
       "9                         <function maker_maker_jac_qgm_3_qgm_3 at 0x11600be18>   \n",
       "10                                    <function price_price_exm at 0x11600bea0>   \n",
       "11                                    <function price_price_anm at 0x11600bf28>   \n",
       "12                               <function price_price_lev_dist at 0x11604b048>   \n",
       "13                                <function price_price_lev_sim at 0x11604b0d0>   \n",
       "14                                    <function miles_miles_exm at 0x11604b158>   \n",
       "15                                    <function miles_miles_anm at 0x11604b1e0>   \n",
       "16                               <function miles_miles_lev_dist at 0x11604b268>   \n",
       "17                                <function miles_miles_lev_sim at 0x11604b2f0>   \n",
       "18      <function exterior_color_exterior_color_jac_qgm_3_qgm_3 at 0x11604b378>   \n",
       "19  <function exterior_color_exterior_color_cos_dlm_dc0_dlm_dc0 at 0x11604b400>   \n",
       "20  <function exterior_color_exterior_color_jac_dlm_dc0_dlm_dc0 at 0x11604b488>   \n",
       "21                  <function exterior_color_exterior_color_mel at 0x11604b510>   \n",
       "22             <function exterior_color_exterior_color_lev_dist at 0x11604b598>   \n",
       "23              <function exterior_color_exterior_color_lev_sim at 0x11604b620>   \n",
       "24                  <function exterior_color_exterior_color_nmw at 0x11604b6a8>   \n",
       "25                   <function exterior_color_exterior_color_sw at 0x11604b730>   \n",
       "\n",
       "                                                                                        function_source  \\\n",
       "0   from py_entitymatching.feature.simfunctions import *\\nfrom py_entitymatching.feature.tokenizers ...   \n",
       "1   from py_entitymatching.feature.simfunctions import *\\nfrom py_entitymatching.feature.tokenizers ...   \n",
       "2   from py_entitymatching.feature.simfunctions import *\\nfrom py_entitymatching.feature.tokenizers ...   \n",
       "3   from py_entitymatching.feature.simfunctions import *\\nfrom py_entitymatching.feature.tokenizers ...   \n",
       "4   from py_entitymatching.feature.simfunctions import *\\nfrom py_entitymatching.feature.tokenizers ...   \n",
       "5   from py_entitymatching.feature.simfunctions import *\\nfrom py_entitymatching.feature.tokenizers ...   \n",
       "6   from py_entitymatching.feature.simfunctions import *\\nfrom py_entitymatching.feature.tokenizers ...   \n",
       "7   from py_entitymatching.feature.simfunctions import *\\nfrom py_entitymatching.feature.tokenizers ...   \n",
       "8   from py_entitymatching.feature.simfunctions import *\\nfrom py_entitymatching.feature.tokenizers ...   \n",
       "9   from py_entitymatching.feature.simfunctions import *\\nfrom py_entitymatching.feature.tokenizers ...   \n",
       "10  from py_entitymatching.feature.simfunctions import *\\nfrom py_entitymatching.feature.tokenizers ...   \n",
       "11  from py_entitymatching.feature.simfunctions import *\\nfrom py_entitymatching.feature.tokenizers ...   \n",
       "12  from py_entitymatching.feature.simfunctions import *\\nfrom py_entitymatching.feature.tokenizers ...   \n",
       "13  from py_entitymatching.feature.simfunctions import *\\nfrom py_entitymatching.feature.tokenizers ...   \n",
       "14  from py_entitymatching.feature.simfunctions import *\\nfrom py_entitymatching.feature.tokenizers ...   \n",
       "15  from py_entitymatching.feature.simfunctions import *\\nfrom py_entitymatching.feature.tokenizers ...   \n",
       "16  from py_entitymatching.feature.simfunctions import *\\nfrom py_entitymatching.feature.tokenizers ...   \n",
       "17  from py_entitymatching.feature.simfunctions import *\\nfrom py_entitymatching.feature.tokenizers ...   \n",
       "18  from py_entitymatching.feature.simfunctions import *\\nfrom py_entitymatching.feature.tokenizers ...   \n",
       "19  from py_entitymatching.feature.simfunctions import *\\nfrom py_entitymatching.feature.tokenizers ...   \n",
       "20  from py_entitymatching.feature.simfunctions import *\\nfrom py_entitymatching.feature.tokenizers ...   \n",
       "21  from py_entitymatching.feature.simfunctions import *\\nfrom py_entitymatching.feature.tokenizers ...   \n",
       "22  from py_entitymatching.feature.simfunctions import *\\nfrom py_entitymatching.feature.tokenizers ...   \n",
       "23  from py_entitymatching.feature.simfunctions import *\\nfrom py_entitymatching.feature.tokenizers ...   \n",
       "24  from py_entitymatching.feature.simfunctions import *\\nfrom py_entitymatching.feature.tokenizers ...   \n",
       "25  from py_entitymatching.feature.simfunctions import *\\nfrom py_entitymatching.feature.tokenizers ...   \n",
       "\n",
       "    is_auto_generated  \n",
       "0                True  \n",
       "1                True  \n",
       "2                True  \n",
       "3                True  \n",
       "4                True  \n",
       "5                True  \n",
       "6                True  \n",
       "7                True  \n",
       "8                True  \n",
       "9                True  \n",
       "10               True  \n",
       "11               True  \n",
       "12               True  \n",
       "13               True  \n",
       "14               True  \n",
       "15               True  \n",
       "16               True  \n",
       "17               True  \n",
       "18               True  \n",
       "19               True  \n",
       "20               True  \n",
       "21               True  \n",
       "22               True  \n",
       "23               True  \n",
       "24               True  \n",
       "25               True  "
      ]
     },
     "execution_count": 35,
     "metadata": {},
     "output_type": "execute_result"
    }
   ],
   "source": [
    "feature_table"
   ]
  },
  {
   "cell_type": "code",
   "execution_count": 36,
   "metadata": {},
   "outputs": [],
   "source": [
    "feature_table.to_csv('feature_table.csv', index=False)"
   ]
  },
  {
   "cell_type": "code",
   "execution_count": 37,
   "metadata": {},
   "outputs": [
    {
     "name": "stdout",
     "output_type": "stream",
     "text": [
      "block.ipynb             feature_table.csv       market_sample.csv\r\n",
      "cars_com_clean.csv      features.ipynb          pairs.csv\r\n",
      "cars_com_luxury.csv     label.ipynb             pairs_sample.csv\r\n",
      "cars_sample.csv         market_api_clean.csv    read-csv.ipynb\r\n",
      "down-sampling.ipynb     market_check_luxury.csv sample.ipynb\r\n"
     ]
    }
   ],
   "source": [
    "!ls"
   ]
  }
 ],
 "metadata": {
  "kernelspec": {
   "display_name": "Python (venv3.6)",
   "language": "python",
   "name": "venv3.6"
  },
  "language_info": {
   "codemirror_mode": {
    "name": "ipython",
    "version": 3
   },
   "file_extension": ".py",
   "mimetype": "text/x-python",
   "name": "python",
   "nbconvert_exporter": "python",
   "pygments_lexer": "ipython3",
   "version": "3.6.3"
  }
 },
 "nbformat": 4,
 "nbformat_minor": 2
}
