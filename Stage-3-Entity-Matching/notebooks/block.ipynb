{
 "cells": [
  {
   "cell_type": "markdown",
   "metadata": {},
   "source": [
    "# 1. Load sampled data and block"
   ]
  },
  {
   "cell_type": "code",
   "execution_count": 1,
   "metadata": {
    "collapsed": true
   },
   "outputs": [],
   "source": [
    "import pandas as pd\n",
    "import py_entitymatching as em"
   ]
  },
  {
   "cell_type": "code",
   "execution_count": 2,
   "metadata": {},
   "outputs": [
    {
     "name": "stderr",
     "output_type": "stream",
     "text": [
      "Metadata file is not present in the given path; proceeding to read the csv file.\n",
      "Metadata file is not present in the given path; proceeding to read the csv file.\n"
     ]
    }
   ],
   "source": [
    "A = em.read_csv_metadata('cars_sample.csv', key='vin')\n",
    "B = em.read_csv_metadata('market_sample.csv', key='vin')"
   ]
  },
  {
   "cell_type": "code",
   "execution_count": 3,
   "metadata": {},
   "outputs": [
    {
     "data": {
      "text/html": [
       "<div>\n",
       "<style scoped>\n",
       "    .dataframe tbody tr th:only-of-type {\n",
       "        vertical-align: middle;\n",
       "    }\n",
       "\n",
       "    .dataframe tbody tr th {\n",
       "        vertical-align: top;\n",
       "    }\n",
       "\n",
       "    .dataframe thead th {\n",
       "        text-align: right;\n",
       "    }\n",
       "</style>\n",
       "<table border=\"1\" class=\"dataframe\">\n",
       "  <thead>\n",
       "    <tr style=\"text-align: right;\">\n",
       "      <th></th>\n",
       "      <th>name</th>\n",
       "      <th>year</th>\n",
       "      <th>maker</th>\n",
       "      <th>price</th>\n",
       "      <th>seller_name</th>\n",
       "      <th>seller_phone</th>\n",
       "      <th>miles</th>\n",
       "      <th>exterior_color</th>\n",
       "      <th>interior_color</th>\n",
       "      <th>transmission</th>\n",
       "      <th>drivetrain</th>\n",
       "      <th>vin</th>\n",
       "      <th>id</th>\n",
       "    </tr>\n",
       "  </thead>\n",
       "  <tbody>\n",
       "    <tr>\n",
       "      <th>0</th>\n",
       "      <td>2010 Mercedes-Benz  GL 450 4MATIC</td>\n",
       "      <td>2010</td>\n",
       "      <td>Mercedes-Benz</td>\n",
       "      <td>15614.0</td>\n",
       "      <td>Kayser Ford Lincoln</td>\n",
       "      <td>(608) 807-5359</td>\n",
       "      <td>107545.0</td>\n",
       "      <td>Black</td>\n",
       "      <td>Cashmere</td>\n",
       "      <td>7-Speed Automatic</td>\n",
       "      <td>AWD</td>\n",
       "      <td>4JGBF7BEXAA543808</td>\n",
       "      <td>0</td>\n",
       "    </tr>\n",
       "    <tr>\n",
       "      <th>1</th>\n",
       "      <td>2015 Mercedes-Benz  ML 350</td>\n",
       "      <td>2015</td>\n",
       "      <td>Mercedes-Benz</td>\n",
       "      <td>29998.0</td>\n",
       "      <td>CarMax Madison</td>\n",
       "      <td>(608) 286-3923</td>\n",
       "      <td>36642.0</td>\n",
       "      <td>Gray</td>\n",
       "      <td>Black</td>\n",
       "      <td>7-Speed Automatic w/OD</td>\n",
       "      <td>AWD</td>\n",
       "      <td>4JGDA5HB7FA445741</td>\n",
       "      <td>1</td>\n",
       "    </tr>\n",
       "  </tbody>\n",
       "</table>\n",
       "</div>"
      ],
      "text/plain": [
       "                                name  year          maker    price  \\\n",
       "0  2010 Mercedes-Benz  GL 450 4MATIC  2010  Mercedes-Benz  15614.0   \n",
       "1         2015 Mercedes-Benz  ML 350  2015  Mercedes-Benz  29998.0   \n",
       "\n",
       "           seller_name    seller_phone     miles exterior_color  \\\n",
       "0  Kayser Ford Lincoln  (608) 807-5359  107545.0          Black   \n",
       "1       CarMax Madison  (608) 286-3923   36642.0           Gray   \n",
       "\n",
       "  interior_color            transmission drivetrain                vin  id  \n",
       "0       Cashmere       7-Speed Automatic        AWD  4JGBF7BEXAA543808   0  \n",
       "1          Black  7-Speed Automatic w/OD        AWD  4JGDA5HB7FA445741   1  "
      ]
     },
     "execution_count": 3,
     "metadata": {},
     "output_type": "execute_result"
    }
   ],
   "source": [
    "A.head(2)"
   ]
  },
  {
   "cell_type": "markdown",
   "metadata": {},
   "source": [
    "## 1.1 Block on name\n",
    "We will assume that two cars with no sufficient overlap between their name do not refer to the same car."
   ]
  },
  {
   "cell_type": "code",
   "execution_count": 9,
   "metadata": {
    "collapsed": true
   },
   "outputs": [],
   "source": [
    "ob = em.OverlapBlocker()"
   ]
  },
  {
   "cell_type": "code",
   "execution_count": 10,
   "metadata": {
    "collapsed": true
   },
   "outputs": [],
   "source": [
    "attrs = ['name', 'year', 'maker', 'price', 'seller_phone', 'seller_name', 'miles', 'exterior_color', 'interior_color']"
   ]
  },
  {
   "cell_type": "code",
   "execution_count": 11,
   "metadata": {},
   "outputs": [
    {
     "name": "stderr",
     "output_type": "stream",
     "text": [
      "0% [##############################] 100% | ETA: 00:00:00\n",
      "Total time elapsed: 00:00:00\n"
     ]
    }
   ],
   "source": [
    "C1 = ob.block_tables(A, B, 'name', 'name', word_level=True,\n",
    "                    overlap_size=3, l_output_attrs=attrs,\n",
    "                    r_output_attrs=attrs)"
   ]
  },
  {
   "cell_type": "code",
   "execution_count": 12,
   "metadata": {},
   "outputs": [
    {
     "data": {
      "text/plain": [
       "87855"
      ]
     },
     "execution_count": 12,
     "metadata": {},
     "output_type": "execute_result"
    }
   ],
   "source": [
    "len(C1)"
   ]
  },
  {
   "cell_type": "code",
   "execution_count": 13,
   "metadata": {},
   "outputs": [
    {
     "data": {
      "text/html": [
       "<div>\n",
       "<style scoped>\n",
       "    .dataframe tbody tr th:only-of-type {\n",
       "        vertical-align: middle;\n",
       "    }\n",
       "\n",
       "    .dataframe tbody tr th {\n",
       "        vertical-align: top;\n",
       "    }\n",
       "\n",
       "    .dataframe thead th {\n",
       "        text-align: right;\n",
       "    }\n",
       "</style>\n",
       "<table border=\"1\" class=\"dataframe\">\n",
       "  <thead>\n",
       "    <tr style=\"text-align: right;\">\n",
       "      <th></th>\n",
       "      <th>_id</th>\n",
       "      <th>ltable_vin</th>\n",
       "      <th>rtable_vin</th>\n",
       "      <th>ltable_name</th>\n",
       "      <th>ltable_year</th>\n",
       "      <th>ltable_maker</th>\n",
       "      <th>ltable_price</th>\n",
       "      <th>ltable_seller_phone</th>\n",
       "      <th>ltable_seller_name</th>\n",
       "      <th>ltable_miles</th>\n",
       "      <th>...</th>\n",
       "      <th>ltable_interior_color</th>\n",
       "      <th>rtable_name</th>\n",
       "      <th>rtable_year</th>\n",
       "      <th>rtable_maker</th>\n",
       "      <th>rtable_price</th>\n",
       "      <th>rtable_seller_phone</th>\n",
       "      <th>rtable_seller_name</th>\n",
       "      <th>rtable_miles</th>\n",
       "      <th>rtable_exterior_color</th>\n",
       "      <th>rtable_interior_color</th>\n",
       "    </tr>\n",
       "  </thead>\n",
       "  <tbody>\n",
       "    <tr>\n",
       "      <th>0</th>\n",
       "      <td>0</td>\n",
       "      <td>JTHCF1D26F5022267</td>\n",
       "      <td>JTHCK262395032032</td>\n",
       "      <td>2015 Lexus IS 250 Base</td>\n",
       "      <td>2015</td>\n",
       "      <td>Lexus</td>\n",
       "      <td>21635.0</td>\n",
       "      <td>(262) 607-8408</td>\n",
       "      <td>Kunes Country Chrysler Dodge Jeep Ram of Elkhorn</td>\n",
       "      <td>65596.0</td>\n",
       "      <td>...</td>\n",
       "      <td>Tan</td>\n",
       "      <td>2009 LEXUS IS 250 Base</td>\n",
       "      <td>2009.0</td>\n",
       "      <td>Lexus</td>\n",
       "      <td>12984.0</td>\n",
       "      <td>866-296-3008 877-287-8274</td>\n",
       "      <td>Jaguar Land Rover Volvo Waukesha</td>\n",
       "      <td>57092.0</td>\n",
       "      <td>Gray</td>\n",
       "      <td>GRAY</td>\n",
       "    </tr>\n",
       "    <tr>\n",
       "      <th>1</th>\n",
       "      <td>1</td>\n",
       "      <td>JTHFF2C22D2529024</td>\n",
       "      <td>JTHCK262395032032</td>\n",
       "      <td>2013 Lexus IS 250C Base</td>\n",
       "      <td>2013</td>\n",
       "      <td>Lexus</td>\n",
       "      <td>24000.0</td>\n",
       "      <td>(262) 558-4486</td>\n",
       "      <td>Toyota of Brookfield</td>\n",
       "      <td>40116.0</td>\n",
       "      <td>...</td>\n",
       "      <td>Black</td>\n",
       "      <td>2009 LEXUS IS 250 Base</td>\n",
       "      <td>2009.0</td>\n",
       "      <td>Lexus</td>\n",
       "      <td>12984.0</td>\n",
       "      <td>866-296-3008 877-287-8274</td>\n",
       "      <td>Jaguar Land Rover Volvo Waukesha</td>\n",
       "      <td>57092.0</td>\n",
       "      <td>Gray</td>\n",
       "      <td>GRAY</td>\n",
       "    </tr>\n",
       "    <tr>\n",
       "      <th>2</th>\n",
       "      <td>2</td>\n",
       "      <td>JTHBE1D2XE5001984</td>\n",
       "      <td>JTHCK262395032032</td>\n",
       "      <td>2014 Lexus IS 350 Base</td>\n",
       "      <td>2014</td>\n",
       "      <td>Lexus</td>\n",
       "      <td>24577.0</td>\n",
       "      <td>(608) 338-1572</td>\n",
       "      <td>Russ Darrow Mazda of Madison</td>\n",
       "      <td>46389.0</td>\n",
       "      <td>...</td>\n",
       "      <td>Alabaster</td>\n",
       "      <td>2009 LEXUS IS 250 Base</td>\n",
       "      <td>2009.0</td>\n",
       "      <td>Lexus</td>\n",
       "      <td>12984.0</td>\n",
       "      <td>866-296-3008 877-287-8274</td>\n",
       "      <td>Jaguar Land Rover Volvo Waukesha</td>\n",
       "      <td>57092.0</td>\n",
       "      <td>Gray</td>\n",
       "      <td>GRAY</td>\n",
       "    </tr>\n",
       "    <tr>\n",
       "      <th>3</th>\n",
       "      <td>3</td>\n",
       "      <td>JTHCM1D26G5002396</td>\n",
       "      <td>JTHCK262395032032</td>\n",
       "      <td>2016 Lexus IS 300 Base</td>\n",
       "      <td>2016</td>\n",
       "      <td>Lexus</td>\n",
       "      <td>29277.0</td>\n",
       "      <td>(262) 226-8570</td>\n",
       "      <td>Wilde Honda</td>\n",
       "      <td>41133.0</td>\n",
       "      <td>...</td>\n",
       "      <td>NaN</td>\n",
       "      <td>2009 LEXUS IS 250 Base</td>\n",
       "      <td>2009.0</td>\n",
       "      <td>Lexus</td>\n",
       "      <td>12984.0</td>\n",
       "      <td>866-296-3008 877-287-8274</td>\n",
       "      <td>Jaguar Land Rover Volvo Waukesha</td>\n",
       "      <td>57092.0</td>\n",
       "      <td>Gray</td>\n",
       "      <td>GRAY</td>\n",
       "    </tr>\n",
       "    <tr>\n",
       "      <th>4</th>\n",
       "      <td>4</td>\n",
       "      <td>JTHCF1D22F5021701</td>\n",
       "      <td>JTHCK262395032032</td>\n",
       "      <td>2015 Lexus IS 250 Base</td>\n",
       "      <td>2015</td>\n",
       "      <td>Lexus</td>\n",
       "      <td>26661.0</td>\n",
       "      <td>(866) 786-0878</td>\n",
       "      <td>Andrew Toyota</td>\n",
       "      <td>14325.0</td>\n",
       "      <td>...</td>\n",
       "      <td>Black</td>\n",
       "      <td>2009 LEXUS IS 250 Base</td>\n",
       "      <td>2009.0</td>\n",
       "      <td>Lexus</td>\n",
       "      <td>12984.0</td>\n",
       "      <td>866-296-3008 877-287-8274</td>\n",
       "      <td>Jaguar Land Rover Volvo Waukesha</td>\n",
       "      <td>57092.0</td>\n",
       "      <td>Gray</td>\n",
       "      <td>GRAY</td>\n",
       "    </tr>\n",
       "  </tbody>\n",
       "</table>\n",
       "<p>5 rows × 21 columns</p>\n",
       "</div>"
      ],
      "text/plain": [
       "   _id         ltable_vin         rtable_vin              ltable_name  \\\n",
       "0    0  JTHCF1D26F5022267  JTHCK262395032032   2015 Lexus IS 250 Base   \n",
       "1    1  JTHFF2C22D2529024  JTHCK262395032032  2013 Lexus IS 250C Base   \n",
       "2    2  JTHBE1D2XE5001984  JTHCK262395032032   2014 Lexus IS 350 Base   \n",
       "3    3  JTHCM1D26G5002396  JTHCK262395032032   2016 Lexus IS 300 Base   \n",
       "4    4  JTHCF1D22F5021701  JTHCK262395032032   2015 Lexus IS 250 Base   \n",
       "\n",
       "   ltable_year ltable_maker  ltable_price ltable_seller_phone  \\\n",
       "0         2015        Lexus       21635.0      (262) 607-8408   \n",
       "1         2013        Lexus       24000.0      (262) 558-4486   \n",
       "2         2014        Lexus       24577.0      (608) 338-1572   \n",
       "3         2016        Lexus       29277.0      (262) 226-8570   \n",
       "4         2015        Lexus       26661.0      (866) 786-0878   \n",
       "\n",
       "                                 ltable_seller_name  ltable_miles  \\\n",
       "0  Kunes Country Chrysler Dodge Jeep Ram of Elkhorn       65596.0   \n",
       "1                              Toyota of Brookfield       40116.0   \n",
       "2                      Russ Darrow Mazda of Madison       46389.0   \n",
       "3                                       Wilde Honda       41133.0   \n",
       "4                                     Andrew Toyota       14325.0   \n",
       "\n",
       "           ...          ltable_interior_color             rtable_name  \\\n",
       "0          ...                            Tan  2009 LEXUS IS 250 Base   \n",
       "1          ...                          Black  2009 LEXUS IS 250 Base   \n",
       "2          ...                      Alabaster  2009 LEXUS IS 250 Base   \n",
       "3          ...                            NaN  2009 LEXUS IS 250 Base   \n",
       "4          ...                          Black  2009 LEXUS IS 250 Base   \n",
       "\n",
       "  rtable_year  rtable_maker rtable_price        rtable_seller_phone  \\\n",
       "0      2009.0         Lexus      12984.0  866-296-3008 877-287-8274   \n",
       "1      2009.0         Lexus      12984.0  866-296-3008 877-287-8274   \n",
       "2      2009.0         Lexus      12984.0  866-296-3008 877-287-8274   \n",
       "3      2009.0         Lexus      12984.0  866-296-3008 877-287-8274   \n",
       "4      2009.0         Lexus      12984.0  866-296-3008 877-287-8274   \n",
       "\n",
       "                 rtable_seller_name rtable_miles  rtable_exterior_color  \\\n",
       "0  Jaguar Land Rover Volvo Waukesha      57092.0                   Gray   \n",
       "1  Jaguar Land Rover Volvo Waukesha      57092.0                   Gray   \n",
       "2  Jaguar Land Rover Volvo Waukesha      57092.0                   Gray   \n",
       "3  Jaguar Land Rover Volvo Waukesha      57092.0                   Gray   \n",
       "4  Jaguar Land Rover Volvo Waukesha      57092.0                   Gray   \n",
       "\n",
       "  rtable_interior_color  \n",
       "0                  GRAY  \n",
       "1                  GRAY  \n",
       "2                  GRAY  \n",
       "3                  GRAY  \n",
       "4                  GRAY  \n",
       "\n",
       "[5 rows x 21 columns]"
      ]
     },
     "execution_count": 13,
     "metadata": {},
     "output_type": "execute_result"
    }
   ],
   "source": [
    "C1.head()"
   ]
  },
  {
   "cell_type": "markdown",
   "metadata": {},
   "source": [
    "## 1.2 Block on year, maker\n",
    "We assume two candidates should have the same year and maker"
   ]
  },
  {
   "cell_type": "code",
   "execution_count": 14,
   "metadata": {
    "collapsed": true
   },
   "outputs": [],
   "source": [
    "ab = em.AttrEquivalenceBlocker()"
   ]
  },
  {
   "cell_type": "code",
   "execution_count": 15,
   "metadata": {},
   "outputs": [
    {
     "name": "stderr",
     "output_type": "stream",
     "text": [
      "0% [##############################] 100% | ETA: 00:00:00\n",
      "Total time elapsed: 00:00:00\n"
     ]
    }
   ],
   "source": [
    "C2 = ab.block_candset(C1, l_block_attr='year', r_block_attr='year')"
   ]
  },
  {
   "cell_type": "code",
   "execution_count": 16,
   "metadata": {},
   "outputs": [
    {
     "data": {
      "text/plain": [
       "31028"
      ]
     },
     "execution_count": 16,
     "metadata": {},
     "output_type": "execute_result"
    }
   ],
   "source": [
    "len(C2)"
   ]
  },
  {
   "cell_type": "code",
   "execution_count": 17,
   "metadata": {},
   "outputs": [
    {
     "data": {
      "text/html": [
       "<div>\n",
       "<style scoped>\n",
       "    .dataframe tbody tr th:only-of-type {\n",
       "        vertical-align: middle;\n",
       "    }\n",
       "\n",
       "    .dataframe tbody tr th {\n",
       "        vertical-align: top;\n",
       "    }\n",
       "\n",
       "    .dataframe thead th {\n",
       "        text-align: right;\n",
       "    }\n",
       "</style>\n",
       "<table border=\"1\" class=\"dataframe\">\n",
       "  <thead>\n",
       "    <tr style=\"text-align: right;\">\n",
       "      <th></th>\n",
       "      <th>_id</th>\n",
       "      <th>ltable_vin</th>\n",
       "      <th>rtable_vin</th>\n",
       "      <th>ltable_name</th>\n",
       "      <th>ltable_year</th>\n",
       "      <th>ltable_maker</th>\n",
       "      <th>ltable_price</th>\n",
       "      <th>ltable_seller_phone</th>\n",
       "      <th>ltable_seller_name</th>\n",
       "      <th>ltable_miles</th>\n",
       "      <th>...</th>\n",
       "      <th>ltable_interior_color</th>\n",
       "      <th>rtable_name</th>\n",
       "      <th>rtable_year</th>\n",
       "      <th>rtable_maker</th>\n",
       "      <th>rtable_price</th>\n",
       "      <th>rtable_seller_phone</th>\n",
       "      <th>rtable_seller_name</th>\n",
       "      <th>rtable_miles</th>\n",
       "      <th>rtable_exterior_color</th>\n",
       "      <th>rtable_interior_color</th>\n",
       "    </tr>\n",
       "  </thead>\n",
       "  <tbody>\n",
       "    <tr>\n",
       "      <th>15</th>\n",
       "      <td>15</td>\n",
       "      <td>JTHBJ46G092310165</td>\n",
       "      <td>JTHCK262395032032</td>\n",
       "      <td>2009 Lexus ES 350 Base</td>\n",
       "      <td>2009</td>\n",
       "      <td>Lexus</td>\n",
       "      <td>10800.0</td>\n",
       "      <td>(262) 510-0495</td>\n",
       "      <td>Griffin Ford</td>\n",
       "      <td>117904.0</td>\n",
       "      <td>...</td>\n",
       "      <td>Black</td>\n",
       "      <td>2009 LEXUS IS 250 Base</td>\n",
       "      <td>2009.0</td>\n",
       "      <td>Lexus</td>\n",
       "      <td>12984.0</td>\n",
       "      <td>866-296-3008 877-287-8274</td>\n",
       "      <td>Jaguar Land Rover Volvo Waukesha</td>\n",
       "      <td>57092.0</td>\n",
       "      <td>Gray</td>\n",
       "      <td>GRAY</td>\n",
       "    </tr>\n",
       "    <tr>\n",
       "      <th>18</th>\n",
       "      <td>18</td>\n",
       "      <td>2T2HK31U99C117297</td>\n",
       "      <td>JTHCK262395032032</td>\n",
       "      <td>2009 Lexus RX 350 Base</td>\n",
       "      <td>2009</td>\n",
       "      <td>Lexus</td>\n",
       "      <td>9995.0</td>\n",
       "      <td>(414) 269-8756</td>\n",
       "      <td>Millennium Motor Sales</td>\n",
       "      <td>143081.0</td>\n",
       "      <td>...</td>\n",
       "      <td>Tan</td>\n",
       "      <td>2009 LEXUS IS 250 Base</td>\n",
       "      <td>2009.0</td>\n",
       "      <td>Lexus</td>\n",
       "      <td>12984.0</td>\n",
       "      <td>866-296-3008 877-287-8274</td>\n",
       "      <td>Jaguar Land Rover Volvo Waukesha</td>\n",
       "      <td>57092.0</td>\n",
       "      <td>Gray</td>\n",
       "      <td>GRAY</td>\n",
       "    </tr>\n",
       "    <tr>\n",
       "      <th>31</th>\n",
       "      <td>31</td>\n",
       "      <td>JTHCK262292031147</td>\n",
       "      <td>JTHCK262395032032</td>\n",
       "      <td>2009 Lexus IS 250</td>\n",
       "      <td>2009</td>\n",
       "      <td>Lexus</td>\n",
       "      <td>8999.0</td>\n",
       "      <td>(414) 208-4991</td>\n",
       "      <td>Gateway Motors</td>\n",
       "      <td>97530.0</td>\n",
       "      <td>...</td>\n",
       "      <td>Black</td>\n",
       "      <td>2009 LEXUS IS 250 Base</td>\n",
       "      <td>2009.0</td>\n",
       "      <td>Lexus</td>\n",
       "      <td>12984.0</td>\n",
       "      <td>866-296-3008 877-287-8274</td>\n",
       "      <td>Jaguar Land Rover Volvo Waukesha</td>\n",
       "      <td>57092.0</td>\n",
       "      <td>Gray</td>\n",
       "      <td>GRAY</td>\n",
       "    </tr>\n",
       "    <tr>\n",
       "      <th>35</th>\n",
       "      <td>35</td>\n",
       "      <td>5UXWX9C55F0D50882</td>\n",
       "      <td>5UXXW3C5XF0M87429</td>\n",
       "      <td>2015 BMW X3 xDrive28i</td>\n",
       "      <td>2015</td>\n",
       "      <td>BMW</td>\n",
       "      <td>25998.0</td>\n",
       "      <td>(920) 717-1525</td>\n",
       "      <td>Napleton Chevrolet Buick</td>\n",
       "      <td>35152.0</td>\n",
       "      <td>...</td>\n",
       "      <td>NaN</td>\n",
       "      <td>Used 2015 BMW X4 xDrive28i AWD 4dr Sports Activity Coupe</td>\n",
       "      <td>2015.0</td>\n",
       "      <td>BMW</td>\n",
       "      <td>32125.0</td>\n",
       "      <td>(815) 580-4539</td>\n",
       "      <td>Lou Bachrodt Automall</td>\n",
       "      <td>38984.0</td>\n",
       "      <td>Mineral Silver Metallic</td>\n",
       "      <td>Black</td>\n",
       "    </tr>\n",
       "    <tr>\n",
       "      <th>36</th>\n",
       "      <td>36</td>\n",
       "      <td>5UXXW3C5XF0M87429</td>\n",
       "      <td>5UXXW3C5XF0M87429</td>\n",
       "      <td>2015 BMW X4 xDrive28i</td>\n",
       "      <td>2015</td>\n",
       "      <td>BMW</td>\n",
       "      <td>32125.0</td>\n",
       "      <td>(815) 580-3161</td>\n",
       "      <td>Lou Bachrodt Automall</td>\n",
       "      <td>38984.0</td>\n",
       "      <td>...</td>\n",
       "      <td>Black</td>\n",
       "      <td>Used 2015 BMW X4 xDrive28i AWD 4dr Sports Activity Coupe</td>\n",
       "      <td>2015.0</td>\n",
       "      <td>BMW</td>\n",
       "      <td>32125.0</td>\n",
       "      <td>(815) 580-4539</td>\n",
       "      <td>Lou Bachrodt Automall</td>\n",
       "      <td>38984.0</td>\n",
       "      <td>Mineral Silver Metallic</td>\n",
       "      <td>Black</td>\n",
       "    </tr>\n",
       "  </tbody>\n",
       "</table>\n",
       "<p>5 rows × 21 columns</p>\n",
       "</div>"
      ],
      "text/plain": [
       "    _id         ltable_vin         rtable_vin             ltable_name  \\\n",
       "15   15  JTHBJ46G092310165  JTHCK262395032032  2009 Lexus ES 350 Base   \n",
       "18   18  2T2HK31U99C117297  JTHCK262395032032  2009 Lexus RX 350 Base   \n",
       "31   31  JTHCK262292031147  JTHCK262395032032       2009 Lexus IS 250   \n",
       "35   35  5UXWX9C55F0D50882  5UXXW3C5XF0M87429   2015 BMW X3 xDrive28i   \n",
       "36   36  5UXXW3C5XF0M87429  5UXXW3C5XF0M87429   2015 BMW X4 xDrive28i   \n",
       "\n",
       "    ltable_year ltable_maker  ltable_price ltable_seller_phone  \\\n",
       "15         2009        Lexus       10800.0      (262) 510-0495   \n",
       "18         2009        Lexus        9995.0      (414) 269-8756   \n",
       "31         2009        Lexus        8999.0      (414) 208-4991   \n",
       "35         2015          BMW       25998.0      (920) 717-1525   \n",
       "36         2015          BMW       32125.0      (815) 580-3161   \n",
       "\n",
       "          ltable_seller_name  ltable_miles          ...           \\\n",
       "15              Griffin Ford      117904.0          ...            \n",
       "18    Millennium Motor Sales      143081.0          ...            \n",
       "31            Gateway Motors       97530.0          ...            \n",
       "35  Napleton Chevrolet Buick       35152.0          ...            \n",
       "36     Lou Bachrodt Automall       38984.0          ...            \n",
       "\n",
       "   ltable_interior_color  \\\n",
       "15                 Black   \n",
       "18                   Tan   \n",
       "31                 Black   \n",
       "35                   NaN   \n",
       "36                 Black   \n",
       "\n",
       "                                                 rtable_name rtable_year  \\\n",
       "15                                    2009 LEXUS IS 250 Base      2009.0   \n",
       "18                                    2009 LEXUS IS 250 Base      2009.0   \n",
       "31                                    2009 LEXUS IS 250 Base      2009.0   \n",
       "35  Used 2015 BMW X4 xDrive28i AWD 4dr Sports Activity Coupe      2015.0   \n",
       "36  Used 2015 BMW X4 xDrive28i AWD 4dr Sports Activity Coupe      2015.0   \n",
       "\n",
       "    rtable_maker rtable_price        rtable_seller_phone  \\\n",
       "15         Lexus      12984.0  866-296-3008 877-287-8274   \n",
       "18         Lexus      12984.0  866-296-3008 877-287-8274   \n",
       "31         Lexus      12984.0  866-296-3008 877-287-8274   \n",
       "35           BMW      32125.0             (815) 580-4539   \n",
       "36           BMW      32125.0             (815) 580-4539   \n",
       "\n",
       "                  rtable_seller_name rtable_miles    rtable_exterior_color  \\\n",
       "15  Jaguar Land Rover Volvo Waukesha      57092.0                     Gray   \n",
       "18  Jaguar Land Rover Volvo Waukesha      57092.0                     Gray   \n",
       "31  Jaguar Land Rover Volvo Waukesha      57092.0                     Gray   \n",
       "35             Lou Bachrodt Automall      38984.0  Mineral Silver Metallic   \n",
       "36             Lou Bachrodt Automall      38984.0  Mineral Silver Metallic   \n",
       "\n",
       "   rtable_interior_color  \n",
       "15                  GRAY  \n",
       "18                  GRAY  \n",
       "31                  GRAY  \n",
       "35                 Black  \n",
       "36                 Black  \n",
       "\n",
       "[5 rows x 21 columns]"
      ]
     },
     "execution_count": 17,
     "metadata": {},
     "output_type": "execute_result"
    }
   ],
   "source": [
    "C2.head()"
   ]
  },
  {
   "cell_type": "code",
   "execution_count": 18,
   "metadata": {},
   "outputs": [
    {
     "name": "stderr",
     "output_type": "stream",
     "text": [
      "0% [##############################] 100% | ETA: 00:00:00\n",
      "Total time elapsed: 00:00:00\n"
     ]
    }
   ],
   "source": [
    "C3 = ab.block_candset(C2, l_block_attr='maker', r_block_attr='maker')"
   ]
  },
  {
   "cell_type": "code",
   "execution_count": 19,
   "metadata": {},
   "outputs": [
    {
     "data": {
      "text/plain": [
       "30792"
      ]
     },
     "execution_count": 19,
     "metadata": {},
     "output_type": "execute_result"
    }
   ],
   "source": [
    "len(C3)"
   ]
  },
  {
   "cell_type": "markdown",
   "metadata": {},
   "source": [
    "# 1.3 Block on price\n",
    "We assume the price difference is within 2000."
   ]
  },
  {
   "cell_type": "code",
   "execution_count": 20,
   "metadata": {
    "collapsed": true
   },
   "outputs": [],
   "source": [
    "def price_block(x, y):\n",
    "    x_price = float(x['price'])\n",
    "    y_price = float(y['price'])\n",
    "    if abs(x_price - y_price) > 2000:\n",
    "        return True\n",
    "    else:\n",
    "        return False"
   ]
  },
  {
   "cell_type": "code",
   "execution_count": 21,
   "metadata": {
    "collapsed": true
   },
   "outputs": [],
   "source": [
    "bb = em.BlackBoxBlocker()"
   ]
  },
  {
   "cell_type": "code",
   "execution_count": 22,
   "metadata": {
    "collapsed": true
   },
   "outputs": [],
   "source": [
    "bb.set_black_box_function(price_block)"
   ]
  },
  {
   "cell_type": "code",
   "execution_count": 23,
   "metadata": {},
   "outputs": [
    {
     "name": "stderr",
     "output_type": "stream",
     "text": [
      "0% [##############################] 100% | ETA: 00:00:00\n",
      "Total time elapsed: 00:00:01\n"
     ]
    }
   ],
   "source": [
    "C4 = bb.block_candset(C3)"
   ]
  },
  {
   "cell_type": "code",
   "execution_count": 24,
   "metadata": {},
   "outputs": [
    {
     "data": {
      "text/plain": [
       "9759"
      ]
     },
     "execution_count": 24,
     "metadata": {},
     "output_type": "execute_result"
    }
   ],
   "source": [
    "len(C4)"
   ]
  },
  {
   "cell_type": "code",
   "execution_count": 25,
   "metadata": {},
   "outputs": [
    {
     "name": "stdout",
     "output_type": "stream",
     "text": [
      "id: 4401652512\n",
      "key: _id\n",
      "fk_ltable: ltable_vin\n",
      "fk_rtable: rtable_vin\n",
      "ltable(obj.id): 4651467664\n",
      "rtable(obj.id): 4661204808\n"
     ]
    }
   ],
   "source": [
    "em.show_properties(C4)"
   ]
  },
  {
   "cell_type": "markdown",
   "metadata": {},
   "source": [
    "## 1.4 block on miles\n",
    "We assume the miles difference should within 2000."
   ]
  },
  {
   "cell_type": "code",
   "execution_count": 26,
   "metadata": {
    "collapsed": true
   },
   "outputs": [],
   "source": [
    "def miles_block(x, y):\n",
    "    x_miles = float(x['miles'])\n",
    "    y_miles = float(y['miles'])\n",
    "    if abs(x_miles - y_miles) > 2000:\n",
    "        return True\n",
    "    else:\n",
    "        return False"
   ]
  },
  {
   "cell_type": "code",
   "execution_count": 27,
   "metadata": {
    "collapsed": true
   },
   "outputs": [],
   "source": [
    "bb.set_black_box_function(miles_block)"
   ]
  },
  {
   "cell_type": "code",
   "execution_count": 28,
   "metadata": {},
   "outputs": [
    {
     "name": "stderr",
     "output_type": "stream",
     "text": [
      "0% [##############################] 100% | ETA: 00:00:00\n",
      "Total time elapsed: 00:00:00\n"
     ]
    }
   ],
   "source": [
    "C5 = bb.block_candset(C4)"
   ]
  },
  {
   "cell_type": "code",
   "execution_count": 29,
   "metadata": {},
   "outputs": [
    {
     "data": {
      "text/plain": [
       "1532"
      ]
     },
     "execution_count": 29,
     "metadata": {},
     "output_type": "execute_result"
    }
   ],
   "source": [
    "len(C5)"
   ]
  },
  {
   "cell_type": "markdown",
   "metadata": {},
   "source": [
    "Now we can move to the next step"
   ]
  },
  {
   "cell_type": "code",
   "execution_count": 30,
   "metadata": {},
   "outputs": [
    {
     "data": {
      "text/plain": [
       "pandas.core.frame.DataFrame"
      ]
     },
     "execution_count": 30,
     "metadata": {},
     "output_type": "execute_result"
    }
   ],
   "source": [
    "type(C5)"
   ]
  },
  {
   "cell_type": "code",
   "execution_count": 31,
   "metadata": {
    "collapsed": true
   },
   "outputs": [],
   "source": [
    "C5.to_csv('pairs.csv', index=False)"
   ]
  },
  {
   "cell_type": "code",
   "execution_count": 32,
   "metadata": {},
   "outputs": [
    {
     "name": "stdout",
     "output_type": "stream",
     "text": [
      "block.ipynb             features.ipynb          pairs.csv\r\n",
      "cars_com_clean.csv      label.ipynb             pairs_sample.csv\r\n",
      "cars_com_luxury.csv     market_api_clean.csv    pairs_sample_label.csv\r\n",
      "cars_sample.csv         market_check_luxury.csv read-csv.ipynb\r\n",
      "down-sampling.ipynb     market_sample.csv       sample.ipynb\r\n",
      "feature_table.csv       match.ipynb\r\n"
     ]
    }
   ],
   "source": [
    "!ls"
   ]
  },
  {
   "cell_type": "code",
   "execution_count": 33,
   "metadata": {},
   "outputs": [
    {
     "data": {
      "text/plain": [
       "1532"
      ]
     },
     "execution_count": 33,
     "metadata": {},
     "output_type": "execute_result"
    }
   ],
   "source": [
    "len(C5)"
   ]
  },
  {
   "cell_type": "code",
   "execution_count": 34,
   "metadata": {},
   "outputs": [
    {
     "data": {
      "text/html": [
       "<div>\n",
       "<style scoped>\n",
       "    .dataframe tbody tr th:only-of-type {\n",
       "        vertical-align: middle;\n",
       "    }\n",
       "\n",
       "    .dataframe tbody tr th {\n",
       "        vertical-align: top;\n",
       "    }\n",
       "\n",
       "    .dataframe thead th {\n",
       "        text-align: right;\n",
       "    }\n",
       "</style>\n",
       "<table border=\"1\" class=\"dataframe\">\n",
       "  <thead>\n",
       "    <tr style=\"text-align: right;\">\n",
       "      <th></th>\n",
       "      <th>_id</th>\n",
       "      <th>ltable_vin</th>\n",
       "      <th>rtable_vin</th>\n",
       "      <th>ltable_name</th>\n",
       "      <th>ltable_year</th>\n",
       "      <th>ltable_maker</th>\n",
       "      <th>ltable_price</th>\n",
       "      <th>ltable_seller_phone</th>\n",
       "      <th>ltable_seller_name</th>\n",
       "      <th>ltable_miles</th>\n",
       "      <th>...</th>\n",
       "      <th>ltable_interior_color</th>\n",
       "      <th>rtable_name</th>\n",
       "      <th>rtable_year</th>\n",
       "      <th>rtable_maker</th>\n",
       "      <th>rtable_price</th>\n",
       "      <th>rtable_seller_phone</th>\n",
       "      <th>rtable_seller_name</th>\n",
       "      <th>rtable_miles</th>\n",
       "      <th>rtable_exterior_color</th>\n",
       "      <th>rtable_interior_color</th>\n",
       "    </tr>\n",
       "  </thead>\n",
       "  <tbody>\n",
       "    <tr>\n",
       "      <th>36</th>\n",
       "      <td>36</td>\n",
       "      <td>5UXXW3C5XF0M87429</td>\n",
       "      <td>5UXXW3C5XF0M87429</td>\n",
       "      <td>2015 BMW X4 xDrive28i</td>\n",
       "      <td>2015</td>\n",
       "      <td>BMW</td>\n",
       "      <td>32125.0</td>\n",
       "      <td>(815) 580-3161</td>\n",
       "      <td>Lou Bachrodt Automall</td>\n",
       "      <td>38984.0</td>\n",
       "      <td>...</td>\n",
       "      <td>Black</td>\n",
       "      <td>Used 2015 BMW X4 xDrive28i AWD 4dr Sports Activity Coupe</td>\n",
       "      <td>2015.0</td>\n",
       "      <td>BMW</td>\n",
       "      <td>32125.0</td>\n",
       "      <td>(815) 580-4539</td>\n",
       "      <td>Lou Bachrodt Automall</td>\n",
       "      <td>38984.0</td>\n",
       "      <td>Mineral Silver Metallic</td>\n",
       "      <td>Black</td>\n",
       "    </tr>\n",
       "    <tr>\n",
       "      <th>47</th>\n",
       "      <td>47</td>\n",
       "      <td>5UXWX9C56F0D51264</td>\n",
       "      <td>5UXXW3C5XF0M87429</td>\n",
       "      <td>2015 BMW X3 xDrive28i</td>\n",
       "      <td>2015</td>\n",
       "      <td>BMW</td>\n",
       "      <td>33990.0</td>\n",
       "      <td>(888) 570-3759</td>\n",
       "      <td>Zimbrick BMW</td>\n",
       "      <td>37495.0</td>\n",
       "      <td>...</td>\n",
       "      <td>Saddle Brown Nevada Leather</td>\n",
       "      <td>Used 2015 BMW X4 xDrive28i AWD 4dr Sports Activity Coupe</td>\n",
       "      <td>2015.0</td>\n",
       "      <td>BMW</td>\n",
       "      <td>32125.0</td>\n",
       "      <td>(815) 580-4539</td>\n",
       "      <td>Lou Bachrodt Automall</td>\n",
       "      <td>38984.0</td>\n",
       "      <td>Mineral Silver Metallic</td>\n",
       "      <td>Black</td>\n",
       "    </tr>\n",
       "  </tbody>\n",
       "</table>\n",
       "<p>2 rows × 21 columns</p>\n",
       "</div>"
      ],
      "text/plain": [
       "    _id         ltable_vin         rtable_vin            ltable_name  \\\n",
       "36   36  5UXXW3C5XF0M87429  5UXXW3C5XF0M87429  2015 BMW X4 xDrive28i   \n",
       "47   47  5UXWX9C56F0D51264  5UXXW3C5XF0M87429  2015 BMW X3 xDrive28i   \n",
       "\n",
       "    ltable_year ltable_maker  ltable_price ltable_seller_phone  \\\n",
       "36         2015          BMW       32125.0      (815) 580-3161   \n",
       "47         2015          BMW       33990.0      (888) 570-3759   \n",
       "\n",
       "       ltable_seller_name  ltable_miles          ...           \\\n",
       "36  Lou Bachrodt Automall       38984.0          ...            \n",
       "47           Zimbrick BMW       37495.0          ...            \n",
       "\n",
       "          ltable_interior_color  \\\n",
       "36                        Black   \n",
       "47  Saddle Brown Nevada Leather   \n",
       "\n",
       "                                                 rtable_name rtable_year  \\\n",
       "36  Used 2015 BMW X4 xDrive28i AWD 4dr Sports Activity Coupe      2015.0   \n",
       "47  Used 2015 BMW X4 xDrive28i AWD 4dr Sports Activity Coupe      2015.0   \n",
       "\n",
       "    rtable_maker rtable_price  rtable_seller_phone     rtable_seller_name  \\\n",
       "36           BMW      32125.0       (815) 580-4539  Lou Bachrodt Automall   \n",
       "47           BMW      32125.0       (815) 580-4539  Lou Bachrodt Automall   \n",
       "\n",
       "   rtable_miles    rtable_exterior_color rtable_interior_color  \n",
       "36      38984.0  Mineral Silver Metallic                 Black  \n",
       "47      38984.0  Mineral Silver Metallic                 Black  \n",
       "\n",
       "[2 rows x 21 columns]"
      ]
     },
     "execution_count": 34,
     "metadata": {},
     "output_type": "execute_result"
    }
   ],
   "source": [
    "C5.head(2)"
   ]
  },
  {
   "cell_type": "code",
   "execution_count": null,
   "metadata": {
    "collapsed": true
   },
   "outputs": [],
   "source": []
  },
  {
   "cell_type": "code",
   "execution_count": null,
   "metadata": {
    "collapsed": true
   },
   "outputs": [],
   "source": []
  }
 ],
 "metadata": {
  "kernelspec": {
   "display_name": "python-python3env",
   "language": "python",
   "name": "python3env"
  },
  "language_info": {
   "codemirror_mode": {
    "name": "ipython",
    "version": 3
   },
   "file_extension": ".py",
   "mimetype": "text/x-python",
   "name": "python",
   "nbconvert_exporter": "python",
   "pygments_lexer": "ipython3",
   "version": "3.6.3"
  }
 },
 "nbformat": 4,
 "nbformat_minor": 2
}
