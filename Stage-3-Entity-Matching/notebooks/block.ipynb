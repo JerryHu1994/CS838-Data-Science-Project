{
 "cells": [
  {
   "cell_type": "markdown",
   "metadata": {},
   "source": [
    "# 1. Load sampled data and block"
   ]
  },
  {
   "cell_type": "code",
   "execution_count": 1,
   "metadata": {},
   "outputs": [],
   "source": [
    "import pandas as pd\n",
    "import py_entitymatching as em"
   ]
  },
  {
   "cell_type": "code",
   "execution_count": 2,
   "metadata": {},
   "outputs": [
    {
     "name": "stderr",
     "output_type": "stream",
     "text": [
      "Metadata file is not present in the given path; proceeding to read the csv file.\n",
      "Metadata file is not present in the given path; proceeding to read the csv file.\n"
     ]
    }
   ],
   "source": [
    "A = em.read_csv_metadata('cars_sample.csv', key='vin')\n",
    "B = em.read_csv_metadata('market_sample.csv', key='vin')"
   ]
  },
  {
   "cell_type": "code",
   "execution_count": 3,
   "metadata": {},
   "outputs": [
    {
     "data": {
      "text/html": [
       "<div>\n",
       "<style scoped>\n",
       "    .dataframe tbody tr th:only-of-type {\n",
       "        vertical-align: middle;\n",
       "    }\n",
       "\n",
       "    .dataframe tbody tr th {\n",
       "        vertical-align: top;\n",
       "    }\n",
       "\n",
       "    .dataframe thead th {\n",
       "        text-align: right;\n",
       "    }\n",
       "</style>\n",
       "<table border=\"1\" class=\"dataframe\">\n",
       "  <thead>\n",
       "    <tr style=\"text-align: right;\">\n",
       "      <th></th>\n",
       "      <th>name</th>\n",
       "      <th>year</th>\n",
       "      <th>maker</th>\n",
       "      <th>price</th>\n",
       "      <th>seller_name</th>\n",
       "      <th>seller_phone</th>\n",
       "      <th>miles</th>\n",
       "      <th>exterior_color</th>\n",
       "      <th>interior_color</th>\n",
       "      <th>transmission</th>\n",
       "      <th>drivetrain</th>\n",
       "      <th>vin</th>\n",
       "      <th>id</th>\n",
       "    </tr>\n",
       "  </thead>\n",
       "  <tbody>\n",
       "    <tr>\n",
       "      <th>0</th>\n",
       "      <td>2010 Mercedes-Benz  GL 450 4MATIC</td>\n",
       "      <td>2010</td>\n",
       "      <td>Mercedes-Benz</td>\n",
       "      <td>15614.0</td>\n",
       "      <td>Kayser Ford Lincoln</td>\n",
       "      <td>(608) 807-5359</td>\n",
       "      <td>107545.0</td>\n",
       "      <td>Black</td>\n",
       "      <td>Cashmere</td>\n",
       "      <td>7-Speed Automatic</td>\n",
       "      <td>AWD</td>\n",
       "      <td>4JGBF7BEXAA543808</td>\n",
       "      <td>0</td>\n",
       "    </tr>\n",
       "    <tr>\n",
       "      <th>1</th>\n",
       "      <td>2015 Mercedes-Benz  ML 350</td>\n",
       "      <td>2015</td>\n",
       "      <td>Mercedes-Benz</td>\n",
       "      <td>29998.0</td>\n",
       "      <td>CarMax Madison</td>\n",
       "      <td>(608) 286-3923</td>\n",
       "      <td>36642.0</td>\n",
       "      <td>Gray</td>\n",
       "      <td>Black</td>\n",
       "      <td>7-Speed Automatic w/OD</td>\n",
       "      <td>AWD</td>\n",
       "      <td>4JGDA5HB7FA445741</td>\n",
       "      <td>1</td>\n",
       "    </tr>\n",
       "  </tbody>\n",
       "</table>\n",
       "</div>"
      ],
      "text/plain": [
       "                                name  year          maker    price  \\\n",
       "0  2010 Mercedes-Benz  GL 450 4MATIC  2010  Mercedes-Benz  15614.0   \n",
       "1         2015 Mercedes-Benz  ML 350  2015  Mercedes-Benz  29998.0   \n",
       "\n",
       "           seller_name    seller_phone     miles exterior_color  \\\n",
       "0  Kayser Ford Lincoln  (608) 807-5359  107545.0          Black   \n",
       "1       CarMax Madison  (608) 286-3923   36642.0           Gray   \n",
       "\n",
       "  interior_color            transmission drivetrain                vin  id  \n",
       "0       Cashmere       7-Speed Automatic        AWD  4JGBF7BEXAA543808   0  \n",
       "1          Black  7-Speed Automatic w/OD        AWD  4JGDA5HB7FA445741   1  "
      ]
     },
     "execution_count": 3,
     "metadata": {},
     "output_type": "execute_result"
    }
   ],
   "source": [
    "A.head(2)"
   ]
  },
  {
   "cell_type": "markdown",
   "metadata": {},
   "source": [
    "## 1.1 Block on name\n",
    "we will assume that two cars with no sufficient overlap between their name do not refer to the same car."
   ]
  },
  {
   "cell_type": "code",
   "execution_count": 4,
   "metadata": {},
   "outputs": [],
   "source": [
    "ob = em.OverlapBlocker()"
   ]
  },
  {
   "cell_type": "code",
   "execution_count": 5,
   "metadata": {},
   "outputs": [],
   "source": [
    "attrs = ['name', 'year', 'maker', 'price', 'seller_phone', 'seller_name', 'miles', 'exterior_color', 'interior_color']"
   ]
  },
  {
   "cell_type": "code",
   "execution_count": 6,
   "metadata": {},
   "outputs": [
    {
     "name": "stderr",
     "output_type": "stream",
     "text": [
      "0% [##############################] 100% | ETA: 00:00:00\n",
      "Total time elapsed: 00:00:00\n"
     ]
    }
   ],
   "source": [
    "C1 = ob.block_tables(A, B, 'name', 'name', word_level=True,\n",
    "                    overlap_size=3, l_output_attrs=attrs,\n",
    "                    r_output_attrs=attrs)"
   ]
  },
  {
   "cell_type": "code",
   "execution_count": 7,
   "metadata": {},
   "outputs": [
    {
     "data": {
      "text/plain": [
       "89541"
      ]
     },
     "execution_count": 7,
     "metadata": {},
     "output_type": "execute_result"
    }
   ],
   "source": [
    "len(C1)"
   ]
  },
  {
   "cell_type": "code",
   "execution_count": 8,
   "metadata": {},
   "outputs": [
    {
     "data": {
      "text/html": [
       "<div>\n",
       "<style scoped>\n",
       "    .dataframe tbody tr th:only-of-type {\n",
       "        vertical-align: middle;\n",
       "    }\n",
       "\n",
       "    .dataframe tbody tr th {\n",
       "        vertical-align: top;\n",
       "    }\n",
       "\n",
       "    .dataframe thead th {\n",
       "        text-align: right;\n",
       "    }\n",
       "</style>\n",
       "<table border=\"1\" class=\"dataframe\">\n",
       "  <thead>\n",
       "    <tr style=\"text-align: right;\">\n",
       "      <th></th>\n",
       "      <th>_id</th>\n",
       "      <th>ltable_vin</th>\n",
       "      <th>rtable_vin</th>\n",
       "      <th>ltable_name</th>\n",
       "      <th>ltable_year</th>\n",
       "      <th>ltable_maker</th>\n",
       "      <th>ltable_price</th>\n",
       "      <th>ltable_seller_phone</th>\n",
       "      <th>ltable_seller_name</th>\n",
       "      <th>ltable_miles</th>\n",
       "      <th>...</th>\n",
       "      <th>ltable_interior_color</th>\n",
       "      <th>rtable_name</th>\n",
       "      <th>rtable_year</th>\n",
       "      <th>rtable_maker</th>\n",
       "      <th>rtable_price</th>\n",
       "      <th>rtable_seller_phone</th>\n",
       "      <th>rtable_seller_name</th>\n",
       "      <th>rtable_miles</th>\n",
       "      <th>rtable_exterior_color</th>\n",
       "      <th>rtable_interior_color</th>\n",
       "    </tr>\n",
       "  </thead>\n",
       "  <tbody>\n",
       "    <tr>\n",
       "      <th>0</th>\n",
       "      <td>0</td>\n",
       "      <td>4JGDA5HB7FA445741</td>\n",
       "      <td>4JGDF2EEXFA490266</td>\n",
       "      <td>2015 Mercedes-Benz  ML 350</td>\n",
       "      <td>2015</td>\n",
       "      <td>Mercedes-Benz</td>\n",
       "      <td>29998.0</td>\n",
       "      <td>(608) 286-3923</td>\n",
       "      <td>CarMax Madison</td>\n",
       "      <td>36642.0</td>\n",
       "      <td>...</td>\n",
       "      <td>Black</td>\n",
       "      <td>2015 Mercedes-Benz GL-Class GL 350 BlueTEC</td>\n",
       "      <td>2015.0</td>\n",
       "      <td>Mercedes-Benz</td>\n",
       "      <td>43977.0</td>\n",
       "      <td>(888) 440-2312</td>\n",
       "      <td>Kunes Country Ford Lincoln Inc.</td>\n",
       "      <td>39027.0</td>\n",
       "      <td>NaN</td>\n",
       "      <td>NaN</td>\n",
       "    </tr>\n",
       "    <tr>\n",
       "      <th>1</th>\n",
       "      <td>1</td>\n",
       "      <td>WDDHF8JB4FB086738</td>\n",
       "      <td>4JGDF2EEXFA490266</td>\n",
       "      <td>2015 Mercedes-Benz  E 350 4MATIC</td>\n",
       "      <td>2015</td>\n",
       "      <td>Mercedes-Benz</td>\n",
       "      <td>29855.0</td>\n",
       "      <td>(920) 545-2133</td>\n",
       "      <td>Kayser Chrysler Center Watertown</td>\n",
       "      <td>35199.0</td>\n",
       "      <td>...</td>\n",
       "      <td>Gray / Dark Gray</td>\n",
       "      <td>2015 Mercedes-Benz GL-Class GL 350 BlueTEC</td>\n",
       "      <td>2015.0</td>\n",
       "      <td>Mercedes-Benz</td>\n",
       "      <td>43977.0</td>\n",
       "      <td>(888) 440-2312</td>\n",
       "      <td>Kunes Country Ford Lincoln Inc.</td>\n",
       "      <td>39027.0</td>\n",
       "      <td>NaN</td>\n",
       "      <td>NaN</td>\n",
       "    </tr>\n",
       "    <tr>\n",
       "      <th>2</th>\n",
       "      <td>2</td>\n",
       "      <td>4JGDF2EEXFA490266</td>\n",
       "      <td>4JGDF2EEXFA490266</td>\n",
       "      <td>2015 Mercedes-Benz  GL 350 BlueTEC 4MATIC</td>\n",
       "      <td>2015</td>\n",
       "      <td>Mercedes-Benz</td>\n",
       "      <td>43977.0</td>\n",
       "      <td>(262) 586-4283</td>\n",
       "      <td>Kunes Country Chevrolet Cadillac of Delavan</td>\n",
       "      <td>39027.0</td>\n",
       "      <td>...</td>\n",
       "      <td>Black</td>\n",
       "      <td>2015 Mercedes-Benz GL-Class GL 350 BlueTEC</td>\n",
       "      <td>2015.0</td>\n",
       "      <td>Mercedes-Benz</td>\n",
       "      <td>43977.0</td>\n",
       "      <td>(888) 440-2312</td>\n",
       "      <td>Kunes Country Ford Lincoln Inc.</td>\n",
       "      <td>39027.0</td>\n",
       "      <td>NaN</td>\n",
       "      <td>NaN</td>\n",
       "    </tr>\n",
       "    <tr>\n",
       "      <th>3</th>\n",
       "      <td>3</td>\n",
       "      <td>WDDGJ8JB3FG369502</td>\n",
       "      <td>4JGDF2EEXFA490266</td>\n",
       "      <td>2015 Mercedes-Benz  C 350</td>\n",
       "      <td>2015</td>\n",
       "      <td>Mercedes-Benz</td>\n",
       "      <td>29989.0</td>\n",
       "      <td>(888) 821-6594</td>\n",
       "      <td>Mercedes-Benz of Milwaukee North</td>\n",
       "      <td>25415.0</td>\n",
       "      <td>...</td>\n",
       "      <td>Sport Black</td>\n",
       "      <td>2015 Mercedes-Benz GL-Class GL 350 BlueTEC</td>\n",
       "      <td>2015.0</td>\n",
       "      <td>Mercedes-Benz</td>\n",
       "      <td>43977.0</td>\n",
       "      <td>(888) 440-2312</td>\n",
       "      <td>Kunes Country Ford Lincoln Inc.</td>\n",
       "      <td>39027.0</td>\n",
       "      <td>NaN</td>\n",
       "      <td>NaN</td>\n",
       "    </tr>\n",
       "    <tr>\n",
       "      <th>4</th>\n",
       "      <td>4</td>\n",
       "      <td>WDDHF5KB8FB100167</td>\n",
       "      <td>4JGDF2EEXFA490266</td>\n",
       "      <td>2015 Mercedes-Benz  E 350</td>\n",
       "      <td>2015</td>\n",
       "      <td>Mercedes-Benz</td>\n",
       "      <td>30980.0</td>\n",
       "      <td>(877) 682-3020</td>\n",
       "      <td>VROOM (Milwaukee)</td>\n",
       "      <td>35869.0</td>\n",
       "      <td>...</td>\n",
       "      <td>Black</td>\n",
       "      <td>2015 Mercedes-Benz GL-Class GL 350 BlueTEC</td>\n",
       "      <td>2015.0</td>\n",
       "      <td>Mercedes-Benz</td>\n",
       "      <td>43977.0</td>\n",
       "      <td>(888) 440-2312</td>\n",
       "      <td>Kunes Country Ford Lincoln Inc.</td>\n",
       "      <td>39027.0</td>\n",
       "      <td>NaN</td>\n",
       "      <td>NaN</td>\n",
       "    </tr>\n",
       "  </tbody>\n",
       "</table>\n",
       "<p>5 rows × 21 columns</p>\n",
       "</div>"
      ],
      "text/plain": [
       "   _id         ltable_vin         rtable_vin  \\\n",
       "0    0  4JGDA5HB7FA445741  4JGDF2EEXFA490266   \n",
       "1    1  WDDHF8JB4FB086738  4JGDF2EEXFA490266   \n",
       "2    2  4JGDF2EEXFA490266  4JGDF2EEXFA490266   \n",
       "3    3  WDDGJ8JB3FG369502  4JGDF2EEXFA490266   \n",
       "4    4  WDDHF5KB8FB100167  4JGDF2EEXFA490266   \n",
       "\n",
       "                                 ltable_name  ltable_year   ltable_maker  \\\n",
       "0                 2015 Mercedes-Benz  ML 350         2015  Mercedes-Benz   \n",
       "1           2015 Mercedes-Benz  E 350 4MATIC         2015  Mercedes-Benz   \n",
       "2  2015 Mercedes-Benz  GL 350 BlueTEC 4MATIC         2015  Mercedes-Benz   \n",
       "3                  2015 Mercedes-Benz  C 350         2015  Mercedes-Benz   \n",
       "4                  2015 Mercedes-Benz  E 350         2015  Mercedes-Benz   \n",
       "\n",
       "   ltable_price ltable_seller_phone  \\\n",
       "0       29998.0      (608) 286-3923   \n",
       "1       29855.0      (920) 545-2133   \n",
       "2       43977.0      (262) 586-4283   \n",
       "3       29989.0      (888) 821-6594   \n",
       "4       30980.0      (877) 682-3020   \n",
       "\n",
       "                            ltable_seller_name  ltable_miles  \\\n",
       "0                               CarMax Madison       36642.0   \n",
       "1             Kayser Chrysler Center Watertown       35199.0   \n",
       "2  Kunes Country Chevrolet Cadillac of Delavan       39027.0   \n",
       "3             Mercedes-Benz of Milwaukee North       25415.0   \n",
       "4                            VROOM (Milwaukee)       35869.0   \n",
       "\n",
       "           ...          ltable_interior_color  \\\n",
       "0          ...                          Black   \n",
       "1          ...               Gray / Dark Gray   \n",
       "2          ...                          Black   \n",
       "3          ...                    Sport Black   \n",
       "4          ...                          Black   \n",
       "\n",
       "                                  rtable_name rtable_year   rtable_maker  \\\n",
       "0  2015 Mercedes-Benz GL-Class GL 350 BlueTEC      2015.0  Mercedes-Benz   \n",
       "1  2015 Mercedes-Benz GL-Class GL 350 BlueTEC      2015.0  Mercedes-Benz   \n",
       "2  2015 Mercedes-Benz GL-Class GL 350 BlueTEC      2015.0  Mercedes-Benz   \n",
       "3  2015 Mercedes-Benz GL-Class GL 350 BlueTEC      2015.0  Mercedes-Benz   \n",
       "4  2015 Mercedes-Benz GL-Class GL 350 BlueTEC      2015.0  Mercedes-Benz   \n",
       "\n",
       "  rtable_price  rtable_seller_phone               rtable_seller_name  \\\n",
       "0      43977.0       (888) 440-2312  Kunes Country Ford Lincoln Inc.   \n",
       "1      43977.0       (888) 440-2312  Kunes Country Ford Lincoln Inc.   \n",
       "2      43977.0       (888) 440-2312  Kunes Country Ford Lincoln Inc.   \n",
       "3      43977.0       (888) 440-2312  Kunes Country Ford Lincoln Inc.   \n",
       "4      43977.0       (888) 440-2312  Kunes Country Ford Lincoln Inc.   \n",
       "\n",
       "  rtable_miles  rtable_exterior_color rtable_interior_color  \n",
       "0      39027.0                    NaN                   NaN  \n",
       "1      39027.0                    NaN                   NaN  \n",
       "2      39027.0                    NaN                   NaN  \n",
       "3      39027.0                    NaN                   NaN  \n",
       "4      39027.0                    NaN                   NaN  \n",
       "\n",
       "[5 rows x 21 columns]"
      ]
     },
     "execution_count": 8,
     "metadata": {},
     "output_type": "execute_result"
    }
   ],
   "source": [
    "C1.head()"
   ]
  },
  {
   "cell_type": "markdown",
   "metadata": {},
   "source": [
    "## 1.2 Block on year, maker\n",
    "We assume two candidates should have the same year and maker"
   ]
  },
  {
   "cell_type": "code",
   "execution_count": 9,
   "metadata": {},
   "outputs": [],
   "source": [
    "ab = em.AttrEquivalenceBlocker()"
   ]
  },
  {
   "cell_type": "code",
   "execution_count": 10,
   "metadata": {},
   "outputs": [
    {
     "name": "stderr",
     "output_type": "stream",
     "text": [
      "0% [##############################] 100% | ETA: 00:00:00\n",
      "Total time elapsed: 00:00:00\n"
     ]
    }
   ],
   "source": [
    "C2 = ab.block_candset(C1, l_block_attr='year', r_block_attr='year')"
   ]
  },
  {
   "cell_type": "code",
   "execution_count": 11,
   "metadata": {},
   "outputs": [
    {
     "data": {
      "text/plain": [
       "32441"
      ]
     },
     "execution_count": 11,
     "metadata": {},
     "output_type": "execute_result"
    }
   ],
   "source": [
    "len(C2)"
   ]
  },
  {
   "cell_type": "code",
   "execution_count": 12,
   "metadata": {},
   "outputs": [
    {
     "data": {
      "text/html": [
       "<div>\n",
       "<style scoped>\n",
       "    .dataframe tbody tr th:only-of-type {\n",
       "        vertical-align: middle;\n",
       "    }\n",
       "\n",
       "    .dataframe tbody tr th {\n",
       "        vertical-align: top;\n",
       "    }\n",
       "\n",
       "    .dataframe thead th {\n",
       "        text-align: right;\n",
       "    }\n",
       "</style>\n",
       "<table border=\"1\" class=\"dataframe\">\n",
       "  <thead>\n",
       "    <tr style=\"text-align: right;\">\n",
       "      <th></th>\n",
       "      <th>_id</th>\n",
       "      <th>ltable_vin</th>\n",
       "      <th>rtable_vin</th>\n",
       "      <th>ltable_name</th>\n",
       "      <th>ltable_year</th>\n",
       "      <th>ltable_maker</th>\n",
       "      <th>ltable_price</th>\n",
       "      <th>ltable_seller_phone</th>\n",
       "      <th>ltable_seller_name</th>\n",
       "      <th>ltable_miles</th>\n",
       "      <th>...</th>\n",
       "      <th>ltable_interior_color</th>\n",
       "      <th>rtable_name</th>\n",
       "      <th>rtable_year</th>\n",
       "      <th>rtable_maker</th>\n",
       "      <th>rtable_price</th>\n",
       "      <th>rtable_seller_phone</th>\n",
       "      <th>rtable_seller_name</th>\n",
       "      <th>rtable_miles</th>\n",
       "      <th>rtable_exterior_color</th>\n",
       "      <th>rtable_interior_color</th>\n",
       "    </tr>\n",
       "  </thead>\n",
       "  <tbody>\n",
       "    <tr>\n",
       "      <th>0</th>\n",
       "      <td>0</td>\n",
       "      <td>4JGDA5HB7FA445741</td>\n",
       "      <td>4JGDF2EEXFA490266</td>\n",
       "      <td>2015 Mercedes-Benz  ML 350</td>\n",
       "      <td>2015</td>\n",
       "      <td>Mercedes-Benz</td>\n",
       "      <td>29998.0</td>\n",
       "      <td>(608) 286-3923</td>\n",
       "      <td>CarMax Madison</td>\n",
       "      <td>36642.0</td>\n",
       "      <td>...</td>\n",
       "      <td>Black</td>\n",
       "      <td>2015 Mercedes-Benz GL-Class GL 350 BlueTEC</td>\n",
       "      <td>2015.0</td>\n",
       "      <td>Mercedes-Benz</td>\n",
       "      <td>43977.0</td>\n",
       "      <td>(888) 440-2312</td>\n",
       "      <td>Kunes Country Ford Lincoln Inc.</td>\n",
       "      <td>39027.0</td>\n",
       "      <td>NaN</td>\n",
       "      <td>NaN</td>\n",
       "    </tr>\n",
       "    <tr>\n",
       "      <th>1</th>\n",
       "      <td>1</td>\n",
       "      <td>WDDHF8JB4FB086738</td>\n",
       "      <td>4JGDF2EEXFA490266</td>\n",
       "      <td>2015 Mercedes-Benz  E 350 4MATIC</td>\n",
       "      <td>2015</td>\n",
       "      <td>Mercedes-Benz</td>\n",
       "      <td>29855.0</td>\n",
       "      <td>(920) 545-2133</td>\n",
       "      <td>Kayser Chrysler Center Watertown</td>\n",
       "      <td>35199.0</td>\n",
       "      <td>...</td>\n",
       "      <td>Gray / Dark Gray</td>\n",
       "      <td>2015 Mercedes-Benz GL-Class GL 350 BlueTEC</td>\n",
       "      <td>2015.0</td>\n",
       "      <td>Mercedes-Benz</td>\n",
       "      <td>43977.0</td>\n",
       "      <td>(888) 440-2312</td>\n",
       "      <td>Kunes Country Ford Lincoln Inc.</td>\n",
       "      <td>39027.0</td>\n",
       "      <td>NaN</td>\n",
       "      <td>NaN</td>\n",
       "    </tr>\n",
       "    <tr>\n",
       "      <th>2</th>\n",
       "      <td>2</td>\n",
       "      <td>4JGDF2EEXFA490266</td>\n",
       "      <td>4JGDF2EEXFA490266</td>\n",
       "      <td>2015 Mercedes-Benz  GL 350 BlueTEC 4MATIC</td>\n",
       "      <td>2015</td>\n",
       "      <td>Mercedes-Benz</td>\n",
       "      <td>43977.0</td>\n",
       "      <td>(262) 586-4283</td>\n",
       "      <td>Kunes Country Chevrolet Cadillac of Delavan</td>\n",
       "      <td>39027.0</td>\n",
       "      <td>...</td>\n",
       "      <td>Black</td>\n",
       "      <td>2015 Mercedes-Benz GL-Class GL 350 BlueTEC</td>\n",
       "      <td>2015.0</td>\n",
       "      <td>Mercedes-Benz</td>\n",
       "      <td>43977.0</td>\n",
       "      <td>(888) 440-2312</td>\n",
       "      <td>Kunes Country Ford Lincoln Inc.</td>\n",
       "      <td>39027.0</td>\n",
       "      <td>NaN</td>\n",
       "      <td>NaN</td>\n",
       "    </tr>\n",
       "    <tr>\n",
       "      <th>3</th>\n",
       "      <td>3</td>\n",
       "      <td>WDDGJ8JB3FG369502</td>\n",
       "      <td>4JGDF2EEXFA490266</td>\n",
       "      <td>2015 Mercedes-Benz  C 350</td>\n",
       "      <td>2015</td>\n",
       "      <td>Mercedes-Benz</td>\n",
       "      <td>29989.0</td>\n",
       "      <td>(888) 821-6594</td>\n",
       "      <td>Mercedes-Benz of Milwaukee North</td>\n",
       "      <td>25415.0</td>\n",
       "      <td>...</td>\n",
       "      <td>Sport Black</td>\n",
       "      <td>2015 Mercedes-Benz GL-Class GL 350 BlueTEC</td>\n",
       "      <td>2015.0</td>\n",
       "      <td>Mercedes-Benz</td>\n",
       "      <td>43977.0</td>\n",
       "      <td>(888) 440-2312</td>\n",
       "      <td>Kunes Country Ford Lincoln Inc.</td>\n",
       "      <td>39027.0</td>\n",
       "      <td>NaN</td>\n",
       "      <td>NaN</td>\n",
       "    </tr>\n",
       "    <tr>\n",
       "      <th>4</th>\n",
       "      <td>4</td>\n",
       "      <td>WDDHF5KB8FB100167</td>\n",
       "      <td>4JGDF2EEXFA490266</td>\n",
       "      <td>2015 Mercedes-Benz  E 350</td>\n",
       "      <td>2015</td>\n",
       "      <td>Mercedes-Benz</td>\n",
       "      <td>30980.0</td>\n",
       "      <td>(877) 682-3020</td>\n",
       "      <td>VROOM (Milwaukee)</td>\n",
       "      <td>35869.0</td>\n",
       "      <td>...</td>\n",
       "      <td>Black</td>\n",
       "      <td>2015 Mercedes-Benz GL-Class GL 350 BlueTEC</td>\n",
       "      <td>2015.0</td>\n",
       "      <td>Mercedes-Benz</td>\n",
       "      <td>43977.0</td>\n",
       "      <td>(888) 440-2312</td>\n",
       "      <td>Kunes Country Ford Lincoln Inc.</td>\n",
       "      <td>39027.0</td>\n",
       "      <td>NaN</td>\n",
       "      <td>NaN</td>\n",
       "    </tr>\n",
       "  </tbody>\n",
       "</table>\n",
       "<p>5 rows × 21 columns</p>\n",
       "</div>"
      ],
      "text/plain": [
       "   _id         ltable_vin         rtable_vin  \\\n",
       "0    0  4JGDA5HB7FA445741  4JGDF2EEXFA490266   \n",
       "1    1  WDDHF8JB4FB086738  4JGDF2EEXFA490266   \n",
       "2    2  4JGDF2EEXFA490266  4JGDF2EEXFA490266   \n",
       "3    3  WDDGJ8JB3FG369502  4JGDF2EEXFA490266   \n",
       "4    4  WDDHF5KB8FB100167  4JGDF2EEXFA490266   \n",
       "\n",
       "                                 ltable_name  ltable_year   ltable_maker  \\\n",
       "0                 2015 Mercedes-Benz  ML 350         2015  Mercedes-Benz   \n",
       "1           2015 Mercedes-Benz  E 350 4MATIC         2015  Mercedes-Benz   \n",
       "2  2015 Mercedes-Benz  GL 350 BlueTEC 4MATIC         2015  Mercedes-Benz   \n",
       "3                  2015 Mercedes-Benz  C 350         2015  Mercedes-Benz   \n",
       "4                  2015 Mercedes-Benz  E 350         2015  Mercedes-Benz   \n",
       "\n",
       "   ltable_price ltable_seller_phone  \\\n",
       "0       29998.0      (608) 286-3923   \n",
       "1       29855.0      (920) 545-2133   \n",
       "2       43977.0      (262) 586-4283   \n",
       "3       29989.0      (888) 821-6594   \n",
       "4       30980.0      (877) 682-3020   \n",
       "\n",
       "                            ltable_seller_name  ltable_miles  \\\n",
       "0                               CarMax Madison       36642.0   \n",
       "1             Kayser Chrysler Center Watertown       35199.0   \n",
       "2  Kunes Country Chevrolet Cadillac of Delavan       39027.0   \n",
       "3             Mercedes-Benz of Milwaukee North       25415.0   \n",
       "4                            VROOM (Milwaukee)       35869.0   \n",
       "\n",
       "           ...          ltable_interior_color  \\\n",
       "0          ...                          Black   \n",
       "1          ...               Gray / Dark Gray   \n",
       "2          ...                          Black   \n",
       "3          ...                    Sport Black   \n",
       "4          ...                          Black   \n",
       "\n",
       "                                  rtable_name rtable_year   rtable_maker  \\\n",
       "0  2015 Mercedes-Benz GL-Class GL 350 BlueTEC      2015.0  Mercedes-Benz   \n",
       "1  2015 Mercedes-Benz GL-Class GL 350 BlueTEC      2015.0  Mercedes-Benz   \n",
       "2  2015 Mercedes-Benz GL-Class GL 350 BlueTEC      2015.0  Mercedes-Benz   \n",
       "3  2015 Mercedes-Benz GL-Class GL 350 BlueTEC      2015.0  Mercedes-Benz   \n",
       "4  2015 Mercedes-Benz GL-Class GL 350 BlueTEC      2015.0  Mercedes-Benz   \n",
       "\n",
       "  rtable_price  rtable_seller_phone               rtable_seller_name  \\\n",
       "0      43977.0       (888) 440-2312  Kunes Country Ford Lincoln Inc.   \n",
       "1      43977.0       (888) 440-2312  Kunes Country Ford Lincoln Inc.   \n",
       "2      43977.0       (888) 440-2312  Kunes Country Ford Lincoln Inc.   \n",
       "3      43977.0       (888) 440-2312  Kunes Country Ford Lincoln Inc.   \n",
       "4      43977.0       (888) 440-2312  Kunes Country Ford Lincoln Inc.   \n",
       "\n",
       "  rtable_miles  rtable_exterior_color rtable_interior_color  \n",
       "0      39027.0                    NaN                   NaN  \n",
       "1      39027.0                    NaN                   NaN  \n",
       "2      39027.0                    NaN                   NaN  \n",
       "3      39027.0                    NaN                   NaN  \n",
       "4      39027.0                    NaN                   NaN  \n",
       "\n",
       "[5 rows x 21 columns]"
      ]
     },
     "execution_count": 12,
     "metadata": {},
     "output_type": "execute_result"
    }
   ],
   "source": [
    "C2.head()"
   ]
  },
  {
   "cell_type": "code",
   "execution_count": 13,
   "metadata": {},
   "outputs": [
    {
     "name": "stderr",
     "output_type": "stream",
     "text": [
      "0% [##############################] 100% | ETA: 00:00:00\n",
      "Total time elapsed: 00:00:00\n"
     ]
    }
   ],
   "source": [
    "C3 = ab.block_candset(C2, l_block_attr='maker', r_block_attr='maker')"
   ]
  },
  {
   "cell_type": "code",
   "execution_count": 14,
   "metadata": {},
   "outputs": [
    {
     "data": {
      "text/plain": [
       "32177"
      ]
     },
     "execution_count": 14,
     "metadata": {},
     "output_type": "execute_result"
    }
   ],
   "source": [
    "len(C3)"
   ]
  },
  {
   "cell_type": "markdown",
   "metadata": {},
   "source": [
    "# 1.3 Block on price\n",
    "We assume the price difference is within 2000."
   ]
  },
  {
   "cell_type": "code",
   "execution_count": 15,
   "metadata": {},
   "outputs": [],
   "source": [
    "def price_block(x, y):\n",
    "    x_price = float(x['price'])\n",
    "    y_price = float(y['price'])\n",
    "    if abs(x_price - y_price) > 2000:\n",
    "        return True\n",
    "    else:\n",
    "        return False"
   ]
  },
  {
   "cell_type": "code",
   "execution_count": 16,
   "metadata": {},
   "outputs": [],
   "source": [
    "bb = em.BlackBoxBlocker()"
   ]
  },
  {
   "cell_type": "code",
   "execution_count": 17,
   "metadata": {},
   "outputs": [],
   "source": [
    "bb.set_black_box_function(price_block)"
   ]
  },
  {
   "cell_type": "code",
   "execution_count": 18,
   "metadata": {},
   "outputs": [
    {
     "name": "stderr",
     "output_type": "stream",
     "text": [
      "0% [##############################] 100% | ETA: 00:00:00\n",
      "Total time elapsed: 00:00:01\n"
     ]
    }
   ],
   "source": [
    "C4 = bb.block_candset(C3)"
   ]
  },
  {
   "cell_type": "code",
   "execution_count": 19,
   "metadata": {},
   "outputs": [
    {
     "data": {
      "text/plain": [
       "9798"
      ]
     },
     "execution_count": 19,
     "metadata": {},
     "output_type": "execute_result"
    }
   ],
   "source": [
    "len(C4)"
   ]
  },
  {
   "cell_type": "code",
   "execution_count": 20,
   "metadata": {},
   "outputs": [
    {
     "name": "stdout",
     "output_type": "stream",
     "text": [
      "id: 4731987280\n",
      "key: _id\n",
      "fk_ltable: ltable_vin\n",
      "fk_rtable: rtable_vin\n",
      "ltable(obj.id): 4730138352\n",
      "rtable(obj.id): 4744168224\n"
     ]
    }
   ],
   "source": [
    "em.show_properties(C4)"
   ]
  },
  {
   "cell_type": "markdown",
   "metadata": {},
   "source": [
    "## 1.4 block on miles\n",
    "We assume the miles difference should within 2000"
   ]
  },
  {
   "cell_type": "code",
   "execution_count": 21,
   "metadata": {},
   "outputs": [],
   "source": [
    "def miles_block(x, y):\n",
    "    x_miles = float(x['miles'])\n",
    "    y_miles = float(y['miles'])\n",
    "    if abs(x_miles - y_miles) > 2000:\n",
    "        return True\n",
    "    else:\n",
    "        return False"
   ]
  },
  {
   "cell_type": "code",
   "execution_count": 22,
   "metadata": {},
   "outputs": [],
   "source": [
    "bb.set_black_box_function(miles_block)"
   ]
  },
  {
   "cell_type": "code",
   "execution_count": 23,
   "metadata": {},
   "outputs": [
    {
     "name": "stderr",
     "output_type": "stream",
     "text": [
      "0% [##############################] 100% | ETA: 00:00:00\n",
      "Total time elapsed: 00:00:00\n"
     ]
    }
   ],
   "source": [
    "C5 = bb.block_candset(C4)"
   ]
  },
  {
   "cell_type": "code",
   "execution_count": 24,
   "metadata": {},
   "outputs": [
    {
     "data": {
      "text/plain": [
       "1577"
      ]
     },
     "execution_count": 24,
     "metadata": {},
     "output_type": "execute_result"
    }
   ],
   "source": [
    "len(C5)"
   ]
  },
  {
   "cell_type": "markdown",
   "metadata": {},
   "source": [
    "Now we can move to the next step"
   ]
  },
  {
   "cell_type": "code",
   "execution_count": 25,
   "metadata": {},
   "outputs": [
    {
     "data": {
      "text/plain": [
       "pandas.core.frame.DataFrame"
      ]
     },
     "execution_count": 25,
     "metadata": {},
     "output_type": "execute_result"
    }
   ],
   "source": [
    "type(C5)"
   ]
  },
  {
   "cell_type": "code",
   "execution_count": 26,
   "metadata": {},
   "outputs": [],
   "source": [
    "C5.to_csv('pairs.csv', index=False)"
   ]
  },
  {
   "cell_type": "code",
   "execution_count": 27,
   "metadata": {},
   "outputs": [
    {
     "name": "stdout",
     "output_type": "stream",
     "text": [
      "block.ipynb             down-sampling.ipynb     pairs.csv\r\n",
      "cars_com_clean.csv      market_api_clean.csv    read-csv.ipynb\r\n",
      "cars_com_luxury.csv     market_check_luxury.csv\r\n",
      "cars_sample.csv         market_sample.csv\r\n"
     ]
    }
   ],
   "source": [
    "!ls"
   ]
  },
  {
   "cell_type": "code",
   "execution_count": 28,
   "metadata": {},
   "outputs": [
    {
     "data": {
      "text/plain": [
       "1577"
      ]
     },
     "execution_count": 28,
     "metadata": {},
     "output_type": "execute_result"
    }
   ],
   "source": [
    "len(C5)"
   ]
  },
  {
   "cell_type": "code",
   "execution_count": 29,
   "metadata": {},
   "outputs": [
    {
     "data": {
      "text/html": [
       "<div>\n",
       "<style scoped>\n",
       "    .dataframe tbody tr th:only-of-type {\n",
       "        vertical-align: middle;\n",
       "    }\n",
       "\n",
       "    .dataframe tbody tr th {\n",
       "        vertical-align: top;\n",
       "    }\n",
       "\n",
       "    .dataframe thead th {\n",
       "        text-align: right;\n",
       "    }\n",
       "</style>\n",
       "<table border=\"1\" class=\"dataframe\">\n",
       "  <thead>\n",
       "    <tr style=\"text-align: right;\">\n",
       "      <th></th>\n",
       "      <th>_id</th>\n",
       "      <th>ltable_vin</th>\n",
       "      <th>rtable_vin</th>\n",
       "      <th>ltable_name</th>\n",
       "      <th>ltable_year</th>\n",
       "      <th>ltable_maker</th>\n",
       "      <th>ltable_price</th>\n",
       "      <th>ltable_seller_phone</th>\n",
       "      <th>ltable_seller_name</th>\n",
       "      <th>ltable_miles</th>\n",
       "      <th>...</th>\n",
       "      <th>ltable_interior_color</th>\n",
       "      <th>rtable_name</th>\n",
       "      <th>rtable_year</th>\n",
       "      <th>rtable_maker</th>\n",
       "      <th>rtable_price</th>\n",
       "      <th>rtable_seller_phone</th>\n",
       "      <th>rtable_seller_name</th>\n",
       "      <th>rtable_miles</th>\n",
       "      <th>rtable_exterior_color</th>\n",
       "      <th>rtable_interior_color</th>\n",
       "    </tr>\n",
       "  </thead>\n",
       "  <tbody>\n",
       "    <tr>\n",
       "      <th>2</th>\n",
       "      <td>2</td>\n",
       "      <td>4JGDF2EEXFA490266</td>\n",
       "      <td>4JGDF2EEXFA490266</td>\n",
       "      <td>2015 Mercedes-Benz  GL 350 BlueTEC 4MATIC</td>\n",
       "      <td>2015</td>\n",
       "      <td>Mercedes-Benz</td>\n",
       "      <td>43977.0</td>\n",
       "      <td>(262) 586-4283</td>\n",
       "      <td>Kunes Country Chevrolet Cadillac of Delavan</td>\n",
       "      <td>39027.0</td>\n",
       "      <td>...</td>\n",
       "      <td>Black</td>\n",
       "      <td>2015 Mercedes-Benz GL-Class GL 350 BlueTEC</td>\n",
       "      <td>2015.0</td>\n",
       "      <td>Mercedes-Benz</td>\n",
       "      <td>43977.0</td>\n",
       "      <td>(888) 440-2312</td>\n",
       "      <td>Kunes Country Ford Lincoln Inc.</td>\n",
       "      <td>39027.0</td>\n",
       "      <td>NaN</td>\n",
       "      <td>NaN</td>\n",
       "    </tr>\n",
       "    <tr>\n",
       "      <th>280</th>\n",
       "      <td>280</td>\n",
       "      <td>WBXPC93477WF05281</td>\n",
       "      <td>WBXPC93477WF05281</td>\n",
       "      <td>2007 BMW X3 3.0si</td>\n",
       "      <td>2007</td>\n",
       "      <td>BMW</td>\n",
       "      <td>9795.0</td>\n",
       "      <td>(414) 939-8502</td>\n",
       "      <td>International Autos</td>\n",
       "      <td>21371.0</td>\n",
       "      <td>...</td>\n",
       "      <td>Sand Beige</td>\n",
       "      <td>2007 BMW X3 3.0si SAV</td>\n",
       "      <td>2007.0</td>\n",
       "      <td>BMW</td>\n",
       "      <td>9795.0</td>\n",
       "      <td>NaN</td>\n",
       "      <td>International Alfa Romeo</td>\n",
       "      <td>21371.0</td>\n",
       "      <td>Platinum Bronze</td>\n",
       "      <td>SAND BEIGE</td>\n",
       "    </tr>\n",
       "  </tbody>\n",
       "</table>\n",
       "<p>2 rows × 21 columns</p>\n",
       "</div>"
      ],
      "text/plain": [
       "     _id         ltable_vin         rtable_vin  \\\n",
       "2      2  4JGDF2EEXFA490266  4JGDF2EEXFA490266   \n",
       "280  280  WBXPC93477WF05281  WBXPC93477WF05281   \n",
       "\n",
       "                                   ltable_name  ltable_year   ltable_maker  \\\n",
       "2    2015 Mercedes-Benz  GL 350 BlueTEC 4MATIC         2015  Mercedes-Benz   \n",
       "280                          2007 BMW X3 3.0si         2007            BMW   \n",
       "\n",
       "     ltable_price ltable_seller_phone  \\\n",
       "2         43977.0      (262) 586-4283   \n",
       "280        9795.0      (414) 939-8502   \n",
       "\n",
       "                              ltable_seller_name  ltable_miles  \\\n",
       "2    Kunes Country Chevrolet Cadillac of Delavan       39027.0   \n",
       "280                          International Autos       21371.0   \n",
       "\n",
       "             ...          ltable_interior_color  \\\n",
       "2            ...                          Black   \n",
       "280          ...                     Sand Beige   \n",
       "\n",
       "                                    rtable_name rtable_year   rtable_maker  \\\n",
       "2    2015 Mercedes-Benz GL-Class GL 350 BlueTEC      2015.0  Mercedes-Benz   \n",
       "280                       2007 BMW X3 3.0si SAV      2007.0            BMW   \n",
       "\n",
       "    rtable_price  rtable_seller_phone               rtable_seller_name  \\\n",
       "2        43977.0       (888) 440-2312  Kunes Country Ford Lincoln Inc.   \n",
       "280       9795.0                  NaN         International Alfa Romeo   \n",
       "\n",
       "    rtable_miles  rtable_exterior_color rtable_interior_color  \n",
       "2        39027.0                    NaN                   NaN  \n",
       "280      21371.0        Platinum Bronze            SAND BEIGE  \n",
       "\n",
       "[2 rows x 21 columns]"
      ]
     },
     "execution_count": 29,
     "metadata": {},
     "output_type": "execute_result"
    }
   ],
   "source": [
    "C5.head(2)"
   ]
  },
  {
   "cell_type": "code",
   "execution_count": null,
   "metadata": {},
   "outputs": [],
   "source": []
  }
 ],
 "metadata": {
  "kernelspec": {
   "display_name": "Python (venv3.6)",
   "language": "python",
   "name": "venv3.6"
  },
  "language_info": {
   "codemirror_mode": {
    "name": "ipython",
    "version": 3
   },
   "file_extension": ".py",
   "mimetype": "text/x-python",
   "name": "python",
   "nbconvert_exporter": "python",
   "pygments_lexer": "ipython3",
   "version": "3.6.3"
  }
 },
 "nbformat": 4,
 "nbformat_minor": 2
}
